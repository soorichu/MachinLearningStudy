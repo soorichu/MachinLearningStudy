{
 "cells": [
  {
   "cell_type": "markdown",
   "id": "46b20683",
   "metadata": {},
   "source": [
    "# RNN\n",
    "\n",
    "### 1. Sequential Data(순차적 데이터)\n",
    "- 기계번역 model 비순차적 접근\n",
    "- it is a great honor for me -> 그것은 저에게 큰 영광입니다.\n",
    "- 문제점 : 입력과 출력의 size들이 매번 달라질 수 있음.\n",
    "- 순차적인 단어들 간의 관계 분석에 있어 model이 적절하지 않음.\n",
    "- 단어를 하나씩 순차적으로 입력을 넣으면 앞의 output을 뒷 단어와 함께 입력으로 사용\n",
    "- 장점\n",
    "    - 입력과 출력의 size에 상관 없음\n",
    "    - 순차적 단어들 간의 관계 분석에 적절함. \n",
    "\n",
    "### 2. Sequential Data를 다루는 문제의 예\n",
    "- NLP(Natural Language Processing)\n",
    "- Sensor에서 스트리밍되어 들어오는 신호들의 다음 신호 예측\n",
    "- 음표의 나열 후 다음 음 예측\n",
    "- 현재까지 주가 지수에 기반한 내일 주가 지수 예측\n",
    "- 비디오 움지기는 물체의 다음 프레임 위치 계산\n",
    "- 주로 시계열 데이터에 유용함.\n",
    "\n",
    "### 3. RNN (Recurrent Neural Network)\n",
    "- 순차 데이터를 모델링하는데 최적화된 구조\n",
    "- Sequential data를 추리하는 recurrent layer 존재\n",
    "- 특정 timestep의 cell의 output은 다음 timestep의 input의 일부가 됨.\n",
    "- 과거의 정보가 현재 timestep의 예측에 영향을 미칠 수 있음. "
   ]
  },
  {
   "cell_type": "markdown",
   "id": "ef4f9787",
   "metadata": {},
   "source": [
    "## RNN for MNIST simple"
   ]
  },
  {
   "cell_type": "code",
   "execution_count": 1,
   "id": "32f32da1",
   "metadata": {},
   "outputs": [],
   "source": [
    "import numpy as np\n",
    "import matplotlib.pyplot as plt\n",
    "from tensorflow.keras.models import Sequential\n",
    "from tensorflow.keras.layers import Dense, Activation, SimpleRNN\n",
    "from tensorflow.keras.utils import to_categorical, plot_model\n",
    "from tensorflow.keras import optimizers\n",
    "from tensorflow.keras.datasets import mnist"
   ]
  },
  {
   "cell_type": "code",
   "execution_count": 2,
   "id": "c3294097",
   "metadata": {},
   "outputs": [],
   "source": [
    "(X_train, y_train), (X_test, y_test) = mnist.load_data()"
   ]
  },
  {
   "cell_type": "code",
   "execution_count": 3,
   "id": "1f8d8fa9",
   "metadata": {},
   "outputs": [
    {
     "name": "stdout",
     "output_type": "stream",
     "text": [
      "(60000, 28, 28) (10000, 28, 28)\n",
      "(60000,) (10000,)\n"
     ]
    }
   ],
   "source": [
    "print(X_train.shape, X_test.shape)\n",
    "print(y_train.shape, y_test.shape)"
   ]
  },
  {
   "cell_type": "code",
   "execution_count": 5,
   "id": "7a469628",
   "metadata": {},
   "outputs": [
    {
     "name": "stdout",
     "output_type": "stream",
     "text": [
      "unique: [0 1 2 3 4 5 6 7 8 9] , counts: [5923 6742 5958 6131 5842 5421 5918 6265 5851 5949]\n",
      "train labels: {0: 5923, 1: 6742, 2: 5958, 3: 6131, 4: 5842, 5: 5421, 6: 5918, 7: 6265, 8: 5851, 9: 5949}\n"
     ]
    }
   ],
   "source": [
    "unique, counts = np.unique(y_train, return_counts = True)\n",
    "print(\"unique:\", unique, \", counts:\", counts)\n",
    "print(\"train labels:\", dict(zip(unique, counts)))"
   ]
  },
  {
   "cell_type": "code",
   "execution_count": 6,
   "id": "401b5028",
   "metadata": {},
   "outputs": [
    {
     "name": "stdout",
     "output_type": "stream",
     "text": [
      "10\n"
     ]
    }
   ],
   "source": [
    "num_labels = len(np.unique(y_train))\n",
    "print(num_labels)"
   ]
  },
  {
   "cell_type": "code",
   "execution_count": 7,
   "id": "05aa4551",
   "metadata": {},
   "outputs": [
    {
     "name": "stdout",
     "output_type": "stream",
     "text": [
      "(60000, 10) (10000, 10)\n"
     ]
    }
   ],
   "source": [
    "# one-hot encoding\n",
    "y_train2 = to_categorical(y_train)\n",
    "y_test2 = to_categorical(y_test)\n",
    "print(y_train2.shape, y_test2.shape)"
   ]
  },
  {
   "cell_type": "code",
   "execution_count": 10,
   "id": "267026ab",
   "metadata": {},
   "outputs": [
    {
     "name": "stdout",
     "output_type": "stream",
     "text": [
      "(60000, 28, 28) (10000, 28, 28)\n"
     ]
    }
   ],
   "source": [
    "image_size = X_train.shape[1]\n",
    "X_train2 = np.reshape(X_train, [-1, image_size, image_size])\n",
    "X_test2 = np.reshape(X_test, [-1, image_size, image_size])\n",
    "\n",
    "# pixel의 최댓값 255로 나누어서 [0, 1] 값으로 바꿈. \n",
    "X_train3 = X_train2.astype('float32')/255\n",
    "X_test3 = X_test2.astype('float32')/255\n",
    "print(X_train3.shape, X_test3.shape)"
   ]
  },
  {
   "cell_type": "code",
   "execution_count": 11,
   "id": "5737347c",
   "metadata": {},
   "outputs": [],
   "source": [
    "input_shape = (image_size, image_size)\n",
    "batch_size = 128\n",
    "units = 256\n",
    "dropout = 0.2"
   ]
  },
  {
   "cell_type": "code",
   "execution_count": 24,
   "id": "f098bc1f",
   "metadata": {},
   "outputs": [
    {
     "name": "stdout",
     "output_type": "stream",
     "text": [
      "Model: \"sequential_5\"\n",
      "_________________________________________________________________\n",
      "Layer (type)                 Output Shape              Param #   \n",
      "=================================================================\n",
      "simple_rnn_4 (SimpleRNN)     (None, 256)               72960     \n",
      "_________________________________________________________________\n",
      "dense_3 (Dense)              (None, 10)                2570      \n",
      "_________________________________________________________________\n",
      "activation_3 (Activation)    (None, 10)                0         \n",
      "=================================================================\n",
      "Total params: 75,530\n",
      "Trainable params: 75,530\n",
      "Non-trainable params: 0\n",
      "_________________________________________________________________\n"
     ]
    }
   ],
   "source": [
    "model = Sequential()\n",
    "model.add(SimpleRNN(units=units, dropout=dropout, input_shape=input_shape))\n",
    "model.add(Dense(num_labels))\n",
    "model.add(Activation('softmax'))\n",
    "model.summary()"
   ]
  },
  {
   "cell_type": "code",
   "execution_count": 19,
   "id": "2e011047",
   "metadata": {},
   "outputs": [],
   "source": [
    "adam = optimizers.Adam(learning_rate = 0.001)\n",
    "model.compile(loss='categorical_crossentropy',\n",
    "              optimizer=adam,\n",
    "              metrics=['accuracy'])"
   ]
  },
  {
   "cell_type": "code",
   "execution_count": 20,
   "id": "3183f289",
   "metadata": {},
   "outputs": [
    {
     "name": "stdout",
     "output_type": "stream",
     "text": [
      "Epoch 1/3\n",
      "375/375 [==============================] - 15s 38ms/step - loss: 0.4286 - accuracy: 0.8688 - val_loss: 0.2264 - val_accuracy: 0.9342\n",
      "Epoch 2/3\n",
      "375/375 [==============================] - 14s 38ms/step - loss: 0.2172 - accuracy: 0.9348 - val_loss: 0.1759 - val_accuracy: 0.9475\n",
      "Epoch 3/3\n",
      "375/375 [==============================] - 14s 38ms/step - loss: 0.1725 - accuracy: 0.9495 - val_loss: 0.1583 - val_accuracy: 0.9566\n"
     ]
    }
   ],
   "source": [
    "history = model.fit(X_train3, y_train2, epochs=3, batch_size = batch_size, validation_split=0.2, verbose=1)"
   ]
  },
  {
   "cell_type": "code",
   "execution_count": 21,
   "id": "074d4d41",
   "metadata": {},
   "outputs": [
    {
     "data": {
      "image/png": "[encoded data removed]",
      "text/plain": [
       "<Figure size 432x288 with 1 Axes>"
      ]
     },
     "metadata": {
      "needs_background": "light"
     },
     "output_type": "display_data"
    }
   ],
   "source": [
    "plt.plot(history.history['accuracy'])\n",
    "plt.plot(history.history['val_accuracy'])\n",
    "plt.legend(['training', 'validation'], loc = 'upper left')\n",
    "plt.show()"
   ]
  },
  {
   "cell_type": "code",
   "execution_count": 23,
   "id": "0e484800",
   "metadata": {},
   "outputs": [
    {
     "name": "stdout",
     "output_type": "stream",
     "text": [
      "79/79 [==============================] - 1s 11ms/step - loss: 0.1535 - accuracy: 0.9518\n",
      "Test Accuracy 95.2%\n"
     ]
    }
   ],
   "source": [
    "loss, accuracy = model.evaluate(X_test3, y_test2, batch_size=batch_size)\n",
    "print(\"Test Accuracy %.1f%%\" % (100.0 * accuracy))"
   ]
  },
  {
   "cell_type": "code",
   "execution_count": null,
   "id": "7c56f8f5",
   "metadata": {},
   "outputs": [],
   "source": [
    "# RNN input tensor shape : (batch_size, timesteps, input_dim)\n",
    "\n",
    "# 예를 들어 \n",
    "\n",
    "# x = [\n",
    "#       [[1, 2, 3], [4, 5, 6]],\n",
    "#       [[4, 5, 6], [7, 8, 9]],\n",
    "#       [[7, 8, 9], [1, 2, 3]]\n",
    "#     ]\n",
    "    \n",
    "# [1, 2, 3]              -> 3 input_dim\n",
    "\n",
    "# [1, 2, 3], [4, 5, 6]   -> 2 timestpes\n",
    "\n",
    "# [[1, 2, 3], [4, 5, 6]],\n",
    "# [[4, 5, 6], [7, 8, 9]],\n",
    "# [[7, 8, 9], [1, 2, 3]] -> 3 batch_size"
   ]
  },
  {
   "cell_type": "code",
   "execution_count": null,
   "id": "c9d76037",
   "metadata": {},
   "outputs": [],
   "source": []
  }
 ],
 "metadata": {
  "kernelspec": {
   "display_name": "Python 3",
   "language": "python",
   "name": "python3"
  },
  "language_info": {
   "codemirror_mode": {
    "name": "ipython",
    "version": 3
   },
   "file_extension": ".py",
   "mimetype": "text/x-python",
   "name": "python",
   "nbconvert_exporter": "python",
   "pygments_lexer": "ipython3",
   "version": "3.8.8"
  }
 },
 "nbformat": 4,
 "nbformat_minor": 5
}
