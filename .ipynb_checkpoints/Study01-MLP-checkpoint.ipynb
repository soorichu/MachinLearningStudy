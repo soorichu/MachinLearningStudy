{
 "cells": [
  {
   "cell_type": "markdown",
   "id": "3692c5d2",
   "metadata": {},
   "source": [
    "# MLP(Multi-Layer Perceptron)\n",
    "### 1. Regression Task\n",
    "- 예측하고자 하는 변수 y가 연속적인 값을 가질 때\n",
    "- 예 : age에 따른 height 예측 (age, height) = (12, 153), ..., 32세 일때는? \n",
    "\n",
    "### 2. loss function 와 evaluation metric\n",
    "- 예측치와 실제 값을 뺀 후에 제곱하여 평균한 평균 제곱 오차(MSE)\n",
    "\n",
    "### 3. Neuron\n",
    "- $ Neuron = F(x_1 , x_2 , ... , x_m) = y = \\Big( \\sum_{i=1}^{m} {w_i x_i } \\Big) + b $\n",
    "- Neuron의 의미 : 많은 데이터를 가지고 $w_i$(weight)들과 $b$의 값을 찾아내는 것이 ML의 과정\n",
    "- hidden layer가 많아질 수록 직선이 아닌 차수가 늘어난다. \n",
    "\n",
    "### 4. Activation function \n",
    "- output y를 입력으로 f(y)를 계산\n",
    "- 선형 시스템을 비선형으로 바꾸어줌\n",
    "- sigmoid, relu, tanh, leaky relu, maxout, elu 등\n",
    "\n",
    "### 5. Loss Function\n",
    "- $ L(w_1, w_2, ... , b_1, b_2, ...) = \\sum_{i=1}^{n} {\\big(F(X_i) - y_i \\big)^2} $\n",
    "- 이상적인 Loss function은 L = 0이 되는 것이다. \n",
    "- L을 minimize 하는 과정에서 F 함수의 계수들($w_i, b$)이 구해지면서 이 과정은 optimization 이라는 학문 분야로 연구되어 옴. \n",
    "\n",
    "### 6. Optimization\n",
    "- $ \\frac{dF}{dx} = 0$일 때, local minimum/maximum(극소/극대)값을 가짐.\n",
    "- GD(Gradient Descent) Minimization \n",
    "  - $ x_{t+1} = x_t - \\epsilon y'(-0.5) \\space \\big(\\epsilon = 0.01로 두고 시작. \\frac{dy}{dx}=0일 때까지 반복\\big) $ \n",
    "- SGD(Stochastic Gradient Descent) Minimization\n",
    "  - 전체 training data를 여러 개의 mini batch로 나눔\n",
    "  - batch_size = $ 2^n $ \n",
    "  - gradient tensor를 이용하여 GD보다 계산량이 적고 local minima에 빠지지 않음.\n",
    "  - Adam, RMSprop : 변형된 SGD\n",
    "  \n",
    "### 7. Hyperparameters\n",
    "- 모델이 아니라 학습 알고리즘의 parameter\n",
    "- 트레이닝 전에 지정하며, 이 파라메터 튜닝이 매우 중요함. \n",
    "- 예 : learning rate, epoch, loss function, batch size, layer number, parameter 추기값, regulation term의 parameter, optimization algorithm 등\n",
    "- 최적의 hyperparmeter 찾는 법 : grid search, random search, "
   ]
  },
  {
   "cell_type": "markdown",
   "id": "6e30e2db",
   "metadata": {},
   "source": [
    "## Boston Housing Dataset\n",
    "- Data 506 = training 404 + test 102\n",
    "- X(13) : crim, indus, nox, rm, lstat, b, ptratio, zn, chas, age, rad, dis, tax\n",
    "- Y : median value of house (in $1000)"
   ]
  },
  {
   "cell_type": "code",
   "execution_count": 2,
   "id": "7e3c6194",
   "metadata": {},
   "outputs": [],
   "source": [
    "from tensorflow.keras.datasets import boston_housing\n",
    "from tensorflow.keras.models import Sequential\n",
    "from tensorflow.keras.layers import Activation, Dense\n",
    "from tensorflow.keras import optimizers"
   ]
  },
  {
   "cell_type": "code",
   "execution_count": 4,
   "id": "84a80b6d",
   "metadata": {},
   "outputs": [],
   "source": [
    "(X_train, y_train), (X_test, y_test) = boston_housing.load_data()"
   ]
  },
  {
   "cell_type": "code",
   "execution_count": 9,
   "id": "25a20389",
   "metadata": {},
   "outputs": [
    {
     "name": "stdout",
     "output_type": "stream",
     "text": [
      "(404, 13) (102, 13) (404,) (102,)\n",
      "[  1.23247   0.        8.14      0.        0.538     6.142    91.7\n",
      "   3.9769    4.      307.       21.      396.9      18.72   ]\n",
      "15.2\n",
      "[ 18.0846   0.      18.1      0.       0.679    6.434  100.       1.8347\n",
      "  24.     666.      20.2     27.25    29.05  ]\n",
      "7.2\n"
     ]
    }
   ],
   "source": [
    "print(X_train.shape, X_test.shape, y_train.shape, y_test.shape)\n",
    "print(X_train[0])\n",
    "print(y_train[0])\n",
    "print(X_test[0])\n",
    "print(y_test[0])"
   ]
  },
  {
   "cell_type": "code",
   "execution_count": 25,
   "id": "1635e209",
   "metadata": {},
   "outputs": [],
   "source": [
    "model = Sequential()"
   ]
  },
  {
   "cell_type": "code",
   "execution_count": 26,
   "id": "5d4a2691",
   "metadata": {},
   "outputs": [],
   "source": [
    "model.add(Dense(10, input_shape=X_train[0].shape, activation='sigmoid'))\n",
    "model.add(Dense(10, activation='sigmoid'))\n",
    "model.add(Dense(10, activation='sigmoid'))\n",
    "model.add(Dense(1))"
   ]
  },
  {
   "cell_type": "code",
   "execution_count": 27,
   "id": "d9882e15",
   "metadata": {},
   "outputs": [],
   "source": [
    "sgd = optimizers.SGD(lr = 0.01)"
   ]
  },
  {
   "cell_type": "code",
   "execution_count": 28,
   "id": "6886010e",
   "metadata": {},
   "outputs": [],
   "source": [
    "model.compile(optimizer=sgd, loss=\"mean_squared_error\", metrics=['mse'])"
   ]
  },
  {
   "cell_type": "code",
   "execution_count": 29,
   "id": "96f206a5",
   "metadata": {},
   "outputs": [
    {
     "name": "stdout",
     "output_type": "stream",
     "text": [
      "Model: \"sequential_2\"\n",
      "_________________________________________________________________\n",
      "Layer (type)                 Output Shape              Param #   \n",
      "=================================================================\n",
      "dense_12 (Dense)             (None, 10)                140       \n",
      "_________________________________________________________________\n",
      "dense_13 (Dense)             (None, 10)                110       \n",
      "_________________________________________________________________\n",
      "dense_14 (Dense)             (None, 10)                110       \n",
      "_________________________________________________________________\n",
      "dense_15 (Dense)             (None, 1)                 11        \n",
      "=================================================================\n",
      "Total params: 371\n",
      "Trainable params: 371\n",
      "Non-trainable params: 0\n",
      "_________________________________________________________________\n"
     ]
    }
   ],
   "source": [
    "model.summary()"
   ]
  },
  {
   "cell_type": "code",
   "execution_count": 30,
   "id": "f56eef57",
   "metadata": {},
   "outputs": [
    {
     "name": "stdout",
     "output_type": "stream",
     "text": [
      "Epoch 1/100\n",
      "9/9 [==============================] - 0s 2ms/step - loss: 360.9702 - mse: 360.9703\n",
      "Epoch 2/100\n",
      "9/9 [==============================] - 0s 1ms/step - loss: 102.5922 - mse: 102.5922\n",
      "Epoch 3/100\n",
      "9/9 [==============================] - 0s 2ms/step - loss: 84.5195 - mse: 84.5195\n",
      "Epoch 4/100\n",
      "9/9 [==============================] - 0s 2ms/step - loss: 84.4042 - mse: 84.4042\n",
      "Epoch 5/100\n",
      "9/9 [==============================] - 0s 2ms/step - loss: 84.4453 - mse: 84.4453\n",
      "Epoch 6/100\n",
      "9/9 [==============================] - 0s 2ms/step - loss: 84.8954 - mse: 84.8954\n",
      "Epoch 7/100\n",
      "9/9 [==============================] - 0s 2ms/step - loss: 84.6805 - mse: 84.6805\n",
      "Epoch 8/100\n",
      "9/9 [==============================] - 0s 2ms/step - loss: 84.1549 - mse: 84.1549\n",
      "Epoch 9/100\n",
      "9/9 [==============================] - 0s 2ms/step - loss: 84.3387 - mse: 84.3387\n",
      "Epoch 10/100\n",
      "9/9 [==============================] - 0s 2ms/step - loss: 84.6060 - mse: 84.6060\n",
      "Epoch 11/100\n",
      "9/9 [==============================] - 0s 2ms/step - loss: 84.0074 - mse: 84.0074\n",
      "Epoch 12/100\n",
      "9/9 [==============================] - 0s 2ms/step - loss: 84.6013 - mse: 84.6013\n",
      "Epoch 13/100\n",
      "9/9 [==============================] - 0s 2ms/step - loss: 83.6142 - mse: 83.6142\n",
      "Epoch 14/100\n",
      "9/9 [==============================] - 0s 2ms/step - loss: 83.2663 - mse: 83.2663\n",
      "Epoch 15/100\n",
      "9/9 [==============================] - 0s 2ms/step - loss: 83.0598 - mse: 83.0598\n",
      "Epoch 16/100\n",
      "9/9 [==============================] - 0s 3ms/step - loss: 84.8821 - mse: 84.8821\n",
      "Epoch 17/100\n",
      "9/9 [==============================] - 0s 2ms/step - loss: 84.9687 - mse: 84.9687\n",
      "Epoch 18/100\n",
      "9/9 [==============================] - 0s 2ms/step - loss: 85.4236 - mse: 85.4236\n",
      "Epoch 19/100\n",
      "9/9 [==============================] - 0s 2ms/step - loss: 85.2423 - mse: 85.2423\n",
      "Epoch 20/100\n",
      "9/9 [==============================] - 0s 2ms/step - loss: 84.9778 - mse: 84.9778\n",
      "Epoch 21/100\n",
      "9/9 [==============================] - 0s 2ms/step - loss: 85.3863 - mse: 85.3862\n",
      "Epoch 22/100\n",
      "9/9 [==============================] - 0s 2ms/step - loss: 85.4417 - mse: 85.4417\n",
      "Epoch 23/100\n",
      "9/9 [==============================] - 0s 3ms/step - loss: 85.6827 - mse: 85.6827\n",
      "Epoch 24/100\n",
      "9/9 [==============================] - 0s 2ms/step - loss: 85.3296 - mse: 85.3296\n",
      "Epoch 25/100\n",
      "9/9 [==============================] - 0s 2ms/step - loss: 84.7311 - mse: 84.7311\n",
      "Epoch 26/100\n",
      "9/9 [==============================] - 0s 2ms/step - loss: 85.4462 - mse: 85.4462\n",
      "Epoch 27/100\n",
      "9/9 [==============================] - 0s 2ms/step - loss: 85.2279 - mse: 85.2279\n",
      "Epoch 28/100\n",
      "9/9 [==============================] - 0s 2ms/step - loss: 84.8795 - mse: 84.8795\n",
      "Epoch 29/100\n",
      "9/9 [==============================] - 0s 2ms/step - loss: 85.8300 - mse: 85.8300\n",
      "Epoch 30/100\n",
      "9/9 [==============================] - 0s 2ms/step - loss: 85.1982 - mse: 85.1982\n",
      "Epoch 31/100\n",
      "9/9 [==============================] - 0s 2ms/step - loss: 84.7805 - mse: 84.7805\n",
      "Epoch 32/100\n",
      "9/9 [==============================] - 0s 2ms/step - loss: 85.1218 - mse: 85.1218\n",
      "Epoch 33/100\n",
      "9/9 [==============================] - 0s 2ms/step - loss: 85.2539 - mse: 85.2539\n",
      "Epoch 34/100\n",
      "9/9 [==============================] - 0s 2ms/step - loss: 85.2910 - mse: 85.2910\n",
      "Epoch 35/100\n",
      "9/9 [==============================] - 0s 2ms/step - loss: 85.4049 - mse: 85.4049\n",
      "Epoch 36/100\n",
      "9/9 [==============================] - 0s 2ms/step - loss: 85.0258 - mse: 85.0258\n",
      "Epoch 37/100\n",
      "9/9 [==============================] - 0s 1ms/step - loss: 85.5559 - mse: 85.5559\n",
      "Epoch 38/100\n",
      "9/9 [==============================] - 0s 2ms/step - loss: 84.9476 - mse: 84.9476\n",
      "Epoch 39/100\n",
      "9/9 [==============================] - 0s 2ms/step - loss: 84.8577 - mse: 84.8577\n",
      "Epoch 40/100\n",
      "9/9 [==============================] - 0s 3ms/step - loss: 85.1244 - mse: 85.1244\n",
      "Epoch 41/100\n",
      "9/9 [==============================] - 0s 2ms/step - loss: 84.7623 - mse: 84.7623\n",
      "Epoch 42/100\n",
      "9/9 [==============================] - 0s 2ms/step - loss: 84.8360 - mse: 84.8360\n",
      "Epoch 43/100\n",
      "9/9 [==============================] - 0s 3ms/step - loss: 86.1054 - mse: 86.1054\n",
      "Epoch 44/100\n",
      "9/9 [==============================] - 0s 2ms/step - loss: 84.7762 - mse: 84.7762\n",
      "Epoch 45/100\n",
      "9/9 [==============================] - 0s 2ms/step - loss: 84.8047 - mse: 84.8047\n",
      "Epoch 46/100\n",
      "9/9 [==============================] - 0s 2ms/step - loss: 85.6564 - mse: 85.6564\n",
      "Epoch 47/100\n",
      "9/9 [==============================] - 0s 3ms/step - loss: 85.0649 - mse: 85.0649\n",
      "Epoch 48/100\n",
      "9/9 [==============================] - 0s 2ms/step - loss: 85.1881 - mse: 85.1881\n",
      "Epoch 49/100\n",
      "9/9 [==============================] - 0s 2ms/step - loss: 84.9541 - mse: 84.9541\n",
      "Epoch 50/100\n",
      "9/9 [==============================] - 0s 2ms/step - loss: 84.9283 - mse: 84.9283\n",
      "Epoch 51/100\n",
      "9/9 [==============================] - 0s 2ms/step - loss: 86.1230 - mse: 86.1230\n",
      "Epoch 52/100\n",
      "9/9 [==============================] - 0s 2ms/step - loss: 85.2694 - mse: 85.2694\n",
      "Epoch 53/100\n",
      "9/9 [==============================] - 0s 2ms/step - loss: 85.2013 - mse: 85.2013\n",
      "Epoch 54/100\n",
      "9/9 [==============================] - 0s 1ms/step - loss: 86.7352 - mse: 86.7352\n",
      "Epoch 55/100\n",
      "9/9 [==============================] - 0s 2ms/step - loss: 85.2152 - mse: 85.2152\n",
      "Epoch 56/100\n",
      "9/9 [==============================] - 0s 2ms/step - loss: 84.7226 - mse: 84.7226\n",
      "Epoch 57/100\n",
      "9/9 [==============================] - 0s 1ms/step - loss: 84.9650 - mse: 84.9650\n",
      "Epoch 58/100\n",
      "9/9 [==============================] - 0s 1ms/step - loss: 84.9715 - mse: 84.9715\n",
      "Epoch 59/100\n",
      "9/9 [==============================] - 0s 2ms/step - loss: 84.7509 - mse: 84.7509\n",
      "Epoch 60/100\n",
      "9/9 [==============================] - 0s 2ms/step - loss: 85.2368 - mse: 85.2368\n",
      "Epoch 61/100\n",
      "9/9 [==============================] - 0s 1ms/step - loss: 85.2784 - mse: 85.2783\n",
      "Epoch 62/100\n",
      "9/9 [==============================] - 0s 1ms/step - loss: 85.1540 - mse: 85.1540\n",
      "Epoch 63/100\n",
      "9/9 [==============================] - 0s 1ms/step - loss: 85.4626 - mse: 85.4626\n",
      "Epoch 64/100\n",
      "9/9 [==============================] - 0s 2ms/step - loss: 85.0387 - mse: 85.0387\n",
      "Epoch 65/100\n",
      "9/9 [==============================] - 0s 2ms/step - loss: 85.7380 - mse: 85.7380\n",
      "Epoch 66/100\n",
      "9/9 [==============================] - 0s 1ms/step - loss: 85.2635 - mse: 85.2635\n",
      "Epoch 67/100\n",
      "9/9 [==============================] - 0s 2ms/step - loss: 85.3899 - mse: 85.3899\n",
      "Epoch 68/100\n",
      "9/9 [==============================] - 0s 1ms/step - loss: 85.0382 - mse: 85.0382\n",
      "Epoch 69/100\n",
      "9/9 [==============================] - 0s 1ms/step - loss: 84.8463 - mse: 84.8463\n",
      "Epoch 70/100\n",
      "9/9 [==============================] - 0s 2ms/step - loss: 85.3994 - mse: 85.3994\n",
      "Epoch 71/100\n",
      "9/9 [==============================] - 0s 2ms/step - loss: 85.0935 - mse: 85.0935\n",
      "Epoch 72/100\n",
      "9/9 [==============================] - 0s 2ms/step - loss: 85.3803 - mse: 85.3803\n",
      "Epoch 73/100\n",
      "9/9 [==============================] - 0s 2ms/step - loss: 85.4005 - mse: 85.4005\n",
      "Epoch 74/100\n",
      "9/9 [==============================] - 0s 2ms/step - loss: 84.7493 - mse: 84.7493\n",
      "Epoch 75/100\n",
      "9/9 [==============================] - 0s 2ms/step - loss: 84.8169 - mse: 84.8169\n",
      "Epoch 76/100\n",
      "9/9 [==============================] - 0s 2ms/step - loss: 85.0108 - mse: 85.0108\n",
      "Epoch 77/100\n",
      "9/9 [==============================] - 0s 2ms/step - loss: 84.9963 - mse: 84.9963\n",
      "Epoch 78/100\n",
      "9/9 [==============================] - 0s 2ms/step - loss: 84.8670 - mse: 84.8670\n",
      "Epoch 79/100\n",
      "9/9 [==============================] - 0s 1ms/step - loss: 84.9764 - mse: 84.9764\n",
      "Epoch 80/100\n",
      "9/9 [==============================] - 0s 1ms/step - loss: 85.0982 - mse: 85.0982\n",
      "Epoch 81/100\n",
      "9/9 [==============================] - 0s 1ms/step - loss: 84.8298 - mse: 84.8298\n",
      "Epoch 82/100\n",
      "9/9 [==============================] - 0s 1ms/step - loss: 85.2564 - mse: 85.2564\n",
      "Epoch 83/100\n",
      "9/9 [==============================] - 0s 1ms/step - loss: 84.9885 - mse: 84.9885\n",
      "Epoch 84/100\n",
      "9/9 [==============================] - 0s 1ms/step - loss: 85.2169 - mse: 85.2169\n",
      "Epoch 85/100\n",
      "9/9 [==============================] - 0s 1ms/step - loss: 85.0012 - mse: 85.0012\n",
      "Epoch 86/100\n",
      "9/9 [==============================] - 0s 2ms/step - loss: 85.2409 - mse: 85.2409\n",
      "Epoch 87/100\n"
     ]
    },
    {
     "name": "stdout",
     "output_type": "stream",
     "text": [
      "9/9 [==============================] - 0s 1ms/step - loss: 85.0099 - mse: 85.0099\n",
      "Epoch 88/100\n",
      "9/9 [==============================] - 0s 1ms/step - loss: 84.9045 - mse: 84.9045\n",
      "Epoch 89/100\n",
      "9/9 [==============================] - 0s 2ms/step - loss: 84.8633 - mse: 84.8633\n",
      "Epoch 90/100\n",
      "9/9 [==============================] - 0s 2ms/step - loss: 85.3406 - mse: 85.3406\n",
      "Epoch 91/100\n",
      "9/9 [==============================] - 0s 2ms/step - loss: 84.8747 - mse: 84.8747\n",
      "Epoch 92/100\n",
      "9/9 [==============================] - 0s 2ms/step - loss: 84.9811 - mse: 84.9811\n",
      "Epoch 93/100\n",
      "9/9 [==============================] - 0s 2ms/step - loss: 84.7246 - mse: 84.7246\n",
      "Epoch 94/100\n",
      "9/9 [==============================] - 0s 1ms/step - loss: 85.1169 - mse: 85.1169\n",
      "Epoch 95/100\n",
      "9/9 [==============================] - 0s 1ms/step - loss: 85.3449 - mse: 85.3449\n",
      "Epoch 96/100\n",
      "9/9 [==============================] - 0s 2ms/step - loss: 84.8523 - mse: 84.8523\n",
      "Epoch 97/100\n",
      "9/9 [==============================] - 0s 2ms/step - loss: 84.7446 - mse: 84.7446\n",
      "Epoch 98/100\n",
      "9/9 [==============================] - 0s 2ms/step - loss: 85.6062 - mse: 85.6062\n",
      "Epoch 99/100\n",
      "9/9 [==============================] - 0s 2ms/step - loss: 86.3144 - mse: 86.3144\n",
      "Epoch 100/100\n",
      "9/9 [==============================] - 0s 3ms/step - loss: 85.3246 - mse: 85.3246\n"
     ]
    },
    {
     "data": {
      "text/plain": [
       "<tensorflow.python.keras.callbacks.History at 0x2a561a3e2b0>"
      ]
     },
     "execution_count": 30,
     "metadata": {},
     "output_type": "execute_result"
    }
   ],
   "source": [
    "model.fit(X_train, y_train, batch_size=50, epochs=100, verbose=1)"
   ]
  },
  {
   "cell_type": "code",
   "execution_count": 31,
   "id": "6cf306ab",
   "metadata": {},
   "outputs": [
    {
     "name": "stdout",
     "output_type": "stream",
     "text": [
      "4/4 [==============================] - 0s 2ms/step - loss: 83.2714 - mse: 83.2714\n"
     ]
    }
   ],
   "source": [
    "results = model.evaluate(X_test, y_test)"
   ]
  },
  {
   "cell_type": "code",
   "execution_count": 32,
   "id": "a0dd81d7",
   "metadata": {},
   "outputs": [
    {
     "name": "stdout",
     "output_type": "stream",
     "text": [
      "Loss:  83.27144622802734\n",
      "mse:  83.27144622802734\n"
     ]
    }
   ],
   "source": [
    "print('Loss: ', results[0])\n",
    "print('mse: ', results[1])"
   ]
  },
  {
   "cell_type": "code",
   "execution_count": null,
   "id": "2974ef5c",
   "metadata": {},
   "outputs": [],
   "source": []
  }
 ],
 "metadata": {
  "kernelspec": {
   "display_name": "Python 3",
   "language": "python",
   "name": "python3"
  },
  "language_info": {
   "codemirror_mode": {
    "name": "ipython",
    "version": 3
   },
   "file_extension": ".py",
   "mimetype": "text/x-python",
   "name": "python",
   "nbconvert_exporter": "python",
   "pygments_lexer": "ipython3",
   "version": "3.8.8"
  }
 },
 "nbformat": 4,
 "nbformat_minor": 5
}
