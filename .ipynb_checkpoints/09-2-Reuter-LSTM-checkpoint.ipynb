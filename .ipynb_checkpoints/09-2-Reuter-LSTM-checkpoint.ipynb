{
 "cells": [
  {
   "cell_type": "code",
   "execution_count": 1,
   "metadata": {
    "colab": {
     "base_uri": "https://localhost:8080/",
     "height": 34
    },
    "colab_type": "code",
    "executionInfo": {
     "elapsed": 2444,
     "status": "ok",
     "timestamp": 1576817866939,
     "user": {
      "displayName": "Inkwon Lee",
      "photoUrl": "https://lh3.googleusercontent.com/a-/AAuE7mAUimr4LLwG9jQhtI6v5Xoc_6W20KURwYIwyWfFlw=s64",
      "userId": "04142475634544618262"
     },
     "user_tz": -540
    },
    "id": "nrHQGbrMozbf",
    "outputId": "1f5c4d06-3b17-4860-a8c7-f0253a8d9d83"
   },
   "outputs": [
    {
     "name": "stdout",
     "output_type": "stream",
     "text": [
      "TensorFlow 2.x selected.\n"
     ]
    }
   ],
   "source": [
    "%tensorflow_version 2.x"
   ]
  },
  {
   "cell_type": "code",
   "execution_count": 0,
   "metadata": {
    "colab": {},
    "colab_type": "code",
    "id": "Av5zOptK-YfO"
   },
   "outputs": [],
   "source": [
    "import numpy as np\n",
    "import matplotlib.pyplot as plt\n",
    "from sklearn.metrics import accuracy_score\n",
    "from tensorflow.keras.datasets import reuters\n",
    "from tensorflow.keras.preprocessing.sequence import pad_sequences\n",
    "from tensorflow.keras.utils import to_categorical, plot_model"
   ]
  },
  {
   "cell_type": "code",
   "execution_count": 0,
   "metadata": {
    "colab": {},
    "colab_type": "code",
    "id": "5n0aIdgi-vfi"
   },
   "outputs": [],
   "source": [
    "# parameters for data load\n",
    "num_words = 30000\n",
    "maxlen = 50\n",
    "test_split = 0.3"
   ]
  },
  {
   "cell_type": "code",
   "execution_count": 4,
   "metadata": {
    "colab": {
     "base_uri": "https://localhost:8080/",
     "height": 85
    },
    "colab_type": "code",
    "executionInfo": {
     "elapsed": 9646,
     "status": "ok",
     "timestamp": 1576817874173,
     "user": {
      "displayName": "Inkwon Lee",
      "photoUrl": "https://lh3.googleusercontent.com/a-/AAuE7mAUimr4LLwG9jQhtI6v5Xoc_6W20KURwYIwyWfFlw=s64",
      "userId": "04142475634544618262"
     },
     "user_tz": -540
    },
    "id": "9CKtN5_z-0GF",
    "outputId": "19abe3c1-9434-478b-fa9f-f508ffb61735"
   },
   "outputs": [
    {
     "name": "stdout",
     "output_type": "stream",
     "text": [
      "Downloading data from https://storage.googleapis.com/tensorflow/tf-keras-datasets/reuters.npz\n",
      "2113536/2110848 [==============================] - 0s 0us/step\n",
      "(8982,) (8982,) (2246,) (2246,)\n",
      "(1395,) (1395,) (599,) (599,)\n"
     ]
    }
   ],
   "source": [
    "(X_train, y_train), (X_test, y_test) = reuters.load_data()\n",
    "print(X_train.shape, y_train.shape, X_test.shape, y_test.shape)\n",
    "# num_words = 30000: 포함될 최대 단어수 (단어 index 수), 즉 여기서는 출현횟수 기준 30000번째 빈도 단어까지만 포함\n",
    "# maxlen = 50: 문장의 길이가 50개 이상인 기사들은 제외함. 이것으로 11,228개 기사가 1,994개 기사로 줄어들게 됨\n",
    "(X_train, y_train), (X_test, y_test) = reuters.load_data(num_words = num_words, maxlen = maxlen, test_split = test_split)\n",
    "print(X_train.shape, y_train.shape, X_test.shape, y_test.shape)"
   ]
  },
  {
   "cell_type": "code",
   "execution_count": 5,
   "metadata": {
    "colab": {
     "base_uri": "https://localhost:8080/",
     "height": 34
    },
    "colab_type": "code",
    "executionInfo": {
     "elapsed": 9199,
     "status": "ok",
     "timestamp": 1576817874174,
     "user": {
      "displayName": "Inkwon Lee",
      "photoUrl": "https://lh3.googleusercontent.com/a-/AAuE7mAUimr4LLwG9jQhtI6v5Xoc_6W20KURwYIwyWfFlw=s64",
      "userId": "04142475634544618262"
     },
     "user_tz": -540
    },
    "id": "P0vWbKCX-26F",
    "outputId": "114154da-c1f5-406e-ddd5-8fd17c56c1a6"
   },
   "outputs": [
    {
     "name": "stdout",
     "output_type": "stream",
     "text": [
      "(1395, 49) (599, 49)\n"
     ]
    }
   ],
   "source": [
    "# pad the sequences with zeros \n",
    "# padding parameter is set to 'post' => 0's are appended to end of sequences\n",
    "X_train = pad_sequences(X_train, padding = 'post')\n",
    "X_test = pad_sequences(X_test, padding = 'post')\n",
    "print(X_train.shape, X_test.shape)\n",
    "#print(X_train)"
   ]
  },
  {
   "cell_type": "code",
   "execution_count": 6,
   "metadata": {
    "colab": {
     "base_uri": "https://localhost:8080/",
     "height": 34
    },
    "colab_type": "code",
    "executionInfo": {
     "elapsed": 2086,
     "status": "ok",
     "timestamp": 1576817876283,
     "user": {
      "displayName": "Inkwon Lee",
      "photoUrl": "https://lh3.googleusercontent.com/a-/AAuE7mAUimr4LLwG9jQhtI6v5Xoc_6W20KURwYIwyWfFlw=s64",
      "userId": "04142475634544618262"
     },
     "user_tz": -540
    },
    "id": "O7R6_KfN-9U8",
    "outputId": "b9b9b14e-5784-42d1-8966-21c1c00a7a98"
   },
   "outputs": [
    {
     "name": "stdout",
     "output_type": "stream",
     "text": [
      "(1395, 49, 1) (599, 49, 1)\n"
     ]
    }
   ],
   "source": [
    "X_train = np.array(X_train).reshape((X_train.shape[0], X_train.shape[1], 1))\n",
    "X_test = np.array(X_test).reshape((X_test.shape[0], X_test.shape[1], 1))\n",
    "print(X_train.shape, X_test.shape)\n",
    "#print(X_train)"
   ]
  },
  {
   "cell_type": "code",
   "execution_count": 7,
   "metadata": {
    "colab": {
     "base_uri": "https://localhost:8080/",
     "height": 34
    },
    "colab_type": "code",
    "executionInfo": {
     "elapsed": 1291,
     "status": "ok",
     "timestamp": 1576817881689,
     "user": {
      "displayName": "Inkwon Lee",
      "photoUrl": "https://lh3.googleusercontent.com/a-/AAuE7mAUimr4LLwG9jQhtI6v5Xoc_6W20KURwYIwyWfFlw=s64",
      "userId": "04142475634544618262"
     },
     "user_tz": -540
    },
    "id": "hKa8tnAJDqkl",
    "outputId": "e451f21b-bad9-4b70-9a9f-cd4f76085723"
   },
   "outputs": [
    {
     "name": "stdout",
     "output_type": "stream",
     "text": [
      "(1994, 46)\n"
     ]
    }
   ],
   "source": [
    "y_data = np.concatenate((y_train, y_test))\n",
    "y_data = to_categorical(y_data)\n",
    "print(y_data.shape)"
   ]
  },
  {
   "cell_type": "code",
   "execution_count": 8,
   "metadata": {
    "colab": {
     "base_uri": "https://localhost:8080/",
     "height": 34
    },
    "colab_type": "code",
    "executionInfo": {
     "elapsed": 1116,
     "status": "ok",
     "timestamp": 1576817884767,
     "user": {
      "displayName": "Inkwon Lee",
      "photoUrl": "https://lh3.googleusercontent.com/a-/AAuE7mAUimr4LLwG9jQhtI6v5Xoc_6W20KURwYIwyWfFlw=s64",
      "userId": "04142475634544618262"
     },
     "user_tz": -540
    },
    "id": "Xv-Pz0oiDxyT",
    "outputId": "eee1f6e0-f00f-4437-cbf6-9b519eae8cea"
   },
   "outputs": [
    {
     "name": "stdout",
     "output_type": "stream",
     "text": [
      "(1395, 46) (599, 46)\n"
     ]
    }
   ],
   "source": [
    "y_train = y_data[:1395]\n",
    "y_test = y_data[1395:]\n",
    "print(y_train.shape, y_test.shape)\n",
    "#print(y_train)"
   ]
  },
  {
   "cell_type": "code",
   "execution_count": 0,
   "metadata": {
    "colab": {},
    "colab_type": "code",
    "id": "Xu18kGmhD6rX"
   },
   "outputs": [],
   "source": [
    "from tensorflow.keras.models import Sequential\n",
    "from tensorflow.keras.layers import Dense, LSTM, Activation\n",
    "from tensorflow.keras import optimizers\n",
    "from tensorflow.keras.wrappers.scikit_learn import KerasClassifier"
   ]
  },
  {
   "cell_type": "code",
   "execution_count": 0,
   "metadata": {
    "colab": {},
    "colab_type": "code",
    "id": "SEtkN-DuEO7b"
   },
   "outputs": [],
   "source": [
    "def lstm():\n",
    "    model = Sequential()\n",
    "    model.add(LSTM(50, input_shape = (49,1), return_sequences = False))\n",
    "    model.add(Dense(46))\n",
    "    model.add(Activation('softmax'))\n",
    "    \n",
    "    adam = optimizers.Adam(lr = 0.001)\n",
    "    model.compile(loss = 'categorical_crossentropy', optimizer = adam, metrics = ['accuracy'])\n",
    "    \n",
    "    return model"
   ]
  },
  {
   "cell_type": "code",
   "execution_count": 13,
   "metadata": {
    "colab": {
     "base_uri": "https://localhost:8080/",
     "height": 255
    },
    "colab_type": "code",
    "executionInfo": {
     "elapsed": 1145,
     "status": "ok",
     "timestamp": 1576817956677,
     "user": {
      "displayName": "Inkwon Lee",
      "photoUrl": "https://lh3.googleusercontent.com/a-/AAuE7mAUimr4LLwG9jQhtI6v5Xoc_6W20KURwYIwyWfFlw=s64",
      "userId": "04142475634544618262"
     },
     "user_tz": -540
    },
    "id": "WpVkFwvrEfg5",
    "outputId": "e7332adb-ef94-4ec0-a702-319061179e6b"
   },
   "outputs": [
    {
     "name": "stdout",
     "output_type": "stream",
     "text": [
      "Model: \"sequential\"\n",
      "_________________________________________________________________\n",
      "Layer (type)                 Output Shape              Param #   \n",
      "=================================================================\n",
      "lstm (LSTM)                  (None, 50)                10400     \n",
      "_________________________________________________________________\n",
      "dense (Dense)                (None, 46)                2346      \n",
      "_________________________________________________________________\n",
      "activation (Activation)      (None, 46)                0         \n",
      "=================================================================\n",
      "Total params: 12,746\n",
      "Trainable params: 12,746\n",
      "Non-trainable params: 0\n",
      "_________________________________________________________________\n"
     ]
    }
   ],
   "source": [
    "model = lstm()\n",
    "model.summary()"
   ]
  },
  {
   "cell_type": "code",
   "execution_count": 14,
   "metadata": {
    "colab": {
     "base_uri": "https://localhost:8080/",
     "height": 1000
    },
    "colab_type": "code",
    "executionInfo": {
     "elapsed": 59666,
     "status": "ok",
     "timestamp": 1576818026275,
     "user": {
      "displayName": "Inkwon Lee",
      "photoUrl": "https://lh3.googleusercontent.com/a-/AAuE7mAUimr4LLwG9jQhtI6v5Xoc_6W20KURwYIwyWfFlw=s64",
      "userId": "04142475634544618262"
     },
     "user_tz": -540
    },
    "id": "DMmpP9UTkwal",
    "outputId": "99ad7fab-4525-491e-a8f1-ce59caaa4a4f"
   },
   "outputs": [
    {
     "name": "stdout",
     "output_type": "stream",
     "text": [
      "Train on 1116 samples, validate on 279 samples\n",
      "Epoch 1/100\n",
      "1116/1116 [==============================] - 2s 2ms/sample - loss: 3.4045 - accuracy: 0.5251 - val_loss: 2.4189 - val_accuracy: 0.6738\n",
      "Epoch 2/100\n",
      "1116/1116 [==============================] - 1s 498us/sample - loss: 1.6874 - accuracy: 0.7070 - val_loss: 1.2208 - val_accuracy: 0.7240\n",
      "Epoch 3/100\n",
      "1116/1116 [==============================] - 1s 478us/sample - loss: 1.2402 - accuracy: 0.7124 - val_loss: 1.1432 - val_accuracy: 0.7240\n",
      "Epoch 4/100\n",
      "1116/1116 [==============================] - 1s 524us/sample - loss: 1.1928 - accuracy: 0.7124 - val_loss: 1.1097 - val_accuracy: 0.7240\n",
      "Epoch 5/100\n",
      "1116/1116 [==============================] - 1s 504us/sample - loss: 1.1609 - accuracy: 0.7124 - val_loss: 1.0804 - val_accuracy: 0.7240\n",
      "Epoch 6/100\n",
      "1116/1116 [==============================] - 1s 494us/sample - loss: 1.1282 - accuracy: 0.7124 - val_loss: 1.0422 - val_accuracy: 0.7240\n",
      "Epoch 7/100\n",
      "1116/1116 [==============================] - 1s 500us/sample - loss: 1.0661 - accuracy: 0.7124 - val_loss: 0.9685 - val_accuracy: 0.7240\n",
      "Epoch 8/100\n",
      "1116/1116 [==============================] - 1s 502us/sample - loss: 0.9990 - accuracy: 0.7599 - val_loss: 0.8917 - val_accuracy: 0.8100\n",
      "Epoch 9/100\n",
      "1116/1116 [==============================] - 1s 495us/sample - loss: 0.9374 - accuracy: 0.7841 - val_loss: 0.8524 - val_accuracy: 0.8065\n",
      "Epoch 10/100\n",
      "1116/1116 [==============================] - 1s 484us/sample - loss: 0.9079 - accuracy: 0.7849 - val_loss: 0.8525 - val_accuracy: 0.7957\n",
      "Epoch 11/100\n",
      "1116/1116 [==============================] - 1s 511us/sample - loss: 0.8953 - accuracy: 0.7823 - val_loss: 0.8278 - val_accuracy: 0.8029\n",
      "Epoch 12/100\n",
      "1116/1116 [==============================] - 1s 479us/sample - loss: 0.8664 - accuracy: 0.7930 - val_loss: 0.8013 - val_accuracy: 0.8172\n",
      "Epoch 13/100\n",
      "1116/1116 [==============================] - 1s 498us/sample - loss: 0.8470 - accuracy: 0.8020 - val_loss: 0.7914 - val_accuracy: 0.8208\n",
      "Epoch 14/100\n",
      "1116/1116 [==============================] - 1s 478us/sample - loss: 0.8376 - accuracy: 0.7975 - val_loss: 0.7629 - val_accuracy: 0.8244\n",
      "Epoch 15/100\n",
      "1116/1116 [==============================] - 1s 497us/sample - loss: 0.8197 - accuracy: 0.8109 - val_loss: 0.7680 - val_accuracy: 0.8208\n",
      "Epoch 16/100\n",
      "1116/1116 [==============================] - 1s 492us/sample - loss: 0.8298 - accuracy: 0.8100 - val_loss: 0.7905 - val_accuracy: 0.8172\n",
      "Epoch 17/100\n",
      "1116/1116 [==============================] - 1s 499us/sample - loss: 0.8014 - accuracy: 0.8118 - val_loss: 0.7949 - val_accuracy: 0.8172\n",
      "Epoch 18/100\n",
      "1116/1116 [==============================] - 1s 499us/sample - loss: 0.7928 - accuracy: 0.8163 - val_loss: 0.7445 - val_accuracy: 0.8387\n",
      "Epoch 19/100\n",
      "1116/1116 [==============================] - 1s 490us/sample - loss: 0.7820 - accuracy: 0.8181 - val_loss: 0.7536 - val_accuracy: 0.8208\n",
      "Epoch 20/100\n",
      "1116/1116 [==============================] - 1s 500us/sample - loss: 0.7777 - accuracy: 0.8190 - val_loss: 0.7658 - val_accuracy: 0.8280\n",
      "Epoch 21/100\n",
      "1116/1116 [==============================] - 1s 488us/sample - loss: 0.7674 - accuracy: 0.8244 - val_loss: 0.7597 - val_accuracy: 0.8208\n",
      "Epoch 22/100\n",
      "1116/1116 [==============================] - 1s 522us/sample - loss: 0.7800 - accuracy: 0.8163 - val_loss: 0.7352 - val_accuracy: 0.8387\n",
      "Epoch 23/100\n",
      "1116/1116 [==============================] - 1s 495us/sample - loss: 0.7799 - accuracy: 0.8190 - val_loss: 0.7313 - val_accuracy: 0.8423\n",
      "Epoch 24/100\n",
      "1116/1116 [==============================] - 1s 509us/sample - loss: 0.7575 - accuracy: 0.8181 - val_loss: 0.7210 - val_accuracy: 0.8459\n",
      "Epoch 25/100\n",
      "1116/1116 [==============================] - 1s 517us/sample - loss: 0.7513 - accuracy: 0.8199 - val_loss: 0.7114 - val_accuracy: 0.8566\n",
      "Epoch 26/100\n",
      "1116/1116 [==============================] - 1s 494us/sample - loss: 0.7479 - accuracy: 0.8280 - val_loss: 0.7183 - val_accuracy: 0.8495\n",
      "Epoch 27/100\n",
      "1116/1116 [==============================] - 1s 532us/sample - loss: 0.7364 - accuracy: 0.8253 - val_loss: 0.7135 - val_accuracy: 0.8495\n",
      "Epoch 28/100\n",
      "1116/1116 [==============================] - 1s 518us/sample - loss: 0.7290 - accuracy: 0.8253 - val_loss: 0.7129 - val_accuracy: 0.8530\n",
      "Epoch 29/100\n",
      "1116/1116 [==============================] - 1s 502us/sample - loss: 0.7312 - accuracy: 0.8244 - val_loss: 0.7074 - val_accuracy: 0.8459\n",
      "Epoch 30/100\n",
      "1116/1116 [==============================] - 1s 511us/sample - loss: 0.7285 - accuracy: 0.8297 - val_loss: 0.7088 - val_accuracy: 0.8495\n",
      "Epoch 31/100\n",
      "1116/1116 [==============================] - 1s 519us/sample - loss: 0.7196 - accuracy: 0.8271 - val_loss: 0.7167 - val_accuracy: 0.8495\n",
      "Epoch 32/100\n",
      "1116/1116 [==============================] - 1s 491us/sample - loss: 0.7203 - accuracy: 0.8315 - val_loss: 0.7049 - val_accuracy: 0.8530\n",
      "Epoch 33/100\n",
      "1116/1116 [==============================] - 1s 509us/sample - loss: 0.7348 - accuracy: 0.8253 - val_loss: 0.7426 - val_accuracy: 0.8315\n",
      "Epoch 34/100\n",
      "1116/1116 [==============================] - 1s 502us/sample - loss: 0.7162 - accuracy: 0.8271 - val_loss: 0.7193 - val_accuracy: 0.8351\n",
      "Epoch 35/100\n",
      "1116/1116 [==============================] - 1s 522us/sample - loss: 0.7264 - accuracy: 0.8306 - val_loss: 0.7128 - val_accuracy: 0.8459\n",
      "Epoch 36/100\n",
      "1116/1116 [==============================] - 1s 536us/sample - loss: 0.7379 - accuracy: 0.8208 - val_loss: 0.6998 - val_accuracy: 0.8495\n",
      "Epoch 37/100\n",
      "1116/1116 [==============================] - 1s 522us/sample - loss: 0.7248 - accuracy: 0.8253 - val_loss: 0.7124 - val_accuracy: 0.8495\n",
      "Epoch 38/100\n",
      "1116/1116 [==============================] - 1s 500us/sample - loss: 0.7143 - accuracy: 0.8271 - val_loss: 0.7242 - val_accuracy: 0.8459\n",
      "Epoch 39/100\n",
      "1116/1116 [==============================] - 1s 513us/sample - loss: 0.7026 - accuracy: 0.8262 - val_loss: 0.7076 - val_accuracy: 0.8459\n",
      "Epoch 40/100\n",
      "1116/1116 [==============================] - 1s 531us/sample - loss: 0.7108 - accuracy: 0.8262 - val_loss: 0.7161 - val_accuracy: 0.8459\n",
      "Epoch 41/100\n",
      "1116/1116 [==============================] - 1s 543us/sample - loss: 0.6963 - accuracy: 0.8280 - val_loss: 0.6907 - val_accuracy: 0.8566\n",
      "Epoch 42/100\n",
      "1116/1116 [==============================] - 1s 511us/sample - loss: 0.6972 - accuracy: 0.8280 - val_loss: 0.6923 - val_accuracy: 0.8530\n",
      "Epoch 43/100\n",
      "1116/1116 [==============================] - 1s 509us/sample - loss: 0.6908 - accuracy: 0.8262 - val_loss: 0.6867 - val_accuracy: 0.8530\n",
      "Epoch 44/100\n",
      "1116/1116 [==============================] - 1s 517us/sample - loss: 0.6800 - accuracy: 0.8289 - val_loss: 0.6843 - val_accuracy: 0.8530\n",
      "Epoch 45/100\n",
      "1116/1116 [==============================] - 1s 533us/sample - loss: 0.6743 - accuracy: 0.8289 - val_loss: 0.7679 - val_accuracy: 0.8280\n",
      "Epoch 46/100\n",
      "1116/1116 [==============================] - 1s 514us/sample - loss: 0.7036 - accuracy: 0.8262 - val_loss: 0.6838 - val_accuracy: 0.8566\n",
      "Epoch 47/100\n",
      "1116/1116 [==============================] - 1s 505us/sample - loss: 0.6639 - accuracy: 0.8297 - val_loss: 0.6933 - val_accuracy: 0.8495\n",
      "Epoch 48/100\n",
      "1116/1116 [==============================] - 1s 513us/sample - loss: 0.6672 - accuracy: 0.8306 - val_loss: 0.6867 - val_accuracy: 0.8530\n",
      "Epoch 49/100\n",
      "1116/1116 [==============================] - 1s 515us/sample - loss: 0.6599 - accuracy: 0.8315 - val_loss: 0.6936 - val_accuracy: 0.8459\n",
      "Epoch 50/100\n",
      "1116/1116 [==============================] - 1s 524us/sample - loss: 0.6498 - accuracy: 0.8306 - val_loss: 0.6709 - val_accuracy: 0.8566\n",
      "Epoch 51/100\n",
      "1116/1116 [==============================] - 1s 518us/sample - loss: 0.6518 - accuracy: 0.8324 - val_loss: 0.6764 - val_accuracy: 0.8602\n",
      "Epoch 52/100\n",
      "1116/1116 [==============================] - 1s 528us/sample - loss: 0.6664 - accuracy: 0.8297 - val_loss: 0.6870 - val_accuracy: 0.8495\n",
      "Epoch 53/100\n",
      "1116/1116 [==============================] - 1s 522us/sample - loss: 0.6498 - accuracy: 0.8324 - val_loss: 0.6875 - val_accuracy: 0.8387\n",
      "Epoch 54/100\n",
      "1116/1116 [==============================] - 1s 492us/sample - loss: 0.6492 - accuracy: 0.8360 - val_loss: 0.6724 - val_accuracy: 0.8530\n",
      "Epoch 55/100\n",
      "1116/1116 [==============================] - 1s 505us/sample - loss: 0.6474 - accuracy: 0.8342 - val_loss: 0.6867 - val_accuracy: 0.8387\n",
      "Epoch 56/100\n",
      "1116/1116 [==============================] - 1s 506us/sample - loss: 0.6498 - accuracy: 0.8342 - val_loss: 0.6865 - val_accuracy: 0.8530\n",
      "Epoch 57/100\n",
      "1116/1116 [==============================] - 1s 506us/sample - loss: 0.6453 - accuracy: 0.8369 - val_loss: 0.6716 - val_accuracy: 0.8602\n",
      "Epoch 58/100\n",
      "1116/1116 [==============================] - 1s 513us/sample - loss: 0.6355 - accuracy: 0.8378 - val_loss: 0.6969 - val_accuracy: 0.8495\n",
      "Epoch 59/100\n",
      "1116/1116 [==============================] - 1s 544us/sample - loss: 0.6533 - accuracy: 0.8297 - val_loss: 0.6979 - val_accuracy: 0.8459\n",
      "Epoch 60/100\n",
      "1116/1116 [==============================] - 1s 516us/sample - loss: 0.6511 - accuracy: 0.8280 - val_loss: 0.6863 - val_accuracy: 0.8530\n",
      "Epoch 61/100\n",
      "1116/1116 [==============================] - 1s 505us/sample - loss: 0.6344 - accuracy: 0.8342 - val_loss: 0.6700 - val_accuracy: 0.8459\n",
      "Epoch 62/100\n",
      "1116/1116 [==============================] - 1s 502us/sample - loss: 0.6226 - accuracy: 0.8396 - val_loss: 0.6887 - val_accuracy: 0.8566\n",
      "Epoch 63/100\n",
      "1116/1116 [==============================] - 1s 510us/sample - loss: 0.6197 - accuracy: 0.8441 - val_loss: 0.6653 - val_accuracy: 0.8530\n",
      "Epoch 64/100\n",
      "1116/1116 [==============================] - 1s 518us/sample - loss: 0.6319 - accuracy: 0.8360 - val_loss: 0.6656 - val_accuracy: 0.8638\n",
      "Epoch 65/100\n",
      "1116/1116 [==============================] - 1s 503us/sample - loss: 0.6324 - accuracy: 0.8387 - val_loss: 0.6643 - val_accuracy: 0.8459\n",
      "Epoch 66/100\n",
      "1116/1116 [==============================] - 1s 506us/sample - loss: 0.6251 - accuracy: 0.8414 - val_loss: 0.6887 - val_accuracy: 0.8459\n",
      "Epoch 67/100\n",
      "1116/1116 [==============================] - 1s 513us/sample - loss: 0.6192 - accuracy: 0.8396 - val_loss: 0.6655 - val_accuracy: 0.8495\n",
      "Epoch 68/100\n",
      "1116/1116 [==============================] - 1s 515us/sample - loss: 0.6104 - accuracy: 0.8387 - val_loss: 0.6887 - val_accuracy: 0.8495\n",
      "Epoch 69/100\n",
      "1116/1116 [==============================] - 1s 534us/sample - loss: 0.6032 - accuracy: 0.8432 - val_loss: 0.6833 - val_accuracy: 0.8638\n",
      "Epoch 70/100\n",
      "1116/1116 [==============================] - 1s 513us/sample - loss: 0.5945 - accuracy: 0.8459 - val_loss: 0.6775 - val_accuracy: 0.8495\n",
      "Epoch 71/100\n",
      "1116/1116 [==============================] - 1s 518us/sample - loss: 0.5958 - accuracy: 0.8396 - val_loss: 0.6798 - val_accuracy: 0.8495\n",
      "Epoch 72/100\n",
      "1116/1116 [==============================] - 1s 514us/sample - loss: 0.6039 - accuracy: 0.8387 - val_loss: 0.6925 - val_accuracy: 0.8423\n",
      "Epoch 73/100\n",
      "1116/1116 [==============================] - 1s 521us/sample - loss: 0.6251 - accuracy: 0.8369 - val_loss: 0.6828 - val_accuracy: 0.8602\n",
      "Epoch 74/100\n",
      "1116/1116 [==============================] - 1s 509us/sample - loss: 0.6225 - accuracy: 0.8315 - val_loss: 0.6849 - val_accuracy: 0.8530\n",
      "Epoch 75/100\n",
      "1116/1116 [==============================] - 1s 496us/sample - loss: 0.5975 - accuracy: 0.8369 - val_loss: 0.6656 - val_accuracy: 0.8566\n",
      "Epoch 76/100\n",
      "1116/1116 [==============================] - 1s 502us/sample - loss: 0.5912 - accuracy: 0.8369 - val_loss: 0.6715 - val_accuracy: 0.8602\n",
      "Epoch 77/100\n",
      "1116/1116 [==============================] - 1s 525us/sample - loss: 0.5932 - accuracy: 0.8387 - val_loss: 0.6645 - val_accuracy: 0.8602\n",
      "Epoch 78/100\n",
      "1116/1116 [==============================] - 1s 516us/sample - loss: 0.5829 - accuracy: 0.8423 - val_loss: 0.6972 - val_accuracy: 0.8495\n",
      "Epoch 79/100\n",
      "1116/1116 [==============================] - 1s 509us/sample - loss: 0.5868 - accuracy: 0.8414 - val_loss: 0.7105 - val_accuracy: 0.8387\n",
      "Epoch 80/100\n",
      "1116/1116 [==============================] - 1s 521us/sample - loss: 0.5874 - accuracy: 0.8423 - val_loss: 0.6751 - val_accuracy: 0.8602\n",
      "Epoch 81/100\n",
      "1116/1116 [==============================] - 1s 514us/sample - loss: 0.5790 - accuracy: 0.8450 - val_loss: 0.6675 - val_accuracy: 0.8602\n",
      "Epoch 82/100\n",
      "1116/1116 [==============================] - 1s 509us/sample - loss: 0.6530 - accuracy: 0.8217 - val_loss: 0.8072 - val_accuracy: 0.8280\n",
      "Epoch 83/100\n",
      "1116/1116 [==============================] - 1s 512us/sample - loss: 0.6238 - accuracy: 0.8297 - val_loss: 0.6562 - val_accuracy: 0.8566\n",
      "Epoch 84/100\n",
      "1116/1116 [==============================] - 1s 500us/sample - loss: 0.5931 - accuracy: 0.8378 - val_loss: 0.6667 - val_accuracy: 0.8602\n",
      "Epoch 85/100\n",
      "1116/1116 [==============================] - 1s 504us/sample - loss: 0.5863 - accuracy: 0.8405 - val_loss: 0.6760 - val_accuracy: 0.8602\n",
      "Epoch 86/100\n",
      "1116/1116 [==============================] - 1s 498us/sample - loss: 0.6062 - accuracy: 0.8378 - val_loss: 0.6740 - val_accuracy: 0.8602\n",
      "Epoch 87/100\n",
      "1116/1116 [==============================] - 1s 509us/sample - loss: 0.6034 - accuracy: 0.8351 - val_loss: 0.6877 - val_accuracy: 0.8530\n",
      "Epoch 88/100\n",
      "1116/1116 [==============================] - 1s 511us/sample - loss: 0.5711 - accuracy: 0.8432 - val_loss: 0.6895 - val_accuracy: 0.8566\n",
      "Epoch 89/100\n",
      "1116/1116 [==============================] - 1s 516us/sample - loss: 0.5632 - accuracy: 0.8441 - val_loss: 0.6843 - val_accuracy: 0.8530\n",
      "Epoch 90/100\n",
      "1116/1116 [==============================] - 1s 553us/sample - loss: 0.5579 - accuracy: 0.8468 - val_loss: 0.6745 - val_accuracy: 0.8602\n",
      "Epoch 91/100\n",
      "1116/1116 [==============================] - 1s 510us/sample - loss: 0.5642 - accuracy: 0.8396 - val_loss: 0.6719 - val_accuracy: 0.8602\n",
      "Epoch 92/100\n",
      "1116/1116 [==============================] - 1s 542us/sample - loss: 0.5480 - accuracy: 0.8450 - val_loss: 0.6681 - val_accuracy: 0.8530\n",
      "Epoch 93/100\n",
      "1116/1116 [==============================] - 1s 524us/sample - loss: 0.5468 - accuracy: 0.8504 - val_loss: 0.6673 - val_accuracy: 0.8602\n",
      "Epoch 94/100\n",
      "1116/1116 [==============================] - 1s 511us/sample - loss: 0.5511 - accuracy: 0.8450 - val_loss: 0.6526 - val_accuracy: 0.8674\n",
      "Epoch 95/100\n",
      "1116/1116 [==============================] - 1s 536us/sample - loss: 0.5450 - accuracy: 0.8468 - val_loss: 0.6719 - val_accuracy: 0.8566\n",
      "Epoch 96/100\n",
      "1116/1116 [==============================] - 1s 571us/sample - loss: 0.5370 - accuracy: 0.8477 - val_loss: 0.6710 - val_accuracy: 0.8602\n",
      "Epoch 97/100\n",
      "1116/1116 [==============================] - 1s 528us/sample - loss: 0.5462 - accuracy: 0.8468 - val_loss: 0.6640 - val_accuracy: 0.8602\n",
      "Epoch 98/100\n",
      "1116/1116 [==============================] - 1s 530us/sample - loss: 0.5572 - accuracy: 0.8432 - val_loss: 0.6934 - val_accuracy: 0.8423\n",
      "Epoch 99/100\n",
      "1116/1116 [==============================] - 1s 523us/sample - loss: 0.5412 - accuracy: 0.8459 - val_loss: 0.6965 - val_accuracy: 0.8495\n",
      "Epoch 100/100\n",
      "1116/1116 [==============================] - 1s 518us/sample - loss: 0.5457 - accuracy: 0.8414 - val_loss: 0.6540 - val_accuracy: 0.8495\n",
      "CPU times: user 1min 37s, sys: 3.51 s, total: 1min 41s\n",
      "Wall time: 58.8 s\n"
     ]
    }
   ],
   "source": [
    "%%time\n",
    "history = model.fit(X_train, y_train, batch_size = 50, epochs = 100, validation_split = 0.2, verbose = 1)"
   ]
  },
  {
   "cell_type": "code",
   "execution_count": 15,
   "metadata": {
    "colab": {
     "base_uri": "https://localhost:8080/",
     "height": 265
    },
    "colab_type": "code",
    "executionInfo": {
     "elapsed": 1181,
     "status": "ok",
     "timestamp": 1576818033316,
     "user": {
      "displayName": "Inkwon Lee",
      "photoUrl": "https://lh3.googleusercontent.com/a-/AAuE7mAUimr4LLwG9jQhtI6v5Xoc_6W20KURwYIwyWfFlw=s64",
      "userId": "04142475634544618262"
     },
     "user_tz": -540
    },
    "id": "B2-qDY64lHUu",
    "outputId": "17cfc880-bc1d-47a1-f095-4f671a9ebc9f"
   },
   "outputs": [
    {
     "data": {
      "image/png": "[encoded data removed]",
      "text/plain": [
       "<Figure size 432x288 with 1 Axes>"
      ]
     },
     "metadata": {
      "tags": []
     },
     "output_type": "display_data"
    }
   ],
   "source": [
    "plt.plot(history.history['accuracy'])\n",
    "plt.plot(history.history['val_accuracy'])\n",
    "plt.legend(['training', 'validation'], loc = 'upper left')\n",
    "plt.show()"
   ]
  },
  {
   "cell_type": "code",
   "execution_count": 16,
   "metadata": {
    "colab": {
     "base_uri": "https://localhost:8080/",
     "height": 51
    },
    "colab_type": "code",
    "executionInfo": {
     "elapsed": 1103,
     "status": "ok",
     "timestamp": 1576818037404,
     "user": {
      "displayName": "Inkwon Lee",
      "photoUrl": "https://lh3.googleusercontent.com/a-/AAuE7mAUimr4LLwG9jQhtI6v5Xoc_6W20KURwYIwyWfFlw=s64",
      "userId": "04142475634544618262"
     },
     "user_tz": -540
    },
    "id": "KSy6uSHOEi7G",
    "outputId": "8eb01e1a-25b2-46bc-a051-e53ced294e47"
   },
   "outputs": [
    {
     "name": "stdout",
     "output_type": "stream",
     "text": [
      "599/599 [==============================] - 0s 188us/sample - loss: 0.7936 - accuracy: 0.8464\n",
      "Test accuracy:  0.8464107\n"
     ]
    }
   ],
   "source": [
    "results = model.evaluate(X_test, y_test)\n",
    "print('Test accuracy: ', results[1])"
   ]
  },
  {
   "cell_type": "code",
   "execution_count": 0,
   "metadata": {
    "colab": {},
    "colab_type": "code",
    "id": "lQYmsobWE9-o"
   },
   "outputs": [],
   "source": [
    "def stacked_lstm():\n",
    "    model = Sequential()\n",
    "    model.add(LSTM(50, input_shape = (49,1), return_sequences = True))   # return_sequences parameter has to be set True to stack\n",
    "    model.add(LSTM(50, return_sequences = False))\n",
    "    model.add(Dense(46))\n",
    "    model.add(Activation('softmax'))\n",
    "    \n",
    "    adam = optimizers.Adam(lr = 0.001)\n",
    "    model.compile(loss = 'categorical_crossentropy', optimizer = adam, metrics = ['accuracy'])\n",
    "    \n",
    "    return model"
   ]
  },
  {
   "cell_type": "code",
   "execution_count": 19,
   "metadata": {
    "colab": {
     "base_uri": "https://localhost:8080/",
     "height": 805
    },
    "colab_type": "code",
    "executionInfo": {
     "elapsed": 1760,
     "status": "ok",
     "timestamp": 1576818242584,
     "user": {
      "displayName": "Inkwon Lee",
      "photoUrl": "https://lh3.googleusercontent.com/a-/AAuE7mAUimr4LLwG9jQhtI6v5Xoc_6W20KURwYIwyWfFlw=s64",
      "userId": "04142475634544618262"
     },
     "user_tz": -540
    },
    "id": "8MjwcsZcc8W3",
    "outputId": "75b24bc3-217d-418e-b614-e9c15e6fc51a"
   },
   "outputs": [
    {
     "name": "stdout",
     "output_type": "stream",
     "text": [
      "Model: \"sequential_1\"\n",
      "_________________________________________________________________\n",
      "Layer (type)                 Output Shape              Param #   \n",
      "=================================================================\n",
      "lstm_1 (LSTM)                (None, 49, 50)            10400     \n",
      "_________________________________________________________________\n",
      "lstm_2 (LSTM)                (None, 50)                20200     \n",
      "_________________________________________________________________\n",
      "dense_1 (Dense)              (None, 46)                2346      \n",
      "_________________________________________________________________\n",
      "activation_1 (Activation)    (None, 46)                0         \n",
      "=================================================================\n",
      "Total params: 32,946\n",
      "Trainable params: 32,946\n",
      "Non-trainable params: 0\n",
      "_________________________________________________________________\n"
     ]
    },
    {
     "data": {
      "image/png": "[encoded data removed]",
      "text/plain": [
       "<IPython.core.display.Image object>"
      ]
     },
     "execution_count": 19,
     "metadata": {
      "tags": []
     },
     "output_type": "execute_result"
    }
   ],
   "source": [
    "model = stacked_lstm()\n",
    "model.summary()\n",
    "plot_model(model, to_file='rnn-stacked-lstm.png', show_shapes=True)"
   ]
  },
  {
   "cell_type": "code",
   "execution_count": 20,
   "metadata": {
    "colab": {
     "base_uri": "https://localhost:8080/",
     "height": 1000
    },
    "colab_type": "code",
    "executionInfo": {
     "elapsed": 117189,
     "status": "ok",
     "timestamp": 1576818370341,
     "user": {
      "displayName": "Inkwon Lee",
      "photoUrl": "https://lh3.googleusercontent.com/a-/AAuE7mAUimr4LLwG9jQhtI6v5Xoc_6W20KURwYIwyWfFlw=s64",
      "userId": "04142475634544618262"
     },
     "user_tz": -540
    },
    "id": "X13AKJ-Zc_mT",
    "outputId": "b5760e82-0d0a-48e2-c19c-9a190b26f452"
   },
   "outputs": [
    {
     "name": "stdout",
     "output_type": "stream",
     "text": [
      "Train on 1116 samples, validate on 279 samples\n",
      "Epoch 1/100\n",
      "1116/1116 [==============================] - 4s 3ms/sample - loss: 2.6961 - accuracy: 0.6299 - val_loss: 1.3966 - val_accuracy: 0.7240\n",
      "Epoch 2/100\n",
      "1116/1116 [==============================] - 1s 993us/sample - loss: 1.2967 - accuracy: 0.7124 - val_loss: 1.1296 - val_accuracy: 0.7240\n",
      "Epoch 3/100\n",
      "1116/1116 [==============================] - 1s 1ms/sample - loss: 1.1992 - accuracy: 0.7124 - val_loss: 1.1071 - val_accuracy: 0.7240\n",
      "Epoch 4/100\n",
      "1116/1116 [==============================] - 1s 988us/sample - loss: 1.1811 - accuracy: 0.7124 - val_loss: 1.1008 - val_accuracy: 0.7240\n",
      "Epoch 5/100\n",
      "1116/1116 [==============================] - 1s 1ms/sample - loss: 1.1666 - accuracy: 0.7124 - val_loss: 1.0822 - val_accuracy: 0.7240\n",
      "Epoch 6/100\n",
      "1116/1116 [==============================] - 1s 1ms/sample - loss: 1.1432 - accuracy: 0.7124 - val_loss: 1.0627 - val_accuracy: 0.7240\n",
      "Epoch 7/100\n",
      "1116/1116 [==============================] - 1s 1ms/sample - loss: 1.1293 - accuracy: 0.7124 - val_loss: 1.0511 - val_accuracy: 0.7240\n",
      "Epoch 8/100\n",
      "1116/1116 [==============================] - 1s 1ms/sample - loss: 1.1185 - accuracy: 0.7124 - val_loss: 1.0487 - val_accuracy: 0.7240\n",
      "Epoch 9/100\n",
      "1116/1116 [==============================] - 1s 998us/sample - loss: 1.1091 - accuracy: 0.7124 - val_loss: 1.0498 - val_accuracy: 0.7240\n",
      "Epoch 10/100\n",
      "1116/1116 [==============================] - 1s 1ms/sample - loss: 1.1038 - accuracy: 0.7124 - val_loss: 1.0605 - val_accuracy: 0.7240\n",
      "Epoch 11/100\n",
      "1116/1116 [==============================] - 1s 1ms/sample - loss: 1.1007 - accuracy: 0.7124 - val_loss: 1.0405 - val_accuracy: 0.7240\n",
      "Epoch 12/100\n",
      "1116/1116 [==============================] - 1s 1ms/sample - loss: 1.0949 - accuracy: 0.7124 - val_loss: 1.0427 - val_accuracy: 0.7240\n",
      "Epoch 13/100\n",
      "1116/1116 [==============================] - 1s 1ms/sample - loss: 1.0929 - accuracy: 0.7124 - val_loss: 1.0381 - val_accuracy: 0.7240\n",
      "Epoch 14/100\n",
      "1116/1116 [==============================] - 1s 1ms/sample - loss: 1.0954 - accuracy: 0.7124 - val_loss: 1.0397 - val_accuracy: 0.7240\n",
      "Epoch 15/100\n",
      "1116/1116 [==============================] - 1s 1ms/sample - loss: 1.0999 - accuracy: 0.7124 - val_loss: 1.0262 - val_accuracy: 0.7240\n",
      "Epoch 16/100\n",
      "1116/1116 [==============================] - 1s 1ms/sample - loss: 1.0680 - accuracy: 0.7124 - val_loss: 1.0117 - val_accuracy: 0.7240\n",
      "Epoch 17/100\n",
      "1116/1116 [==============================] - 1s 1ms/sample - loss: 1.0091 - accuracy: 0.7124 - val_loss: 0.9168 - val_accuracy: 0.7240\n",
      "Epoch 18/100\n",
      "1116/1116 [==============================] - 1s 1ms/sample - loss: 0.9190 - accuracy: 0.7733 - val_loss: 0.8254 - val_accuracy: 0.7957\n",
      "Epoch 19/100\n",
      "1116/1116 [==============================] - 1s 1ms/sample - loss: 0.8934 - accuracy: 0.7787 - val_loss: 0.8151 - val_accuracy: 0.8065\n",
      "Epoch 20/100\n",
      "1116/1116 [==============================] - 1s 1ms/sample - loss: 0.8729 - accuracy: 0.7885 - val_loss: 0.8024 - val_accuracy: 0.7921\n",
      "Epoch 21/100\n",
      "1116/1116 [==============================] - 1s 1ms/sample - loss: 0.8762 - accuracy: 0.7805 - val_loss: 0.8025 - val_accuracy: 0.8029\n",
      "Epoch 22/100\n",
      "1116/1116 [==============================] - 1s 982us/sample - loss: 0.8447 - accuracy: 0.7823 - val_loss: 0.8024 - val_accuracy: 0.7957\n",
      "Epoch 23/100\n",
      "1116/1116 [==============================] - 1s 987us/sample - loss: 0.8411 - accuracy: 0.7841 - val_loss: 0.7951 - val_accuracy: 0.8065\n",
      "Epoch 24/100\n",
      "1116/1116 [==============================] - 1s 1ms/sample - loss: 0.8592 - accuracy: 0.7876 - val_loss: 0.8002 - val_accuracy: 0.8029\n",
      "Epoch 25/100\n",
      "1116/1116 [==============================] - 1s 1ms/sample - loss: 0.8505 - accuracy: 0.7760 - val_loss: 0.7999 - val_accuracy: 0.8029\n",
      "Epoch 26/100\n",
      "1116/1116 [==============================] - 1s 1ms/sample - loss: 0.8377 - accuracy: 0.7841 - val_loss: 0.7942 - val_accuracy: 0.8029\n",
      "Epoch 27/100\n",
      "1116/1116 [==============================] - 1s 973us/sample - loss: 0.8588 - accuracy: 0.7903 - val_loss: 0.7956 - val_accuracy: 0.8029\n",
      "Epoch 28/100\n",
      "1116/1116 [==============================] - 1s 974us/sample - loss: 0.8212 - accuracy: 0.7939 - val_loss: 0.8202 - val_accuracy: 0.7993\n",
      "Epoch 29/100\n",
      "1116/1116 [==============================] - 1s 996us/sample - loss: 0.8272 - accuracy: 0.7957 - val_loss: 0.8035 - val_accuracy: 0.7993\n",
      "Epoch 30/100\n",
      "1116/1116 [==============================] - 1s 989us/sample - loss: 0.8174 - accuracy: 0.7975 - val_loss: 0.8114 - val_accuracy: 0.8029\n",
      "Epoch 31/100\n",
      "1116/1116 [==============================] - 1s 988us/sample - loss: 0.8208 - accuracy: 0.7984 - val_loss: 0.7967 - val_accuracy: 0.8029\n",
      "Epoch 32/100\n",
      "1116/1116 [==============================] - 1s 999us/sample - loss: 0.8180 - accuracy: 0.7957 - val_loss: 0.8053 - val_accuracy: 0.8065\n",
      "Epoch 33/100\n",
      "1116/1116 [==============================] - 1s 1ms/sample - loss: 0.8281 - accuracy: 0.7975 - val_loss: 0.8161 - val_accuracy: 0.7957\n",
      "Epoch 34/100\n",
      "1116/1116 [==============================] - 1s 1ms/sample - loss: 0.8074 - accuracy: 0.7903 - val_loss: 0.7961 - val_accuracy: 0.8065\n",
      "Epoch 35/100\n",
      "1116/1116 [==============================] - 1s 989us/sample - loss: 0.7992 - accuracy: 0.7975 - val_loss: 0.7886 - val_accuracy: 0.8136\n",
      "Epoch 36/100\n",
      "1116/1116 [==============================] - 1s 990us/sample - loss: 0.8035 - accuracy: 0.7975 - val_loss: 0.7920 - val_accuracy: 0.8065\n",
      "Epoch 37/100\n",
      "1116/1116 [==============================] - 1s 987us/sample - loss: 0.8031 - accuracy: 0.7993 - val_loss: 0.7794 - val_accuracy: 0.8208\n",
      "Epoch 38/100\n",
      "1116/1116 [==============================] - 1s 1ms/sample - loss: 0.7826 - accuracy: 0.8100 - val_loss: 0.7720 - val_accuracy: 0.8208\n",
      "Epoch 39/100\n",
      "1116/1116 [==============================] - 1s 1ms/sample - loss: 0.7765 - accuracy: 0.8118 - val_loss: 0.7612 - val_accuracy: 0.8208\n",
      "Epoch 40/100\n",
      "1116/1116 [==============================] - 1s 1ms/sample - loss: 0.7642 - accuracy: 0.8172 - val_loss: 0.7620 - val_accuracy: 0.8208\n",
      "Epoch 41/100\n",
      "1116/1116 [==============================] - 1s 1ms/sample - loss: 0.7570 - accuracy: 0.8190 - val_loss: 0.7673 - val_accuracy: 0.8280\n",
      "Epoch 42/100\n",
      "1116/1116 [==============================] - 1s 1ms/sample - loss: 0.7524 - accuracy: 0.8190 - val_loss: 0.7768 - val_accuracy: 0.8172\n",
      "Epoch 43/100\n",
      "1116/1116 [==============================] - 1s 1ms/sample - loss: 0.7553 - accuracy: 0.8190 - val_loss: 0.7471 - val_accuracy: 0.8280\n",
      "Epoch 44/100\n",
      "1116/1116 [==============================] - 1s 1ms/sample - loss: 0.7430 - accuracy: 0.8208 - val_loss: 0.7432 - val_accuracy: 0.8280\n",
      "Epoch 45/100\n",
      "1116/1116 [==============================] - 1s 1ms/sample - loss: 0.7429 - accuracy: 0.8172 - val_loss: 0.7360 - val_accuracy: 0.8351\n",
      "Epoch 46/100\n",
      "1116/1116 [==============================] - 1s 1ms/sample - loss: 0.7409 - accuracy: 0.8217 - val_loss: 0.7355 - val_accuracy: 0.8280\n",
      "Epoch 47/100\n",
      "1116/1116 [==============================] - 1s 1ms/sample - loss: 0.7315 - accuracy: 0.8235 - val_loss: 0.7606 - val_accuracy: 0.8280\n",
      "Epoch 48/100\n",
      "1116/1116 [==============================] - 1s 1ms/sample - loss: 0.7360 - accuracy: 0.8163 - val_loss: 0.7412 - val_accuracy: 0.8244\n",
      "Epoch 49/100\n",
      "1116/1116 [==============================] - 1s 1ms/sample - loss: 0.7224 - accuracy: 0.8208 - val_loss: 0.7266 - val_accuracy: 0.8423\n",
      "Epoch 50/100\n",
      "1116/1116 [==============================] - 1s 1ms/sample - loss: 0.7269 - accuracy: 0.8217 - val_loss: 0.7860 - val_accuracy: 0.8172\n",
      "Epoch 51/100\n",
      "1116/1116 [==============================] - 1s 1ms/sample - loss: 0.7365 - accuracy: 0.8235 - val_loss: 0.7442 - val_accuracy: 0.8315\n",
      "Epoch 52/100\n",
      "1116/1116 [==============================] - 1s 1ms/sample - loss: 0.7256 - accuracy: 0.8217 - val_loss: 0.7599 - val_accuracy: 0.8172\n",
      "Epoch 53/100\n",
      "1116/1116 [==============================] - 1s 978us/sample - loss: 0.7161 - accuracy: 0.8253 - val_loss: 0.7440 - val_accuracy: 0.8280\n",
      "Epoch 54/100\n",
      "1116/1116 [==============================] - 1s 998us/sample - loss: 0.7331 - accuracy: 0.8145 - val_loss: 0.7334 - val_accuracy: 0.8423\n",
      "Epoch 55/100\n",
      "1116/1116 [==============================] - 1s 986us/sample - loss: 0.7094 - accuracy: 0.8289 - val_loss: 0.7299 - val_accuracy: 0.8387\n",
      "Epoch 56/100\n",
      "1116/1116 [==============================] - 1s 1ms/sample - loss: 0.7062 - accuracy: 0.8190 - val_loss: 0.7328 - val_accuracy: 0.8351\n",
      "Epoch 57/100\n",
      "1116/1116 [==============================] - 1s 1ms/sample - loss: 0.7031 - accuracy: 0.8217 - val_loss: 0.7373 - val_accuracy: 0.8280\n",
      "Epoch 58/100\n",
      "1116/1116 [==============================] - 1s 976us/sample - loss: 0.7127 - accuracy: 0.8235 - val_loss: 0.7235 - val_accuracy: 0.8495\n",
      "Epoch 59/100\n",
      "1116/1116 [==============================] - 1s 990us/sample - loss: 0.7037 - accuracy: 0.8217 - val_loss: 0.7257 - val_accuracy: 0.8423\n",
      "Epoch 60/100\n",
      "1116/1116 [==============================] - 1s 1ms/sample - loss: 0.7140 - accuracy: 0.8253 - val_loss: 0.7361 - val_accuracy: 0.8387\n",
      "Epoch 61/100\n",
      "1116/1116 [==============================] - 1s 991us/sample - loss: 0.6962 - accuracy: 0.8315 - val_loss: 0.7223 - val_accuracy: 0.8459\n",
      "Epoch 62/100\n",
      "1116/1116 [==============================] - 1s 1ms/sample - loss: 0.6925 - accuracy: 0.8289 - val_loss: 0.7124 - val_accuracy: 0.8459\n",
      "Epoch 63/100\n",
      "1116/1116 [==============================] - 1s 1ms/sample - loss: 0.7081 - accuracy: 0.8262 - val_loss: 0.7551 - val_accuracy: 0.8208\n",
      "Epoch 64/100\n",
      "1116/1116 [==============================] - 1s 991us/sample - loss: 0.7077 - accuracy: 0.8262 - val_loss: 0.7845 - val_accuracy: 0.8136\n",
      "Epoch 65/100\n",
      "1116/1116 [==============================] - 1s 1ms/sample - loss: 0.7073 - accuracy: 0.8235 - val_loss: 0.7364 - val_accuracy: 0.8351\n",
      "Epoch 66/100\n",
      "1116/1116 [==============================] - 1s 1ms/sample - loss: 0.6947 - accuracy: 0.8253 - val_loss: 0.7133 - val_accuracy: 0.8495\n",
      "Epoch 67/100\n",
      "1116/1116 [==============================] - 1s 1ms/sample - loss: 0.6884 - accuracy: 0.8253 - val_loss: 0.7103 - val_accuracy: 0.8495\n",
      "Epoch 68/100\n",
      "1116/1116 [==============================] - 1s 985us/sample - loss: 0.6972 - accuracy: 0.8208 - val_loss: 0.7091 - val_accuracy: 0.8459\n",
      "Epoch 69/100\n",
      "1116/1116 [==============================] - 1s 983us/sample - loss: 0.6820 - accuracy: 0.8315 - val_loss: 0.7255 - val_accuracy: 0.8351\n",
      "Epoch 70/100\n",
      "1116/1116 [==============================] - 1s 1ms/sample - loss: 0.6768 - accuracy: 0.8280 - val_loss: 0.7120 - val_accuracy: 0.8423\n",
      "Epoch 71/100\n",
      "1116/1116 [==============================] - 1s 1ms/sample - loss: 0.6758 - accuracy: 0.8280 - val_loss: 0.7245 - val_accuracy: 0.8387\n",
      "Epoch 72/100\n",
      "1116/1116 [==============================] - 1s 1ms/sample - loss: 0.6743 - accuracy: 0.8271 - val_loss: 0.7001 - val_accuracy: 0.8495\n",
      "Epoch 73/100\n",
      "1116/1116 [==============================] - 1s 1ms/sample - loss: 0.6711 - accuracy: 0.8315 - val_loss: 0.7036 - val_accuracy: 0.8423\n",
      "Epoch 74/100\n",
      "1116/1116 [==============================] - 1s 1ms/sample - loss: 0.6612 - accuracy: 0.8333 - val_loss: 0.6940 - val_accuracy: 0.8459\n",
      "Epoch 75/100\n",
      "1116/1116 [==============================] - 1s 1ms/sample - loss: 0.6679 - accuracy: 0.8297 - val_loss: 0.7240 - val_accuracy: 0.8459\n",
      "Epoch 76/100\n",
      "1116/1116 [==============================] - 1s 1ms/sample - loss: 0.6677 - accuracy: 0.8297 - val_loss: 0.7076 - val_accuracy: 0.8423\n",
      "Epoch 77/100\n",
      "1116/1116 [==============================] - 1s 1ms/sample - loss: 0.6435 - accuracy: 0.8342 - val_loss: 0.7034 - val_accuracy: 0.8423\n",
      "Epoch 78/100\n",
      "1116/1116 [==============================] - 1s 1ms/sample - loss: 0.6651 - accuracy: 0.8289 - val_loss: 0.7059 - val_accuracy: 0.8423\n",
      "Epoch 79/100\n",
      "1116/1116 [==============================] - 1s 1ms/sample - loss: 0.6575 - accuracy: 0.8280 - val_loss: 0.7190 - val_accuracy: 0.8459\n",
      "Epoch 80/100\n",
      "1116/1116 [==============================] - 1s 1ms/sample - loss: 0.6462 - accuracy: 0.8360 - val_loss: 0.7289 - val_accuracy: 0.8315\n",
      "Epoch 81/100\n",
      "1116/1116 [==============================] - 1s 1ms/sample - loss: 0.6625 - accuracy: 0.8289 - val_loss: 0.7089 - val_accuracy: 0.8387\n",
      "Epoch 82/100\n",
      "1116/1116 [==============================] - 1s 1ms/sample - loss: 0.6533 - accuracy: 0.8306 - val_loss: 0.7038 - val_accuracy: 0.8495\n",
      "Epoch 83/100\n",
      "1116/1116 [==============================] - 1s 990us/sample - loss: 0.6452 - accuracy: 0.8333 - val_loss: 0.7075 - val_accuracy: 0.8495\n",
      "Epoch 84/100\n",
      "1116/1116 [==============================] - 1s 1ms/sample - loss: 0.6348 - accuracy: 0.8315 - val_loss: 0.7034 - val_accuracy: 0.8495\n",
      "Epoch 85/100\n",
      "1116/1116 [==============================] - 1s 1ms/sample - loss: 0.6222 - accuracy: 0.8378 - val_loss: 0.6939 - val_accuracy: 0.8459\n",
      "Epoch 86/100\n",
      "1116/1116 [==============================] - 1s 1ms/sample - loss: 0.6559 - accuracy: 0.8297 - val_loss: 0.7127 - val_accuracy: 0.8566\n",
      "Epoch 87/100\n",
      "1116/1116 [==============================] - 1s 1ms/sample - loss: 0.6378 - accuracy: 0.8280 - val_loss: 0.7041 - val_accuracy: 0.8530\n",
      "Epoch 88/100\n",
      "1116/1116 [==============================] - 1s 1ms/sample - loss: 0.6245 - accuracy: 0.8333 - val_loss: 0.6904 - val_accuracy: 0.8459\n",
      "Epoch 89/100\n",
      "1116/1116 [==============================] - 1s 1ms/sample - loss: 0.6174 - accuracy: 0.8387 - val_loss: 0.6893 - val_accuracy: 0.8495\n",
      "Epoch 90/100\n",
      "1116/1116 [==============================] - 1s 1ms/sample - loss: 0.6163 - accuracy: 0.8405 - val_loss: 0.7005 - val_accuracy: 0.8495\n",
      "Epoch 91/100\n",
      "1116/1116 [==============================] - 1s 1ms/sample - loss: 0.6253 - accuracy: 0.8396 - val_loss: 0.7048 - val_accuracy: 0.8423\n",
      "Epoch 92/100\n",
      "1116/1116 [==============================] - 1s 1ms/sample - loss: 0.6089 - accuracy: 0.8414 - val_loss: 0.6901 - val_accuracy: 0.8459\n",
      "Epoch 93/100\n",
      "1116/1116 [==============================] - 1s 1ms/sample - loss: 0.6144 - accuracy: 0.8351 - val_loss: 0.7045 - val_accuracy: 0.8566\n",
      "Epoch 94/100\n",
      "1116/1116 [==============================] - 1s 986us/sample - loss: 0.6053 - accuracy: 0.8423 - val_loss: 0.7000 - val_accuracy: 0.8423\n",
      "Epoch 95/100\n",
      "1116/1116 [==============================] - 1s 987us/sample - loss: 0.5980 - accuracy: 0.8414 - val_loss: 0.7034 - val_accuracy: 0.8495\n",
      "Epoch 96/100\n",
      "1116/1116 [==============================] - 1s 1ms/sample - loss: 0.6016 - accuracy: 0.8396 - val_loss: 0.7673 - val_accuracy: 0.8351\n",
      "Epoch 97/100\n",
      "1116/1116 [==============================] - 1s 998us/sample - loss: 0.6277 - accuracy: 0.8306 - val_loss: 0.6977 - val_accuracy: 0.8566\n",
      "Epoch 98/100\n",
      "1116/1116 [==============================] - 1s 996us/sample - loss: 0.6011 - accuracy: 0.8396 - val_loss: 0.6926 - val_accuracy: 0.8530\n",
      "Epoch 99/100\n",
      "1116/1116 [==============================] - 1s 1ms/sample - loss: 0.5959 - accuracy: 0.8387 - val_loss: 0.6949 - val_accuracy: 0.8530\n",
      "Epoch 100/100\n",
      "1116/1116 [==============================] - 1s 993us/sample - loss: 0.5928 - accuracy: 0.8432 - val_loss: 0.7133 - val_accuracy: 0.8423\n",
      "CPU times: user 3min 20s, sys: 6.77 s, total: 3min 27s\n",
      "Wall time: 1min 56s\n"
     ]
    }
   ],
   "source": [
    "%%time\n",
    "history = model.fit(X_train, y_train, batch_size = 50, epochs = 100, validation_split = 0.2, verbose = 1)"
   ]
  },
  {
   "cell_type": "code",
   "execution_count": 21,
   "metadata": {
    "colab": {
     "base_uri": "https://localhost:8080/",
     "height": 265
    },
    "colab_type": "code",
    "executionInfo": {
     "elapsed": 1148,
     "status": "ok",
     "timestamp": 1576818435386,
     "user": {
      "displayName": "Inkwon Lee",
      "photoUrl": "https://lh3.googleusercontent.com/a-/AAuE7mAUimr4LLwG9jQhtI6v5Xoc_6W20KURwYIwyWfFlw=s64",
      "userId": "04142475634544618262"
     },
     "user_tz": -540
    },
    "id": "td5xN-WndCvK",
    "outputId": "ba80017d-41cd-47b9-db96-259490161565"
   },
   "outputs": [
    {
     "data": {
      "image/png": "[encoded data removed]",
      "text/plain": [
       "<Figure size 432x288 with 1 Axes>"
      ]
     },
     "metadata": {
      "tags": []
     },
     "output_type": "display_data"
    }
   ],
   "source": [
    "plt.plot(history.history['accuracy'])\n",
    "plt.plot(history.history['val_accuracy'])\n",
    "plt.legend(['training', 'validation'], loc = 'upper left')\n",
    "plt.show()"
   ]
  },
  {
   "cell_type": "code",
   "execution_count": 22,
   "metadata": {
    "colab": {
     "base_uri": "https://localhost:8080/",
     "height": 51
    },
    "colab_type": "code",
    "executionInfo": {
     "elapsed": 1211,
     "status": "ok",
     "timestamp": 1576818441120,
     "user": {
      "displayName": "Inkwon Lee",
      "photoUrl": "https://lh3.googleusercontent.com/a-/AAuE7mAUimr4LLwG9jQhtI6v5Xoc_6W20KURwYIwyWfFlw=s64",
      "userId": "04142475634544618262"
     },
     "user_tz": -540
    },
    "id": "FqvATdrclx9s",
    "outputId": "f60cf74f-e03d-4ec7-9a6b-8c2ff0e64436"
   },
   "outputs": [
    {
     "name": "stdout",
     "output_type": "stream",
     "text": [
      "599/599 [==============================] - 0s 337us/sample - loss: 0.8256 - accuracy: 0.8230\n",
      "Test accuracy:  0.8230384\n"
     ]
    }
   ],
   "source": [
    "results = model.evaluate(X_test, y_test)\n",
    "print('Test accuracy: ', results[1])"
   ]
  },
  {
   "cell_type": "code",
   "execution_count": 0,
   "metadata": {
    "colab": {},
    "colab_type": "code",
    "id": "Xukg9bJ9mKuE"
   },
   "outputs": [],
   "source": [
    "from tensorflow.keras.layers import Bidirectional"
   ]
  },
  {
   "cell_type": "code",
   "execution_count": 0,
   "metadata": {
    "colab": {},
    "colab_type": "code",
    "id": "VH4ksjgvuDc5"
   },
   "outputs": [],
   "source": [
    "def bidirectional_lstm():\n",
    "    model = Sequential()\n",
    "    model.add(Bidirectional(LSTM(20, return_sequences = False), input_shape = (49,1)))\n",
    "    model.add(Dense(46))\n",
    "    model.add(Activation('softmax'))\n",
    "    \n",
    "    adam = optimizers.Adam(lr = 0.001)\n",
    "    model.compile(loss = 'categorical_crossentropy', optimizer = adam, metrics = ['accuracy'])\n",
    "    \n",
    "    return model"
   ]
  },
  {
   "cell_type": "code",
   "execution_count": 31,
   "metadata": {
    "colab": {
     "base_uri": "https://localhost:8080/",
     "height": 255
    },
    "colab_type": "code",
    "executionInfo": {
     "elapsed": 1491,
     "status": "ok",
     "timestamp": 1576819154859,
     "user": {
      "displayName": "Inkwon Lee",
      "photoUrl": "https://lh3.googleusercontent.com/a-/AAuE7mAUimr4LLwG9jQhtI6v5Xoc_6W20KURwYIwyWfFlw=s64",
      "userId": "04142475634544618262"
     },
     "user_tz": -540
    },
    "id": "i1Wnm4kfuM8F",
    "outputId": "b9dc34ae-931d-43e3-a4be-277b5bc3a5ea"
   },
   "outputs": [
    {
     "name": "stdout",
     "output_type": "stream",
     "text": [
      "Model: \"sequential_3\"\n",
      "_________________________________________________________________\n",
      "Layer (type)                 Output Shape              Param #   \n",
      "=================================================================\n",
      "bidirectional (Bidirectional (None, 40)                3520      \n",
      "_________________________________________________________________\n",
      "dense_3 (Dense)              (None, 46)                1886      \n",
      "_________________________________________________________________\n",
      "activation_3 (Activation)    (None, 46)                0         \n",
      "=================================================================\n",
      "Total params: 5,406\n",
      "Trainable params: 5,406\n",
      "Non-trainable params: 0\n",
      "_________________________________________________________________\n"
     ]
    }
   ],
   "source": [
    "model = bidirectional_lstm()\n",
    "model.summary()"
   ]
  },
  {
   "cell_type": "code",
   "execution_count": 32,
   "metadata": {
    "colab": {
     "base_uri": "https://localhost:8080/",
     "height": 1000
    },
    "colab_type": "code",
    "executionInfo": {
     "elapsed": 64334,
     "status": "ok",
     "timestamp": 1576819224341,
     "user": {
      "displayName": "Inkwon Lee",
      "photoUrl": "https://lh3.googleusercontent.com/a-/AAuE7mAUimr4LLwG9jQhtI6v5Xoc_6W20KURwYIwyWfFlw=s64",
      "userId": "04142475634544618262"
     },
     "user_tz": -540
    },
    "id": "U0biF5UXuR2J",
    "outputId": "f2a2c653-9326-4e38-8f88-1b7fc54c8e00"
   },
   "outputs": [
    {
     "name": "stdout",
     "output_type": "stream",
     "text": [
      "Train on 1116 samples, validate on 279 samples\n",
      "Epoch 1/100\n",
      "1116/1116 [==============================] - 3s 3ms/sample - loss: 3.8528 - accuracy: 0.0027 - val_loss: 3.4474 - val_accuracy: 0.2366\n",
      "Epoch 2/100\n",
      "1116/1116 [==============================] - 1s 550us/sample - loss: 2.9848 - accuracy: 0.6389 - val_loss: 2.2658 - val_accuracy: 0.7240\n",
      "Epoch 3/100\n",
      "1116/1116 [==============================] - 1s 541us/sample - loss: 1.7762 - accuracy: 0.7124 - val_loss: 1.3338 - val_accuracy: 0.7240\n",
      "Epoch 4/100\n",
      "1116/1116 [==============================] - 1s 537us/sample - loss: 1.2675 - accuracy: 0.7124 - val_loss: 1.1326 - val_accuracy: 0.7240\n",
      "Epoch 5/100\n",
      "1116/1116 [==============================] - 1s 539us/sample - loss: 1.1795 - accuracy: 0.7124 - val_loss: 1.0876 - val_accuracy: 0.7240\n",
      "Epoch 6/100\n",
      "1116/1116 [==============================] - 1s 543us/sample - loss: 1.1402 - accuracy: 0.7124 - val_loss: 1.0500 - val_accuracy: 0.7240\n",
      "Epoch 7/100\n",
      "1116/1116 [==============================] - 1s 544us/sample - loss: 1.1147 - accuracy: 0.7124 - val_loss: 1.0318 - val_accuracy: 0.7240\n",
      "Epoch 8/100\n",
      "1116/1116 [==============================] - 1s 547us/sample - loss: 1.0902 - accuracy: 0.7124 - val_loss: 1.0086 - val_accuracy: 0.7240\n",
      "Epoch 9/100\n",
      "1116/1116 [==============================] - 1s 550us/sample - loss: 1.0664 - accuracy: 0.7124 - val_loss: 0.9866 - val_accuracy: 0.7240\n",
      "Epoch 10/100\n",
      "1116/1116 [==============================] - 1s 566us/sample - loss: 1.0424 - accuracy: 0.7124 - val_loss: 0.9619 - val_accuracy: 0.7240\n",
      "Epoch 11/100\n",
      "1116/1116 [==============================] - 1s 560us/sample - loss: 1.0192 - accuracy: 0.7124 - val_loss: 0.9397 - val_accuracy: 0.7240\n",
      "Epoch 12/100\n",
      "1116/1116 [==============================] - 1s 546us/sample - loss: 0.9955 - accuracy: 0.7142 - val_loss: 0.9247 - val_accuracy: 0.7348\n",
      "Epoch 13/100\n",
      "1116/1116 [==============================] - 1s 553us/sample - loss: 0.9770 - accuracy: 0.7473 - val_loss: 0.9012 - val_accuracy: 0.7563\n",
      "Epoch 14/100\n",
      "1116/1116 [==============================] - 1s 531us/sample - loss: 0.9542 - accuracy: 0.7249 - val_loss: 0.8860 - val_accuracy: 0.7563\n",
      "Epoch 15/100\n",
      "1116/1116 [==============================] - 1s 557us/sample - loss: 0.9305 - accuracy: 0.7715 - val_loss: 0.8704 - val_accuracy: 0.7742\n",
      "Epoch 16/100\n",
      "1116/1116 [==============================] - 1s 542us/sample - loss: 0.9147 - accuracy: 0.7742 - val_loss: 0.8507 - val_accuracy: 0.7814\n",
      "Epoch 17/100\n",
      "1116/1116 [==============================] - 1s 550us/sample - loss: 0.8988 - accuracy: 0.7796 - val_loss: 0.8415 - val_accuracy: 0.7957\n",
      "Epoch 18/100\n",
      "1116/1116 [==============================] - 1s 563us/sample - loss: 0.8896 - accuracy: 0.7832 - val_loss: 0.8308 - val_accuracy: 0.7849\n",
      "Epoch 19/100\n",
      "1116/1116 [==============================] - 1s 536us/sample - loss: 0.8751 - accuracy: 0.7787 - val_loss: 0.8214 - val_accuracy: 0.7993\n",
      "Epoch 20/100\n",
      "1116/1116 [==============================] - 1s 557us/sample - loss: 0.8534 - accuracy: 0.7760 - val_loss: 0.8041 - val_accuracy: 0.8029\n",
      "Epoch 21/100\n",
      "1116/1116 [==============================] - 1s 554us/sample - loss: 0.8344 - accuracy: 0.7841 - val_loss: 0.8015 - val_accuracy: 0.8029\n",
      "Epoch 22/100\n",
      "1116/1116 [==============================] - 1s 535us/sample - loss: 0.8234 - accuracy: 0.7876 - val_loss: 0.7870 - val_accuracy: 0.8029\n",
      "Epoch 23/100\n",
      "1116/1116 [==============================] - 1s 542us/sample - loss: 0.8097 - accuracy: 0.7948 - val_loss: 0.7735 - val_accuracy: 0.8136\n",
      "Epoch 24/100\n",
      "1116/1116 [==============================] - 1s 546us/sample - loss: 0.7998 - accuracy: 0.7939 - val_loss: 0.7674 - val_accuracy: 0.8136\n",
      "Epoch 25/100\n",
      "1116/1116 [==============================] - 1s 534us/sample - loss: 0.7999 - accuracy: 0.7912 - val_loss: 0.7656 - val_accuracy: 0.8065\n",
      "Epoch 26/100\n",
      "1116/1116 [==============================] - 1s 521us/sample - loss: 0.7869 - accuracy: 0.7957 - val_loss: 0.7568 - val_accuracy: 0.8172\n",
      "Epoch 27/100\n",
      "1116/1116 [==============================] - 1s 560us/sample - loss: 0.7815 - accuracy: 0.8065 - val_loss: 0.7577 - val_accuracy: 0.8172\n",
      "Epoch 28/100\n",
      "1116/1116 [==============================] - 1s 546us/sample - loss: 0.7758 - accuracy: 0.8065 - val_loss: 0.7499 - val_accuracy: 0.8459\n",
      "Epoch 29/100\n",
      "1116/1116 [==============================] - 1s 539us/sample - loss: 0.7717 - accuracy: 0.8136 - val_loss: 0.7468 - val_accuracy: 0.8351\n",
      "Epoch 30/100\n",
      "1116/1116 [==============================] - 1s 544us/sample - loss: 0.7686 - accuracy: 0.8172 - val_loss: 0.7475 - val_accuracy: 0.8459\n",
      "Epoch 31/100\n",
      "1116/1116 [==============================] - 1s 534us/sample - loss: 0.7688 - accuracy: 0.8118 - val_loss: 0.7489 - val_accuracy: 0.8065\n",
      "Epoch 32/100\n",
      "1116/1116 [==============================] - 1s 528us/sample - loss: 0.7661 - accuracy: 0.8172 - val_loss: 0.7274 - val_accuracy: 0.8351\n",
      "Epoch 33/100\n",
      "1116/1116 [==============================] - 1s 540us/sample - loss: 0.7594 - accuracy: 0.8181 - val_loss: 0.7226 - val_accuracy: 0.8387\n",
      "Epoch 34/100\n",
      "1116/1116 [==============================] - 1s 546us/sample - loss: 0.7491 - accuracy: 0.8190 - val_loss: 0.7250 - val_accuracy: 0.8244\n",
      "Epoch 35/100\n",
      "1116/1116 [==============================] - 1s 544us/sample - loss: 0.7467 - accuracy: 0.8190 - val_loss: 0.7168 - val_accuracy: 0.8387\n",
      "Epoch 36/100\n",
      "1116/1116 [==============================] - 1s 550us/sample - loss: 0.7392 - accuracy: 0.8181 - val_loss: 0.7177 - val_accuracy: 0.8315\n",
      "Epoch 37/100\n",
      "1116/1116 [==============================] - 1s 542us/sample - loss: 0.7359 - accuracy: 0.8235 - val_loss: 0.7080 - val_accuracy: 0.8459\n",
      "Epoch 38/100\n",
      "1116/1116 [==============================] - 1s 566us/sample - loss: 0.7316 - accuracy: 0.8226 - val_loss: 0.7089 - val_accuracy: 0.8423\n",
      "Epoch 39/100\n",
      "1116/1116 [==============================] - 1s 567us/sample - loss: 0.7286 - accuracy: 0.8226 - val_loss: 0.7050 - val_accuracy: 0.8423\n",
      "Epoch 40/100\n",
      "1116/1116 [==============================] - 1s 596us/sample - loss: 0.7224 - accuracy: 0.8244 - val_loss: 0.7054 - val_accuracy: 0.8495\n",
      "Epoch 41/100\n",
      "1116/1116 [==============================] - 1s 570us/sample - loss: 0.7218 - accuracy: 0.8235 - val_loss: 0.6949 - val_accuracy: 0.8495\n",
      "Epoch 42/100\n",
      "1116/1116 [==============================] - 1s 587us/sample - loss: 0.7184 - accuracy: 0.8190 - val_loss: 0.6974 - val_accuracy: 0.8495\n",
      "Epoch 43/100\n",
      "1116/1116 [==============================] - 1s 586us/sample - loss: 0.7134 - accuracy: 0.8262 - val_loss: 0.6933 - val_accuracy: 0.8423\n",
      "Epoch 44/100\n",
      "1116/1116 [==============================] - 1s 609us/sample - loss: 0.7140 - accuracy: 0.8235 - val_loss: 0.6952 - val_accuracy: 0.8423\n",
      "Epoch 45/100\n",
      "1116/1116 [==============================] - 1s 557us/sample - loss: 0.7132 - accuracy: 0.8271 - val_loss: 0.7058 - val_accuracy: 0.8423\n",
      "Epoch 46/100\n",
      "1116/1116 [==============================] - 1s 551us/sample - loss: 0.7147 - accuracy: 0.8235 - val_loss: 0.6891 - val_accuracy: 0.8423\n",
      "Epoch 47/100\n",
      "1116/1116 [==============================] - 1s 566us/sample - loss: 0.7034 - accuracy: 0.8262 - val_loss: 0.6861 - val_accuracy: 0.8459\n",
      "Epoch 48/100\n",
      "1116/1116 [==============================] - 1s 559us/sample - loss: 0.6949 - accuracy: 0.8297 - val_loss: 0.6887 - val_accuracy: 0.8495\n",
      "Epoch 49/100\n",
      "1116/1116 [==============================] - 1s 548us/sample - loss: 0.7021 - accuracy: 0.8226 - val_loss: 0.6832 - val_accuracy: 0.8459\n",
      "Epoch 50/100\n",
      "1116/1116 [==============================] - 1s 582us/sample - loss: 0.6942 - accuracy: 0.8315 - val_loss: 0.6810 - val_accuracy: 0.8423\n",
      "Epoch 51/100\n",
      "1116/1116 [==============================] - 1s 561us/sample - loss: 0.6919 - accuracy: 0.8244 - val_loss: 0.6823 - val_accuracy: 0.8423\n",
      "Epoch 52/100\n",
      "1116/1116 [==============================] - 1s 595us/sample - loss: 0.6879 - accuracy: 0.8289 - val_loss: 0.6801 - val_accuracy: 0.8459\n",
      "Epoch 53/100\n",
      "1116/1116 [==============================] - 1s 553us/sample - loss: 0.7005 - accuracy: 0.8217 - val_loss: 0.6759 - val_accuracy: 0.8459\n",
      "Epoch 54/100\n",
      "1116/1116 [==============================] - 1s 550us/sample - loss: 0.6849 - accuracy: 0.8306 - val_loss: 0.6766 - val_accuracy: 0.8459\n",
      "Epoch 55/100\n",
      "1116/1116 [==============================] - 1s 550us/sample - loss: 0.6784 - accuracy: 0.8351 - val_loss: 0.6817 - val_accuracy: 0.8459\n",
      "Epoch 56/100\n",
      "1116/1116 [==============================] - 1s 537us/sample - loss: 0.6771 - accuracy: 0.8369 - val_loss: 0.6700 - val_accuracy: 0.8459\n",
      "Epoch 57/100\n",
      "1116/1116 [==============================] - 1s 538us/sample - loss: 0.6741 - accuracy: 0.8324 - val_loss: 0.6773 - val_accuracy: 0.8495\n",
      "Epoch 58/100\n",
      "1116/1116 [==============================] - 1s 552us/sample - loss: 0.6788 - accuracy: 0.8333 - val_loss: 0.6881 - val_accuracy: 0.8423\n",
      "Epoch 59/100\n",
      "1116/1116 [==============================] - 1s 546us/sample - loss: 0.6742 - accuracy: 0.8306 - val_loss: 0.6677 - val_accuracy: 0.8423\n",
      "Epoch 60/100\n",
      "1116/1116 [==============================] - 1s 521us/sample - loss: 0.6660 - accuracy: 0.8333 - val_loss: 0.6632 - val_accuracy: 0.8459\n",
      "Epoch 61/100\n",
      "1116/1116 [==============================] - 1s 541us/sample - loss: 0.6642 - accuracy: 0.8369 - val_loss: 0.6736 - val_accuracy: 0.8423\n",
      "Epoch 62/100\n",
      "1116/1116 [==============================] - 1s 558us/sample - loss: 0.6660 - accuracy: 0.8333 - val_loss: 0.6651 - val_accuracy: 0.8495\n",
      "Epoch 63/100\n",
      "1116/1116 [==============================] - 1s 529us/sample - loss: 0.6609 - accuracy: 0.8333 - val_loss: 0.6652 - val_accuracy: 0.8459\n",
      "Epoch 64/100\n",
      "1116/1116 [==============================] - 1s 536us/sample - loss: 0.6577 - accuracy: 0.8369 - val_loss: 0.6640 - val_accuracy: 0.8530\n",
      "Epoch 65/100\n",
      "1116/1116 [==============================] - 1s 550us/sample - loss: 0.6610 - accuracy: 0.8342 - val_loss: 0.6597 - val_accuracy: 0.8530\n",
      "Epoch 66/100\n",
      "1116/1116 [==============================] - 1s 559us/sample - loss: 0.6523 - accuracy: 0.8333 - val_loss: 0.6679 - val_accuracy: 0.8530\n",
      "Epoch 67/100\n",
      "1116/1116 [==============================] - 1s 536us/sample - loss: 0.6494 - accuracy: 0.8378 - val_loss: 0.6625 - val_accuracy: 0.8459\n",
      "Epoch 68/100\n",
      "1116/1116 [==============================] - 1s 537us/sample - loss: 0.6539 - accuracy: 0.8342 - val_loss: 0.6617 - val_accuracy: 0.8495\n",
      "Epoch 69/100\n",
      "1116/1116 [==============================] - 1s 521us/sample - loss: 0.6655 - accuracy: 0.8387 - val_loss: 0.6566 - val_accuracy: 0.8530\n",
      "Epoch 70/100\n",
      "1116/1116 [==============================] - 1s 559us/sample - loss: 0.6501 - accuracy: 0.8378 - val_loss: 0.6480 - val_accuracy: 0.8495\n",
      "Epoch 71/100\n",
      "1116/1116 [==============================] - 1s 531us/sample - loss: 0.6530 - accuracy: 0.8360 - val_loss: 0.6547 - val_accuracy: 0.8495\n",
      "Epoch 72/100\n",
      "1116/1116 [==============================] - 1s 548us/sample - loss: 0.6427 - accuracy: 0.8414 - val_loss: 0.6546 - val_accuracy: 0.8495\n",
      "Epoch 73/100\n",
      "1116/1116 [==============================] - 1s 559us/sample - loss: 0.6369 - accuracy: 0.8441 - val_loss: 0.6529 - val_accuracy: 0.8495\n",
      "Epoch 74/100\n",
      "1116/1116 [==============================] - 1s 528us/sample - loss: 0.6387 - accuracy: 0.8387 - val_loss: 0.6591 - val_accuracy: 0.8530\n",
      "Epoch 75/100\n",
      "1116/1116 [==============================] - 1s 539us/sample - loss: 0.6388 - accuracy: 0.8414 - val_loss: 0.6524 - val_accuracy: 0.8530\n",
      "Epoch 76/100\n",
      "1116/1116 [==============================] - 1s 524us/sample - loss: 0.6331 - accuracy: 0.8432 - val_loss: 0.6439 - val_accuracy: 0.8566\n",
      "Epoch 77/100\n",
      "1116/1116 [==============================] - 1s 542us/sample - loss: 0.6361 - accuracy: 0.8387 - val_loss: 0.6621 - val_accuracy: 0.8566\n",
      "Epoch 78/100\n",
      "1116/1116 [==============================] - 1s 542us/sample - loss: 0.6332 - accuracy: 0.8396 - val_loss: 0.6466 - val_accuracy: 0.8602\n",
      "Epoch 79/100\n",
      "1116/1116 [==============================] - 1s 555us/sample - loss: 0.6326 - accuracy: 0.8432 - val_loss: 0.6455 - val_accuracy: 0.8530\n",
      "Epoch 80/100\n",
      "1116/1116 [==============================] - 1s 535us/sample - loss: 0.6269 - accuracy: 0.8432 - val_loss: 0.6507 - val_accuracy: 0.8638\n",
      "Epoch 81/100\n",
      "1116/1116 [==============================] - 1s 533us/sample - loss: 0.6273 - accuracy: 0.8450 - val_loss: 0.6461 - val_accuracy: 0.8638\n",
      "Epoch 82/100\n",
      "1116/1116 [==============================] - 1s 551us/sample - loss: 0.6286 - accuracy: 0.8414 - val_loss: 0.6420 - val_accuracy: 0.8602\n",
      "Epoch 83/100\n",
      "1116/1116 [==============================] - 1s 543us/sample - loss: 0.6271 - accuracy: 0.8459 - val_loss: 0.6447 - val_accuracy: 0.8566\n",
      "Epoch 84/100\n",
      "1116/1116 [==============================] - 1s 528us/sample - loss: 0.6295 - accuracy: 0.8423 - val_loss: 0.6397 - val_accuracy: 0.8530\n",
      "Epoch 85/100\n",
      "1116/1116 [==============================] - 1s 551us/sample - loss: 0.6322 - accuracy: 0.8450 - val_loss: 0.6470 - val_accuracy: 0.8602\n",
      "Epoch 86/100\n",
      "1116/1116 [==============================] - 1s 551us/sample - loss: 0.6257 - accuracy: 0.8405 - val_loss: 0.6501 - val_accuracy: 0.8566\n",
      "Epoch 87/100\n",
      "1116/1116 [==============================] - 1s 548us/sample - loss: 0.6210 - accuracy: 0.8387 - val_loss: 0.6402 - val_accuracy: 0.8674\n",
      "Epoch 88/100\n",
      "1116/1116 [==============================] - 1s 562us/sample - loss: 0.6182 - accuracy: 0.8522 - val_loss: 0.6424 - val_accuracy: 0.8566\n",
      "Epoch 89/100\n",
      "1116/1116 [==============================] - 1s 578us/sample - loss: 0.6144 - accuracy: 0.8477 - val_loss: 0.6367 - val_accuracy: 0.8638\n",
      "Epoch 90/100\n",
      "1116/1116 [==============================] - 1s 543us/sample - loss: 0.6143 - accuracy: 0.8513 - val_loss: 0.6419 - val_accuracy: 0.8638\n",
      "Epoch 91/100\n",
      "1116/1116 [==============================] - 1s 536us/sample - loss: 0.6232 - accuracy: 0.8405 - val_loss: 0.6401 - val_accuracy: 0.8566\n",
      "Epoch 92/100\n",
      "1116/1116 [==============================] - 1s 567us/sample - loss: 0.6115 - accuracy: 0.8468 - val_loss: 0.6352 - val_accuracy: 0.8638\n",
      "Epoch 93/100\n",
      "1116/1116 [==============================] - 1s 547us/sample - loss: 0.6081 - accuracy: 0.8539 - val_loss: 0.6367 - val_accuracy: 0.8602\n",
      "Epoch 94/100\n",
      "1116/1116 [==============================] - 1s 545us/sample - loss: 0.6055 - accuracy: 0.8486 - val_loss: 0.6400 - val_accuracy: 0.8638\n",
      "Epoch 95/100\n",
      "1116/1116 [==============================] - 1s 543us/sample - loss: 0.6067 - accuracy: 0.8513 - val_loss: 0.6365 - val_accuracy: 0.8710\n",
      "Epoch 96/100\n",
      "1116/1116 [==============================] - 1s 572us/sample - loss: 0.6007 - accuracy: 0.8504 - val_loss: 0.6496 - val_accuracy: 0.8602\n",
      "Epoch 97/100\n",
      "1116/1116 [==============================] - 1s 540us/sample - loss: 0.6146 - accuracy: 0.8441 - val_loss: 0.6318 - val_accuracy: 0.8674\n",
      "Epoch 98/100\n",
      "1116/1116 [==============================] - 1s 552us/sample - loss: 0.6024 - accuracy: 0.8486 - val_loss: 0.6301 - val_accuracy: 0.8674\n",
      "Epoch 99/100\n",
      "1116/1116 [==============================] - 1s 569us/sample - loss: 0.5988 - accuracy: 0.8539 - val_loss: 0.6378 - val_accuracy: 0.8674\n",
      "Epoch 100/100\n",
      "1116/1116 [==============================] - 1s 545us/sample - loss: 0.6030 - accuracy: 0.8468 - val_loss: 0.6293 - val_accuracy: 0.8674\n",
      "CPU times: user 1min 51s, sys: 1.52 s, total: 1min 53s\n",
      "Wall time: 1min 3s\n"
     ]
    }
   ],
   "source": [
    "%%time\n",
    "history = model.fit(X_train, y_train, batch_size = 50, epochs = 100, validation_split = 0.2, verbose = 1)"
   ]
  },
  {
   "cell_type": "code",
   "execution_count": 33,
   "metadata": {
    "colab": {
     "base_uri": "https://localhost:8080/",
     "height": 265
    },
    "colab_type": "code",
    "executionInfo": {
     "elapsed": 1074,
     "status": "ok",
     "timestamp": 1576819235428,
     "user": {
      "displayName": "Inkwon Lee",
      "photoUrl": "https://lh3.googleusercontent.com/a-/AAuE7mAUimr4LLwG9jQhtI6v5Xoc_6W20KURwYIwyWfFlw=s64",
      "userId": "04142475634544618262"
     },
     "user_tz": -540
    },
    "id": "rUvOC35huaXK",
    "outputId": "081a953d-5523-45f8-c3d0-f70cd502040a"
   },
   "outputs": [
    {
     "data": {
      "image/png": "[encoded data removed]",
      "text/plain": [
       "<Figure size 432x288 with 1 Axes>"
      ]
     },
     "metadata": {
      "tags": []
     },
     "output_type": "display_data"
    }
   ],
   "source": [
    "plt.plot(history.history['accuracy'])\n",
    "plt.plot(history.history['val_accuracy'])\n",
    "plt.legend(['training', 'validation'], loc = 'upper left')\n",
    "plt.show()"
   ]
  },
  {
   "cell_type": "code",
   "execution_count": 34,
   "metadata": {
    "colab": {
     "base_uri": "https://localhost:8080/",
     "height": 51
    },
    "colab_type": "code",
    "executionInfo": {
     "elapsed": 721,
     "status": "ok",
     "timestamp": 1576819239036,
     "user": {
      "displayName": "Inkwon Lee",
      "photoUrl": "https://lh3.googleusercontent.com/a-/AAuE7mAUimr4LLwG9jQhtI6v5Xoc_6W20KURwYIwyWfFlw=s64",
      "userId": "04142475634544618262"
     },
     "user_tz": -540
    },
    "id": "DX-NmBB-ubHb",
    "outputId": "040bf1a4-a0d6-4464-913e-ffd0c905eecf"
   },
   "outputs": [
    {
     "name": "stdout",
     "output_type": "stream",
     "text": [
      "599/599 [==============================] - 0s 180us/sample - loss: 0.7722 - accuracy: 0.8397\n",
      "Test accuracy:  0.8397329\n"
     ]
    }
   ],
   "source": [
    "results = model.evaluate(X_test, y_test)\n",
    "print('Test accuracy: ', results[1])"
   ]
  },
  {
   "cell_type": "code",
   "execution_count": 0,
   "metadata": {
    "colab": {},
    "colab_type": "code",
    "id": "uUu8HTm3u9AN"
   },
   "outputs": [],
   "source": []
  }
 ],
 "metadata": {
  "colab": {
   "collapsed_sections": [],
   "name": "08-4-Reuter-LSTM.ipynb의 사본",
   "provenance": [
    {
     "file_id": "1SLxFAADbsWxz6R-1cWOF5LtBmbRKWeRL",
     "timestamp": 1576817837695
    }
   ]
  },
  "kernelspec": {
   "display_name": "Python 3",
   "language": "python",
   "name": "python3"
  },
  "language_info": {
   "codemirror_mode": {
    "name": "ipython",
    "version": 3
   },
   "file_extension": ".py",
   "mimetype": "text/x-python",
   "name": "python",
   "nbconvert_exporter": "python",
   "pygments_lexer": "ipython3",
   "version": "3.8.8"
  }
 },
 "nbformat": 4,
 "nbformat_minor": 1
}
