{
 "cells": [
  {
   "cell_type": "markdown",
   "id": "52fe119f",
   "metadata": {},
   "source": [
    "## Deeper CNN\n",
    "- 2021년 AlexNet이 제안되기 이전의 뉴럴 네트워크는 대부분 레이어가 몇 개 없는 얕은 구조\n",
    "- 장점\n",
    "    - 더 많은 feature extraction 연산\n",
    "    - 더 많은 비선형 활성 함수\n",
    "    - 이미지와 같은 복잡한 데이터의 추상적인 표현 캐치 가능\n",
    "- 단점\n",
    "    - Parameter의 숫자가 많아지면서 gradient descent를 통한 학습과정이 까다로워짐\n",
    "    - Overfitting 발생 가능성이 올라감. Function의 degree가 올라가면서 더 구불구불하고 training data에만 맞는 function이 될 확률이 높음"
   ]
  },
  {
   "cell_type": "code",
   "execution_count": 2,
   "id": "383c15c6",
   "metadata": {},
   "outputs": [],
   "source": [
    "import numpy as np\n",
    "import matplotlib.pyplot as plt\n",
    "from sklearn.model_selection import train_test_split\n",
    "from tensorflow.keras.datasets import mnist\n",
    "from tensorflow.keras.models import Sequential\n",
    "from tensorflow.keras.layers import Dense, Activation, Flatten, Conv2D, MaxPooling2D, AveragePooling2D, GlobalMaxPooling2D, ZeroPadding2D, Input\n",
    "from tensorflow.keras import optimizers\n",
    "from keras.utils.np_utils import to_categorical"
   ]
  },
  {
   "cell_type": "code",
   "execution_count": 3,
   "id": "4200e647",
   "metadata": {},
   "outputs": [],
   "source": [
    "(X_train, y_train), (X_test, y_test) = mnist.load_data()"
   ]
  },
  {
   "cell_type": "code",
   "execution_count": 4,
   "id": "9cd4f68c",
   "metadata": {},
   "outputs": [
    {
     "name": "stdout",
     "output_type": "stream",
     "text": [
      "(60000, 28, 28, 1) (10000, 28, 28, 1)\n",
      "(60000, 10) (10000, 10)\n"
     ]
    }
   ],
   "source": [
    "# (n, 28, 28) -> (n, 28, 28, 1)\n",
    "X_train = X_train.reshape((X_train.shape[0], X_train.shape[1], X_train.shape[2], 1))\n",
    "X_test = X_test.reshape((X_test.shape[0], X_test.shape[1], X_test.shape[2], 1))\n",
    "# one-hot encoding\n",
    "y_train = to_categorical(y_train)\n",
    "y_test = to_categorical(y_test)\n",
    "\n",
    "print(X_train.shape, X_test.shape)\n",
    "print(y_train.shape, y_test.shape)"
   ]
  },
  {
   "cell_type": "code",
   "execution_count": 7,
   "id": "abcd319c",
   "metadata": {},
   "outputs": [],
   "source": [
    "# Basic CNN\n",
    "def basic_cnn():\n",
    "    model = Sequential()\n",
    "    # input_shape (28, 28, 1)\n",
    "    model.add(Conv2D(input_shape=(X_train.shape[1], X_train.shape[2], X_train.shape[3]), filters=50, kernel_size=(3, 3), strides=(1,1), padding='same'))\n",
    "    model.add(Activation('relu'))\n",
    "    model.add(MaxPooling2D(pool_size=(2, 2)))\n",
    "    \n",
    "    model.add(Flatten())\n",
    "    model.add(Dense(50, activation='relu'))\n",
    "    model.add(Dense(10, activation='softmax'))\n",
    "    \n",
    "    adam = optimizers.Adam(learning_rate=0.001)\n",
    "    model.compile(loss='categorical_crossentropy', optimizer=adam, metrics=['accuracy'])\n",
    "    \n",
    "    return model"
   ]
  },
  {
   "cell_type": "code",
   "execution_count": 8,
   "id": "e5fa376a",
   "metadata": {},
   "outputs": [
    {
     "name": "stdout",
     "output_type": "stream",
     "text": [
      "Model: \"sequential_1\"\n",
      "_________________________________________________________________\n",
      "Layer (type)                 Output Shape              Param #   \n",
      "=================================================================\n",
      "conv2d_1 (Conv2D)            (None, 28, 28, 50)        500       \n",
      "_________________________________________________________________\n",
      "activation_1 (Activation)    (None, 28, 28, 50)        0         \n",
      "_________________________________________________________________\n",
      "max_pooling2d_1 (MaxPooling2 (None, 14, 14, 50)        0         \n",
      "_________________________________________________________________\n",
      "flatten_1 (Flatten)          (None, 9800)              0         \n",
      "_________________________________________________________________\n",
      "dense_2 (Dense)              (None, 50)                490050    \n",
      "_________________________________________________________________\n",
      "dense_3 (Dense)              (None, 10)                510       \n",
      "=================================================================\n",
      "Total params: 491,060\n",
      "Trainable params: 491,060\n",
      "Non-trainable params: 0\n",
      "_________________________________________________________________\n"
     ]
    }
   ],
   "source": [
    "model = basic_cnn()\n",
    "model.summary()"
   ]
  },
  {
   "cell_type": "code",
   "execution_count": null,
   "id": "fe1e74fc",
   "metadata": {},
   "outputs": [
    {
     "name": "stdout",
     "output_type": "stream",
     "text": [
      "Wall time: 0 ns\n"
     ]
    }
   ],
   "source": [
    "%time\n",
    "history = model.fit(X_train, y_train, batch_size=50, validation_split=0.2, epochs=100, verbose=0)\n",
    "\n",
    "# user time : CPU가 user 코드 실행에 걸린 시간\n",
    "# system time : CPU가 OS kernel 실행에 걸린 시간\n",
    "# wall time : 실제 프로그램 수행에 걸린 시간(CPU가 병렬 처리인 경우 CPU time 보다 wall time이 적어진다.)"
   ]
  },
  {
   "cell_type": "code",
   "execution_count": null,
   "id": "b0c3c41b",
   "metadata": {},
   "outputs": [],
   "source": [
    "plt.plot(history.history['accuracy'])\n",
    "plt.plot(history.history['val_accuracy'])\n",
    "plt.legend(['training', 'validation'], loc='upper left')\n",
    "plt.show()"
   ]
  },
  {
   "cell_type": "code",
   "execution_count": null,
   "id": "1e1a6adb",
   "metadata": {},
   "outputs": [],
   "source": [
    "results = model.evaluate(X_test, y_test)\n",
    "print('Test accuracy: ', results[1]"
   ]
  },
  {
   "cell_type": "code",
   "execution_count": null,
   "id": "6d542d53",
   "metadata": {},
   "outputs": [],
   "source": [
    "# Deep CNN\n",
    "def deep_cnn():\n",
    "    model = Sequential()\n",
    "    # input_shape (28, 28, 1)\n",
    "    model.add(Conv2D(input_shape=(X_train.shape[1], X_train.shape[2], X_train.shape[3]), filters=50, kernel_size=(3, 3), strides=(1,1), padding='same'))\n",
    "    model.add(Activation('relu'))\n",
    "    \n",
    "    model.add(Conv2D(filter=50, kernel_size=(3, 3), strides=(1, 1), padding=\"same\"))\n",
    "    model.add(Activation('relu'))\n",
    "    model.add(MaxPooling2D(pool_size=(2, 2)))\n",
    "    \n",
    "    model.add(Conv2D(filter=50, kernel_size=(3, 3), strides=(1, 1), padding=\"same\"))\n",
    "    model.add(Activation('relu'))\n",
    "    model.add(MaxPooling2D(pool_size=(2, 2)))\n",
    "    \n",
    "    model.add(Conv2D(filter=50, kernel_size=(3, 3), strides=(1, 1), padding=\"same\"))\n",
    "    model.add(Activation('relu'))\n",
    "    model.add(MaxPooling2D(pool_size=(2, 2)))\n",
    "    \n",
    "    model.add(Flatten())\n",
    "    model.add(Dense(50, activation='relu'))\n",
    "    model.add(Dense(10, activation='softmax'))\n",
    "    \n",
    "    adam = optimizers.Adam(learning_rate=0.001)\n",
    "    model.compile(loss='categorical_crossentropy', optimizer=adam, metrics=['accuracy'])\n",
    "    \n",
    "    return model"
   ]
  },
  {
   "cell_type": "code",
   "execution_count": null,
   "id": "11913652",
   "metadata": {},
   "outputs": [],
   "source": [
    "model = deep_cnn()\n",
    "model.summary()"
   ]
  },
  {
   "cell_type": "code",
   "execution_count": null,
   "id": "ad010dd6",
   "metadata": {},
   "outputs": [],
   "source": [
    "%time\n",
    "history = model.fit(X_train, y_train, batch_size = 50, validation_split = 0.2, epochs = 50, verbose = 0)"
   ]
  },
  {
   "cell_type": "code",
   "execution_count": null,
   "id": "856ba8a0",
   "metadata": {},
   "outputs": [],
   "source": [
    "plt.plot(history.history['accuracy'])\n",
    "plt.plot(history.history['val_accuracy'])\n",
    "plt.legend(['training', 'validation'], loc='upper left')\n",
    "plt.show()"
   ]
  },
  {
   "cell_type": "code",
   "execution_count": null,
   "id": "04d2a192",
   "metadata": {},
   "outputs": [],
   "source": [
    "results = model.evaluate(X_test, y_test)\n",
    "print('Test accuracy: ', results[1]"
   ]
  },
  {
   "cell_type": "code",
   "execution_count": null,
   "id": "2e59888d",
   "metadata": {},
   "outputs": [],
   "source": [
    "# Deep improved Model\n",
    "from tensorflow.keras.layers import BatchNormalization, Dropout\n",
    "\n",
    "def deep_improved_cnn():\n",
    "    model = Sequential()\n",
    "    # input_shape (28, 28, 1)\n",
    "    model.add(Conv2D(input_shape=(X_train.shape[1], X_train.shape[2], X_train.shape[3]), filters=50, kernel_size=(3, 3), strides=(1,1), padding='same'))\n",
    "    model.add(BatchNormalization())\n",
    "    model.add(Activation('relu'))\n",
    "    \n",
    "    model.add(Conv2D(filter=50, kernel_size=(3, 3), strides=(1, 1), padding=\"same\", kernel_initializer = 'he_normal'))\n",
    "    model.add(Conv2D(filter=25, kernel_size=(1, 1), strides=(1, 1), padding=\"valid\", kernel_initializer = 'he_normal'))\n",
    "    model.add(BatchNormalization())\n",
    "    model.add(Activation('relu'))\n",
    "    model.add(MaxPooling2D(pool_size=(2, 2)))\n",
    "    \n",
    "    model.add(Conv2D(filter=50, kernel_size=(3, 3), strides=(1, 1), padding=\"same\", kernel_initializer = 'he_normal'))\n",
    "    model.add(Conv2D(filter=25, kernel_size=(1, 1), strides=(1, 1), padding=\"valid\", kernel_initializer = 'he_normal'))\n",
    "    model.add(BatchNormalization())\n",
    "    model.add(Activation('relu'))\n",
    "    model.add(MaxPooling2D(pool_size=(2, 2)))\n",
    "    \n",
    "    model.add(Conv2D(filter=50, kernel_size=(3, 3), strides=(1, 1), padding=\"same\", kernel_initializer = 'he_normal'))\n",
    "    model.add(Conv2D(filter=25, kernel_size=(1, 1), strides=(1, 1), padding=\"valid\", kernel_initializer = 'he_normal'))\n",
    "    model.add(BatchNormalization())\n",
    "    model.add(Activation('relu'))\n",
    "    model.add(MaxPooling2D(pool_size=(2, 2)))\n",
    "    \n",
    "    model.add(Flatten())\n",
    "    model.add(Dense(50, activation='relu', kernel_initializer='he_normal'))\n",
    "    model.add(Dropout(0.5))\n",
    "    model.add(Dense(10, activation='softmax', kernel_initializer='he_normal'))\n",
    "    \n",
    "    adam = optimizers.Adam(learning_rate=0.001)\n",
    "    model.compile(loss='categorical_crossentropy', optimizer=adam, metrics=['accuracy'])\n",
    "    \n",
    "    return model"
   ]
  },
  {
   "cell_type": "code",
   "execution_count": null,
   "id": "ceb525bd",
   "metadata": {},
   "outputs": [],
   "source": [
    "model = deep_improved_cnn()\n",
    "model.summary()"
   ]
  },
  {
   "cell_type": "code",
   "execution_count": null,
   "id": "83dff8c0",
   "metadata": {},
   "outputs": [],
   "source": [
    "%time\n",
    "history = model.fit(X_train, y_train, batch_size = 50, validation_split = 0.2, epochs = 30, verbose = 1)"
   ]
  },
  {
   "cell_type": "code",
   "execution_count": null,
   "id": "5f928982",
   "metadata": {},
   "outputs": [],
   "source": [
    "plt.plot(history.history['accuracy'])\n",
    "plt.plot(history.history['val_accuracy'])\n",
    "plt.legend(['training', 'validation'], loc = 'upper left')\n",
    "plt.show()"
   ]
  },
  {
   "cell_type": "code",
   "execution_count": null,
   "id": "b01706d2",
   "metadata": {},
   "outputs": [],
   "source": [
    "results = model.evaluate(X_test, y_test)\n",
    "print('Test accuracy: ', results[1])"
   ]
  },
  {
   "cell_type": "markdown",
   "id": "89659fd1",
   "metadata": {},
   "source": [
    "### NIN(Network in Network)\n",
    "- CNN에서 파라미터 개수를 줄임.\n",
    "- NN은 1 * 1 convolution이라고 함.\n",
    "- convolution layer 다음에 pooling layer 대신 convolution layer를 연속해서 쌓음\n",
    "- input dimension(depth, channel)을 축소, parameter 갯수 감수\n",
    "- GoogleNet에서 사용됨.\n",
    "- 두번째 Conv2D에서 부터 사용."
   ]
  }
 ],
 "metadata": {
  "kernelspec": {
   "display_name": "Python 3",
   "language": "python",
   "name": "python3"
  },
  "language_info": {
   "codemirror_mode": {
    "name": "ipython",
    "version": 3
   },
   "file_extension": ".py",
   "mimetype": "text/x-python",
   "name": "python",
   "nbconvert_exporter": "python",
   "pygments_lexer": "ipython3",
   "version": "3.8.8"
  }
 },
 "nbformat": 4,
 "nbformat_minor": 5
}
