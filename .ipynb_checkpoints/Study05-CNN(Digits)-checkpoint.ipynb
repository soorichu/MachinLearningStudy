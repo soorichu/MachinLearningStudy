{
 "cells": [
  {
   "cell_type": "markdown",
   "id": "c530f850",
   "metadata": {},
   "source": [
    "### Digits dataset\n",
    "- keras 내장. MNIST 축소버전\n",
    "- 1797개의 8 * 8 images"
   ]
  },
  {
   "cell_type": "code",
   "execution_count": 1,
   "id": "065c49f9",
   "metadata": {},
   "outputs": [],
   "source": [
    "import numpy as np\n",
    "from tensorflow.keras.models import Sequential\n",
    "from tensorflow.keras import optimizers\n",
    "from tensorflow.keras.layers import Dense, Activation, Flatten, Conv2D, MaxPooling2D, AveragePooling2D, GlobalMaxPooling2D, ZeroPadding2D, Input\n",
    "from tensorflow.keras.models import Model\n",
    "from tensorflow.keras.preprocessing import image\n",
    "from keras.utils.np_utils import to_categorical\n",
    "import matplotlib.pyplot as plt\n",
    "from sklearn import datasets\n",
    "from sklearn.model_selection import train_test_split"
   ]
  },
  {
   "cell_type": "code",
   "execution_count": 2,
   "id": "8be0a056",
   "metadata": {},
   "outputs": [
    {
     "data": {
      "image/png": "[encoded data removed]",
      "text/plain": [
       "<Figure size 432x288 with 1 Axes>"
      ]
     },
     "metadata": {
      "needs_background": "light"
     },
     "output_type": "display_data"
    },
    {
     "name": "stdout",
     "output_type": "stream",
     "text": [
      "label: 0\n"
     ]
    }
   ],
   "source": [
    "data = datasets.load_digits()\n",
    "plt.imshow(data.images[0])\n",
    "plt.show()\n",
    "print('label:', data.target[0])"
   ]
  },
  {
   "cell_type": "code",
   "execution_count": 3,
   "id": "b29d0c39",
   "metadata": {},
   "outputs": [
    {
     "name": "stdout",
     "output_type": "stream",
     "text": [
      "(1797, 8, 8)\n",
      "(1797,)\n"
     ]
    }
   ],
   "source": [
    "X_data = data.images\n",
    "y_data = data.target\n",
    "\n",
    "print(X_data.shape)\n",
    "print(y_data.shape)"
   ]
  },
  {
   "cell_type": "code",
   "execution_count": 4,
   "id": "ecd77568",
   "metadata": {},
   "outputs": [
    {
     "name": "stdout",
     "output_type": "stream",
     "text": [
      "(1797, 8, 8, 1) (1797, 10)\n"
     ]
    }
   ],
   "source": [
    "# reshape X_data to 3D format\n",
    "X_data = X_data.reshape((X_data.shape[0], X_data.shape[1], X_data.shape[2], 1))\n",
    "# ont hot encoding of y_data\n",
    "y_data = to_categorical(y_data)\n",
    "print(X_data.shape, y_data.shape)"
   ]
  },
  {
   "cell_type": "code",
   "execution_count": 6,
   "id": "c53af6d8",
   "metadata": {},
   "outputs": [
    {
     "name": "stdout",
     "output_type": "stream",
     "text": [
      "(1257, 8, 8, 1) (540, 8, 8, 1)\n",
      "(1257, 10) (540, 10)\n"
     ]
    }
   ],
   "source": [
    "# training, test data\n",
    "X_train, X_test, y_train, y_test = train_test_split(X_data, y_data, test_size=0.3, random_state=123)\n",
    "print(X_train.shape, X_test.shape)\n",
    "print(y_train.shape, y_test.shape)"
   ]
  },
  {
   "cell_type": "code",
   "execution_count": 7,
   "id": "ada8b430",
   "metadata": {},
   "outputs": [],
   "source": [
    "model = Sequential()\n",
    "model.add(Conv2D(input_shape = (X_data.shape[1], X_data.shape[2], X_data.shape[3]), filters=10, kernel_size=(3, 3), strides=(1, 1), padding='valid'))\n",
    "model.add(Activation('relu'))\n",
    "model.add(MaxPooling2D(pool_size=(2, 2)))\n",
    "model.add(Flatten())\n",
    "model.add(Dense(50, activation='relu'))\n",
    "model.add(Dense(10, activation='softmax'))"
   ]
  },
  {
   "cell_type": "code",
   "execution_count": 8,
   "id": "bd31340a",
   "metadata": {},
   "outputs": [
    {
     "name": "stdout",
     "output_type": "stream",
     "text": [
      "Model: \"sequential\"\n",
      "_________________________________________________________________\n",
      "Layer (type)                 Output Shape              Param #   \n",
      "=================================================================\n",
      "conv2d (Conv2D)              (None, 6, 6, 10)          100       \n",
      "_________________________________________________________________\n",
      "activation (Activation)      (None, 6, 6, 10)          0         \n",
      "_________________________________________________________________\n",
      "max_pooling2d (MaxPooling2D) (None, 3, 3, 10)          0         \n",
      "_________________________________________________________________\n",
      "flatten (Flatten)            (None, 90)                0         \n",
      "_________________________________________________________________\n",
      "dense (Dense)                (None, 50)                4550      \n",
      "_________________________________________________________________\n",
      "dense_1 (Dense)              (None, 10)                510       \n",
      "=================================================================\n",
      "Total params: 5,160\n",
      "Trainable params: 5,160\n",
      "Non-trainable params: 0\n",
      "_________________________________________________________________\n"
     ]
    }
   ],
   "source": [
    "model.summary()"
   ]
  },
  {
   "cell_type": "code",
   "execution_count": 11,
   "id": "ad5918c7",
   "metadata": {},
   "outputs": [],
   "source": [
    "adam = optimizers.Adam(lr=0.001)\n",
    "model.compile(loss = 'categorical_crossentropy', optimizer = adam, metrics = ['accuracy'])"
   ]
  },
  {
   "cell_type": "code",
   "execution_count": 12,
   "id": "02d9cf15",
   "metadata": {},
   "outputs": [
    {
     "name": "stdout",
     "output_type": "stream",
     "text": [
      "Epoch 1/100\n",
      "21/21 [==============================] - 1s 14ms/step - loss: 2.9987 - accuracy: 0.1144 - val_loss: 2.2006 - val_accuracy: 0.1984\n",
      "Epoch 2/100\n",
      "21/21 [==============================] - 0s 3ms/step - loss: 1.9350 - accuracy: 0.3174 - val_loss: 1.6060 - val_accuracy: 0.5119\n",
      "Epoch 3/100\n",
      "21/21 [==============================] - 0s 3ms/step - loss: 1.3555 - accuracy: 0.6338 - val_loss: 1.0353 - val_accuracy: 0.7341\n",
      "Epoch 4/100\n",
      "21/21 [==============================] - 0s 5ms/step - loss: 0.8414 - accuracy: 0.8129 - val_loss: 0.6401 - val_accuracy: 0.8413\n",
      "Epoch 5/100\n",
      "21/21 [==============================] - 0s 5ms/step - loss: 0.5319 - accuracy: 0.8766 - val_loss: 0.4602 - val_accuracy: 0.8690\n",
      "Epoch 6/100\n",
      "21/21 [==============================] - 0s 4ms/step - loss: 0.3768 - accuracy: 0.9035 - val_loss: 0.3759 - val_accuracy: 0.8929\n",
      "Epoch 7/100\n",
      "21/21 [==============================] - 0s 5ms/step - loss: 0.2904 - accuracy: 0.9333 - val_loss: 0.3189 - val_accuracy: 0.8849\n",
      "Epoch 8/100\n",
      "21/21 [==============================] - 0s 5ms/step - loss: 0.2325 - accuracy: 0.9393 - val_loss: 0.2752 - val_accuracy: 0.9087\n",
      "Epoch 9/100\n",
      "21/21 [==============================] - 0s 5ms/step - loss: 0.1952 - accuracy: 0.9433 - val_loss: 0.2388 - val_accuracy: 0.9087\n",
      "Epoch 10/100\n",
      "21/21 [==============================] - 0s 3ms/step - loss: 0.1710 - accuracy: 0.9522 - val_loss: 0.2225 - val_accuracy: 0.9246\n",
      "Epoch 11/100\n",
      "21/21 [==============================] - 0s 4ms/step - loss: 0.1406 - accuracy: 0.9662 - val_loss: 0.1996 - val_accuracy: 0.9286\n",
      "Epoch 12/100\n",
      "21/21 [==============================] - 0s 5ms/step - loss: 0.1271 - accuracy: 0.9711 - val_loss: 0.1907 - val_accuracy: 0.9286\n",
      "Epoch 13/100\n",
      "21/21 [==============================] - 0s 5ms/step - loss: 0.1151 - accuracy: 0.9731 - val_loss: 0.1714 - val_accuracy: 0.9524\n",
      "Epoch 14/100\n",
      "21/21 [==============================] - 0s 4ms/step - loss: 0.1030 - accuracy: 0.9761 - val_loss: 0.1652 - val_accuracy: 0.9563\n",
      "Epoch 15/100\n",
      "21/21 [==============================] - 0s 5ms/step - loss: 0.0875 - accuracy: 0.9861 - val_loss: 0.1495 - val_accuracy: 0.9563\n",
      "Epoch 16/100\n",
      "21/21 [==============================] - 0s 5ms/step - loss: 0.0784 - accuracy: 0.9871 - val_loss: 0.1393 - val_accuracy: 0.9484\n",
      "Epoch 17/100\n",
      "21/21 [==============================] - 0s 4ms/step - loss: 0.0681 - accuracy: 0.9930 - val_loss: 0.1316 - val_accuracy: 0.9603\n",
      "Epoch 18/100\n",
      "21/21 [==============================] - 0s 5ms/step - loss: 0.0627 - accuracy: 0.9930 - val_loss: 0.1313 - val_accuracy: 0.9484\n",
      "Epoch 19/100\n",
      "21/21 [==============================] - 0s 5ms/step - loss: 0.0565 - accuracy: 0.9950 - val_loss: 0.1211 - val_accuracy: 0.9484\n",
      "Epoch 20/100\n",
      "21/21 [==============================] - 0s 5ms/step - loss: 0.0494 - accuracy: 0.9970 - val_loss: 0.1156 - val_accuracy: 0.9524\n",
      "Epoch 21/100\n",
      "21/21 [==============================] - 0s 5ms/step - loss: 0.0443 - accuracy: 0.9970 - val_loss: 0.1144 - val_accuracy: 0.9603\n",
      "Epoch 22/100\n",
      "21/21 [==============================] - 0s 3ms/step - loss: 0.0402 - accuracy: 0.9980 - val_loss: 0.1109 - val_accuracy: 0.9563\n",
      "Epoch 23/100\n",
      "21/21 [==============================] - 0s 4ms/step - loss: 0.0384 - accuracy: 0.9960 - val_loss: 0.0982 - val_accuracy: 0.9643\n",
      "Epoch 24/100\n",
      "21/21 [==============================] - 0s 4ms/step - loss: 0.0324 - accuracy: 0.9980 - val_loss: 0.0954 - val_accuracy: 0.9563\n",
      "Epoch 25/100\n",
      "21/21 [==============================] - 0s 4ms/step - loss: 0.0302 - accuracy: 0.9980 - val_loss: 0.1039 - val_accuracy: 0.9603\n",
      "Epoch 26/100\n",
      "21/21 [==============================] - 0s 6ms/step - loss: 0.0281 - accuracy: 0.9980 - val_loss: 0.0926 - val_accuracy: 0.9683\n",
      "Epoch 27/100\n",
      "21/21 [==============================] - 0s 5ms/step - loss: 0.0270 - accuracy: 0.9980 - val_loss: 0.0895 - val_accuracy: 0.9722\n",
      "Epoch 28/100\n",
      "21/21 [==============================] - 0s 5ms/step - loss: 0.0249 - accuracy: 0.9980 - val_loss: 0.0860 - val_accuracy: 0.9722\n",
      "Epoch 29/100\n",
      "21/21 [==============================] - 0s 5ms/step - loss: 0.0211 - accuracy: 0.9980 - val_loss: 0.0851 - val_accuracy: 0.9683\n",
      "Epoch 30/100\n",
      "21/21 [==============================] - 0s 5ms/step - loss: 0.0188 - accuracy: 0.9980 - val_loss: 0.0870 - val_accuracy: 0.9643\n",
      "Epoch 31/100\n",
      "21/21 [==============================] - 0s 3ms/step - loss: 0.0185 - accuracy: 0.9980 - val_loss: 0.0858 - val_accuracy: 0.9643\n",
      "Epoch 32/100\n",
      "21/21 [==============================] - 0s 5ms/step - loss: 0.0181 - accuracy: 1.0000 - val_loss: 0.0817 - val_accuracy: 0.9683\n",
      "Epoch 33/100\n",
      "21/21 [==============================] - 0s 5ms/step - loss: 0.0159 - accuracy: 0.9990 - val_loss: 0.0728 - val_accuracy: 0.9762\n",
      "Epoch 34/100\n",
      "21/21 [==============================] - 0s 5ms/step - loss: 0.0238 - accuracy: 0.9970 - val_loss: 0.0864 - val_accuracy: 0.9722\n",
      "Epoch 35/100\n",
      "21/21 [==============================] - 0s 5ms/step - loss: 0.0146 - accuracy: 1.0000 - val_loss: 0.0758 - val_accuracy: 0.9722\n",
      "Epoch 36/100\n",
      "21/21 [==============================] - 0s 5ms/step - loss: 0.0121 - accuracy: 1.0000 - val_loss: 0.0765 - val_accuracy: 0.9762\n",
      "Epoch 37/100\n",
      "21/21 [==============================] - 0s 5ms/step - loss: 0.0112 - accuracy: 1.0000 - val_loss: 0.0750 - val_accuracy: 0.9722\n",
      "Epoch 38/100\n",
      "21/21 [==============================] - 0s 4ms/step - loss: 0.0104 - accuracy: 1.0000 - val_loss: 0.0742 - val_accuracy: 0.9762\n",
      "Epoch 39/100\n",
      "21/21 [==============================] - 0s 3ms/step - loss: 0.0097 - accuracy: 1.0000 - val_loss: 0.0741 - val_accuracy: 0.9722\n",
      "Epoch 40/100\n",
      "21/21 [==============================] - 0s 4ms/step - loss: 0.0093 - accuracy: 1.0000 - val_loss: 0.0757 - val_accuracy: 0.9762\n",
      "Epoch 41/100\n",
      "21/21 [==============================] - 0s 4ms/step - loss: 0.0084 - accuracy: 1.0000 - val_loss: 0.0715 - val_accuracy: 0.9722\n",
      "Epoch 42/100\n",
      "21/21 [==============================] - 0s 4ms/step - loss: 0.0079 - accuracy: 1.0000 - val_loss: 0.0735 - val_accuracy: 0.9722\n",
      "Epoch 43/100\n",
      "21/21 [==============================] - 0s 4ms/step - loss: 0.0075 - accuracy: 1.0000 - val_loss: 0.0721 - val_accuracy: 0.9762\n",
      "Epoch 44/100\n",
      "21/21 [==============================] - 0s 3ms/step - loss: 0.0071 - accuracy: 1.0000 - val_loss: 0.0723 - val_accuracy: 0.9722\n",
      "Epoch 45/100\n",
      "21/21 [==============================] - 0s 3ms/step - loss: 0.0068 - accuracy: 1.0000 - val_loss: 0.0694 - val_accuracy: 0.9722\n",
      "Epoch 46/100\n",
      "21/21 [==============================] - 0s 3ms/step - loss: 0.0066 - accuracy: 1.0000 - val_loss: 0.0718 - val_accuracy: 0.9722\n",
      "Epoch 47/100\n",
      "21/21 [==============================] - 0s 3ms/step - loss: 0.0063 - accuracy: 1.0000 - val_loss: 0.0697 - val_accuracy: 0.9762\n",
      "Epoch 48/100\n",
      "21/21 [==============================] - 0s 3ms/step - loss: 0.0058 - accuracy: 1.0000 - val_loss: 0.0709 - val_accuracy: 0.9722\n",
      "Epoch 49/100\n",
      "21/21 [==============================] - 0s 4ms/step - loss: 0.0055 - accuracy: 1.0000 - val_loss: 0.0693 - val_accuracy: 0.9762\n",
      "Epoch 50/100\n",
      "21/21 [==============================] - 0s 3ms/step - loss: 0.0055 - accuracy: 1.0000 - val_loss: 0.0732 - val_accuracy: 0.9722\n",
      "Epoch 51/100\n",
      "21/21 [==============================] - 0s 3ms/step - loss: 0.0051 - accuracy: 1.0000 - val_loss: 0.0663 - val_accuracy: 0.9722\n",
      "Epoch 52/100\n",
      "21/21 [==============================] - 0s 4ms/step - loss: 0.0048 - accuracy: 1.0000 - val_loss: 0.0711 - val_accuracy: 0.9722\n",
      "Epoch 53/100\n",
      "21/21 [==============================] - 0s 6ms/step - loss: 0.0046 - accuracy: 1.0000 - val_loss: 0.0698 - val_accuracy: 0.9722\n",
      "Epoch 54/100\n",
      "21/21 [==============================] - 0s 5ms/step - loss: 0.0045 - accuracy: 1.0000 - val_loss: 0.0674 - val_accuracy: 0.9762\n",
      "Epoch 55/100\n",
      "21/21 [==============================] - 0s 4ms/step - loss: 0.0042 - accuracy: 1.0000 - val_loss: 0.0682 - val_accuracy: 0.9722\n",
      "Epoch 56/100\n",
      "21/21 [==============================] - 0s 3ms/step - loss: 0.0040 - accuracy: 1.0000 - val_loss: 0.0687 - val_accuracy: 0.9722\n",
      "Epoch 57/100\n",
      "21/21 [==============================] - 0s 3ms/step - loss: 0.0040 - accuracy: 1.0000 - val_loss: 0.0727 - val_accuracy: 0.9722\n",
      "Epoch 58/100\n",
      "21/21 [==============================] - 0s 3ms/step - loss: 0.0037 - accuracy: 1.0000 - val_loss: 0.0660 - val_accuracy: 0.9722\n"
     ]
    },
    {
     "name": "stdout",
     "output_type": "stream",
     "text": [
      "Epoch 59/100\n",
      "21/21 [==============================] - 0s 3ms/step - loss: 0.0036 - accuracy: 1.0000 - val_loss: 0.0686 - val_accuracy: 0.9722\n",
      "Epoch 60/100\n",
      "21/21 [==============================] - 0s 3ms/step - loss: 0.0034 - accuracy: 1.0000 - val_loss: 0.0648 - val_accuracy: 0.9722\n",
      "Epoch 61/100\n",
      "21/21 [==============================] - 0s 3ms/step - loss: 0.0032 - accuracy: 1.0000 - val_loss: 0.0651 - val_accuracy: 0.9722\n",
      "Epoch 62/100\n",
      "21/21 [==============================] - 0s 3ms/step - loss: 0.0031 - accuracy: 1.0000 - val_loss: 0.0669 - val_accuracy: 0.9722\n",
      "Epoch 63/100\n",
      "21/21 [==============================] - 0s 3ms/step - loss: 0.0031 - accuracy: 1.0000 - val_loss: 0.0683 - val_accuracy: 0.9722\n",
      "Epoch 64/100\n",
      "21/21 [==============================] - 0s 4ms/step - loss: 0.0029 - accuracy: 1.0000 - val_loss: 0.0684 - val_accuracy: 0.9722\n",
      "Epoch 65/100\n",
      "21/21 [==============================] - 0s 3ms/step - loss: 0.0028 - accuracy: 1.0000 - val_loss: 0.0665 - val_accuracy: 0.9722\n",
      "Epoch 66/100\n",
      "21/21 [==============================] - 0s 3ms/step - loss: 0.0027 - accuracy: 1.0000 - val_loss: 0.0653 - val_accuracy: 0.9722\n",
      "Epoch 67/100\n",
      "21/21 [==============================] - 0s 3ms/step - loss: 0.0026 - accuracy: 1.0000 - val_loss: 0.0656 - val_accuracy: 0.9722\n",
      "Epoch 68/100\n",
      "21/21 [==============================] - 0s 3ms/step - loss: 0.0025 - accuracy: 1.0000 - val_loss: 0.0666 - val_accuracy: 0.9722\n",
      "Epoch 69/100\n",
      "21/21 [==============================] - 0s 3ms/step - loss: 0.0024 - accuracy: 1.0000 - val_loss: 0.0666 - val_accuracy: 0.9722\n",
      "Epoch 70/100\n",
      "21/21 [==============================] - 0s 3ms/step - loss: 0.0023 - accuracy: 1.0000 - val_loss: 0.0671 - val_accuracy: 0.9722\n",
      "Epoch 71/100\n",
      "21/21 [==============================] - 0s 4ms/step - loss: 0.0023 - accuracy: 1.0000 - val_loss: 0.0654 - val_accuracy: 0.9683\n",
      "Epoch 72/100\n",
      "21/21 [==============================] - 0s 3ms/step - loss: 0.0022 - accuracy: 1.0000 - val_loss: 0.0660 - val_accuracy: 0.9722\n",
      "Epoch 73/100\n",
      "21/21 [==============================] - 0s 3ms/step - loss: 0.0021 - accuracy: 1.0000 - val_loss: 0.0640 - val_accuracy: 0.9722\n",
      "Epoch 74/100\n",
      "21/21 [==============================] - 0s 3ms/step - loss: 0.0020 - accuracy: 1.0000 - val_loss: 0.0644 - val_accuracy: 0.9722\n",
      "Epoch 75/100\n",
      "21/21 [==============================] - 0s 3ms/step - loss: 0.0020 - accuracy: 1.0000 - val_loss: 0.0665 - val_accuracy: 0.9722\n",
      "Epoch 76/100\n",
      "21/21 [==============================] - 0s 3ms/step - loss: 0.0022 - accuracy: 1.0000 - val_loss: 0.0642 - val_accuracy: 0.9683\n",
      "Epoch 77/100\n",
      "21/21 [==============================] - 0s 3ms/step - loss: 0.0019 - accuracy: 1.0000 - val_loss: 0.0642 - val_accuracy: 0.9722\n",
      "Epoch 78/100\n",
      "21/21 [==============================] - 0s 3ms/step - loss: 0.0018 - accuracy: 1.0000 - val_loss: 0.0652 - val_accuracy: 0.9722\n",
      "Epoch 79/100\n",
      "21/21 [==============================] - 0s 4ms/step - loss: 0.0018 - accuracy: 1.0000 - val_loss: 0.0629 - val_accuracy: 0.9722\n",
      "Epoch 80/100\n",
      "21/21 [==============================] - 0s 5ms/step - loss: 0.0017 - accuracy: 1.0000 - val_loss: 0.0646 - val_accuracy: 0.9722\n",
      "Epoch 81/100\n",
      "21/21 [==============================] - 0s 3ms/step - loss: 0.0016 - accuracy: 1.0000 - val_loss: 0.0636 - val_accuracy: 0.9722\n",
      "Epoch 82/100\n",
      "21/21 [==============================] - 0s 3ms/step - loss: 0.0016 - accuracy: 1.0000 - val_loss: 0.0652 - val_accuracy: 0.9722\n",
      "Epoch 83/100\n",
      "21/21 [==============================] - 0s 3ms/step - loss: 0.0016 - accuracy: 1.0000 - val_loss: 0.0649 - val_accuracy: 0.9722\n",
      "Epoch 84/100\n",
      "21/21 [==============================] - 0s 3ms/step - loss: 0.0015 - accuracy: 1.0000 - val_loss: 0.0647 - val_accuracy: 0.9722\n",
      "Epoch 85/100\n",
      "21/21 [==============================] - 0s 4ms/step - loss: 0.0014 - accuracy: 1.0000 - val_loss: 0.0649 - val_accuracy: 0.9683\n",
      "Epoch 86/100\n",
      "21/21 [==============================] - 0s 3ms/step - loss: 0.0014 - accuracy: 1.0000 - val_loss: 0.0639 - val_accuracy: 0.9722\n",
      "Epoch 87/100\n",
      "21/21 [==============================] - 0s 3ms/step - loss: 0.0014 - accuracy: 1.0000 - val_loss: 0.0632 - val_accuracy: 0.9722\n",
      "Epoch 88/100\n",
      "21/21 [==============================] - 0s 4ms/step - loss: 0.0013 - accuracy: 1.0000 - val_loss: 0.0641 - val_accuracy: 0.9722\n",
      "Epoch 89/100\n",
      "21/21 [==============================] - 0s 3ms/step - loss: 0.0013 - accuracy: 1.0000 - val_loss: 0.0638 - val_accuracy: 0.9722\n",
      "Epoch 90/100\n",
      "21/21 [==============================] - 0s 3ms/step - loss: 0.0013 - accuracy: 1.0000 - val_loss: 0.0631 - val_accuracy: 0.9722\n",
      "Epoch 91/100\n",
      "21/21 [==============================] - 0s 3ms/step - loss: 0.0012 - accuracy: 1.0000 - val_loss: 0.0636 - val_accuracy: 0.9722\n",
      "Epoch 92/100\n",
      "21/21 [==============================] - 0s 3ms/step - loss: 0.0012 - accuracy: 1.0000 - val_loss: 0.0639 - val_accuracy: 0.9722\n",
      "Epoch 93/100\n",
      "21/21 [==============================] - 0s 3ms/step - loss: 0.0012 - accuracy: 1.0000 - val_loss: 0.0640 - val_accuracy: 0.9722\n",
      "Epoch 94/100\n",
      "21/21 [==============================] - 0s 3ms/step - loss: 0.0012 - accuracy: 1.0000 - val_loss: 0.0627 - val_accuracy: 0.9683\n",
      "Epoch 95/100\n",
      "21/21 [==============================] - 0s 3ms/step - loss: 0.0011 - accuracy: 1.0000 - val_loss: 0.0630 - val_accuracy: 0.9722\n",
      "Epoch 96/100\n",
      "21/21 [==============================] - 0s 3ms/step - loss: 0.0011 - accuracy: 1.0000 - val_loss: 0.0632 - val_accuracy: 0.9683\n",
      "Epoch 97/100\n",
      "21/21 [==============================] - 0s 3ms/step - loss: 0.0011 - accuracy: 1.0000 - val_loss: 0.0625 - val_accuracy: 0.9722\n",
      "Epoch 98/100\n",
      "21/21 [==============================] - 0s 3ms/step - loss: 0.0010 - accuracy: 1.0000 - val_loss: 0.0631 - val_accuracy: 0.9683\n",
      "Epoch 99/100\n",
      "21/21 [==============================] - 0s 3ms/step - loss: 0.0010 - accuracy: 1.0000 - val_loss: 0.0645 - val_accuracy: 0.9683\n",
      "Epoch 100/100\n",
      "21/21 [==============================] - 0s 3ms/step - loss: 9.9171e-04 - accuracy: 1.0000 - val_loss: 0.0668 - val_accuracy: 0.9683\n"
     ]
    }
   ],
   "source": [
    "history = model.fit(X_train, y_train, batch_size=50, validation_split=0.2, epochs=100, verbose=1)"
   ]
  },
  {
   "cell_type": "code",
   "execution_count": 13,
   "id": "9594def8",
   "metadata": {},
   "outputs": [
    {
     "data": {
      "image/png": "[encoded data removed]",
      "text/plain": [
       "<Figure size 432x288 with 1 Axes>"
      ]
     },
     "metadata": {
      "needs_background": "light"
     },
     "output_type": "display_data"
    }
   ],
   "source": [
    "plt.plot(history.history['accuracy'])\n",
    "plt.plot(history.history['val_accuracy'])\n",
    "plt.legend(['training', 'validation'], loc='lower right')\n",
    "plt.show()"
   ]
  },
  {
   "cell_type": "code",
   "execution_count": 14,
   "id": "c36dd68a",
   "metadata": {},
   "outputs": [
    {
     "name": "stdout",
     "output_type": "stream",
     "text": [
      "17/17 [==============================] - 0s 1ms/step - loss: 0.1128 - accuracy: 0.9704\n",
      "Test accuracy: 0.970370352268219\n"
     ]
    }
   ],
   "source": [
    "results = model.evaluate(X_test, y_test)\n",
    "print('Test accuracy:', results[1])"
   ]
  },
  {
   "cell_type": "markdown",
   "id": "acbafa06",
   "metadata": {},
   "source": [
    "참고 : https://keraskorea.github.io/posts/2018-10-24-little_data_powerful_model/"
   ]
  }
 ],
 "metadata": {
  "kernelspec": {
   "display_name": "Python 3",
   "language": "python",
   "name": "python3"
  },
  "language_info": {
   "codemirror_mode": {
    "name": "ipython",
    "version": 3
   },
   "file_extension": ".py",
   "mimetype": "text/x-python",
   "name": "python",
   "nbconvert_exporter": "python",
   "pygments_lexer": "ipython3",
   "version": "3.8.8"
  }
 },
 "nbformat": 4,
 "nbformat_minor": 5
}
