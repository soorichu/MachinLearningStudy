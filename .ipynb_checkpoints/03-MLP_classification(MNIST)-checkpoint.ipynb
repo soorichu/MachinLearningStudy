{
 "cells": [
  {
   "cell_type": "markdown",
   "id": "ebed3962",
   "metadata": {},
   "source": [
    "## MNIST Dataset\n",
    "- 손으로 쓴 0~9까지 숫자를 28*28 gray scale로 만든 것\n",
    "- 6만개의 training data, 1만개의 test data"
   ]
  },
  {
   "cell_type": "code",
   "execution_count": 120,
   "id": "3e8176e5",
   "metadata": {},
   "outputs": [],
   "source": [
    "import numpy as np\n",
    "import matplotlib.pyplot as plt\n",
    "from sklearn.model_selection import train_test_split\n",
    "from tensorflow.keras.datasets import mnist\n",
    "from tensorflow.keras.models import Sequential\n",
    "from tensorflow.keras.layers import Activation, Dense, Dropout, BatchNormalization\n",
    "from tensorflow.keras import optimizers\n",
    "from keras.utils.np_utils import to_categorical"
   ]
  },
  {
   "cell_type": "code",
   "execution_count": 78,
   "id": "d0a6db72",
   "metadata": {},
   "outputs": [
    {
     "name": "stdout",
     "output_type": "stream",
     "text": [
      "(60000, 28, 28) (60000,) (10000, 28, 28) (10000,)\n"
     ]
    }
   ],
   "source": [
    "(X_train, y_train), (X_test, y_test) = mnist.load_data()\n",
    "print(X_train.shape, y_train.shape, X_test.shape, y_test.shape)"
   ]
  },
  {
   "cell_type": "code",
   "execution_count": 79,
   "id": "e46dc0e2",
   "metadata": {},
   "outputs": [
    {
     "data": {
      "image/png": "[encoded data removed]",
      "text/plain": [
       "<Figure size 432x288 with 1 Axes>"
      ]
     },
     "metadata": {
      "needs_background": "light"
     },
     "output_type": "display_data"
    },
    {
     "name": "stdout",
     "output_type": "stream",
     "text": [
      "Label: 5\n"
     ]
    }
   ],
   "source": [
    "plt.imshow(X_train[0])\n",
    "plt.show()\n",
    "print('Label:', y_train[0])"
   ]
  },
  {
   "cell_type": "code",
   "execution_count": 80,
   "id": "b0c57bb1",
   "metadata": {},
   "outputs": [
    {
     "name": "stdout",
     "output_type": "stream",
     "text": [
      "Train labels: {0: 5923, 1: 6742, 2: 5958, 3: 6131, 4: 5842, 5: 5421, 6: 5918, 7: 6265, 8: 5851, 9: 5949}\n"
     ]
    }
   ],
   "source": [
    "unique, counts = np.unique(y_train, return_counts=True)\n",
    "print(\"Train labels:\", dict(zip(unique, counts)))\n",
    "# y_train에 0은 5923개, 1은 6742개, ... 출현"
   ]
  },
  {
   "cell_type": "markdown",
   "id": "b8484be5",
   "metadata": {},
   "source": [
    "### Tensor\n",
    "- Multi-Dimension Array와 비슷\n",
    "- 0D Tensor : scalar, ex) 7\n",
    "- 1D Tensor : vector, ex) [3, 8, 2.5, 7]\n",
    "- 2D Tensor : matrix\n",
    "- 3D Tensor : [matrix1, matrix2, ... , matrixn]\n",
    "- 5D Tensor : [[matrix1, matrix2], ... , [matrixn-1, matrixn]]\n",
    "\n",
    "- MNIST는 원래 3D Tensor($28\\times28$)개가 60000개 들어 있음.\n",
    "- 적용하려는 model의 input layer 종류에 따라 reshaping이 필요함. \n",
    "    - ANN : (9, )\n",
    "    - CNN : (3, 3, 1)\n",
    "    - RNN : (3, 3)"
   ]
  },
  {
   "cell_type": "code",
   "execution_count": 82,
   "id": "7613f76d",
   "metadata": {},
   "outputs": [
    {
     "name": "stdout",
     "output_type": "stream",
     "text": [
      "(60000, 784) (10000, 784)\n"
     ]
    }
   ],
   "source": [
    "X_train = X_train.reshape((X_train.shape[0], -1))\n",
    "X_test = X_test.reshape((X_test.shape[0], -1))\n",
    "# (60000, 28, 28) ---> (60000, 784)가 됨.(28*28 = 784)\n",
    "print(X_train.shape, X_test.shape)"
   ]
  },
  {
   "cell_type": "code",
   "execution_count": 83,
   "id": "1aa57fc7",
   "metadata": {},
   "outputs": [
    {
     "name": "stdout",
     "output_type": "stream",
     "text": [
      "(60000, 10) (10000, 10)\n"
     ]
    }
   ],
   "source": [
    "# One-hot encoding\n",
    "y_train = to_categorical(y_train)\n",
    "y_test = to_categorical(y_test)\n",
    "print(y_train.shape, y_test.shape)"
   ]
  },
  {
   "cell_type": "code",
   "execution_count": 121,
   "id": "4dce6202",
   "metadata": {},
   "outputs": [
    {
     "name": "stdout",
     "output_type": "stream",
     "text": [
      "Model: \"sequential_14\"\n",
      "_________________________________________________________________\n",
      "Layer (type)                 Output Shape              Param #   \n",
      "=================================================================\n",
      "dense_49 (Dense)             (None, 50)                39250     \n",
      "_________________________________________________________________\n",
      "batch_normalization (BatchNo (None, 50)                200       \n",
      "_________________________________________________________________\n",
      "activation_7 (Activation)    (None, 50)                0         \n",
      "_________________________________________________________________\n",
      "dropout_30 (Dropout)         (None, 50)                0         \n",
      "_________________________________________________________________\n",
      "dense_50 (Dense)             (None, 50)                2550      \n",
      "_________________________________________________________________\n",
      "batch_normalization_1 (Batch (None, 50)                200       \n",
      "_________________________________________________________________\n",
      "activation_8 (Activation)    (None, 50)                0         \n",
      "_________________________________________________________________\n",
      "dropout_31 (Dropout)         (None, 50)                0         \n",
      "_________________________________________________________________\n",
      "dense_51 (Dense)             (None, 50)                2550      \n",
      "_________________________________________________________________\n",
      "batch_normalization_2 (Batch (None, 50)                200       \n",
      "_________________________________________________________________\n",
      "activation_9 (Activation)    (None, 50)                0         \n",
      "_________________________________________________________________\n",
      "dropout_32 (Dropout)         (None, 50)                0         \n",
      "_________________________________________________________________\n",
      "dense_52 (Dense)             (None, 10)                510       \n",
      "_________________________________________________________________\n",
      "batch_normalization_3 (Batch (None, 10)                40        \n",
      "_________________________________________________________________\n",
      "activation_10 (Activation)   (None, 10)                0         \n",
      "=================================================================\n",
      "Total params: 45,500\n",
      "Trainable params: 45,180\n",
      "Non-trainable params: 320\n",
      "_________________________________________________________________\n"
     ]
    }
   ],
   "source": [
    "model = Sequential()\n",
    "\n",
    "model.add(Dense(50, input_shape=(784, )))\n",
    "model.add(BatchNormalization())\n",
    "model.add(Activation('sigmoid')) \n",
    "model.add(Dropout(0.2))  \n",
    "\n",
    "model.add(Dense(50))\n",
    "model.add(BatchNormalization())\n",
    "model.add(Activation('sigmoid')) \n",
    "model.add(Dropout(0.2))  \n",
    "\n",
    "model.add(Dense(50))\n",
    "model.add(BatchNormalization())\n",
    "model.add(Activation('sigmoid')) \n",
    "model.add(Dropout(0.2))  \n",
    "\n",
    "model.add(Dense(10))\n",
    "model.add(BatchNormalization())\n",
    "model.add(Activation('softmax'))\n",
    "\n",
    "model.summary()"
   ]
  },
  {
   "cell_type": "code",
   "execution_count": 122,
   "id": "bdbb42f4",
   "metadata": {},
   "outputs": [],
   "source": [
    "adam = optimizers.Adam(lr = 0.001)"
   ]
  },
  {
   "cell_type": "code",
   "execution_count": 123,
   "id": "ad1a5ec9",
   "metadata": {},
   "outputs": [],
   "source": [
    "model.compile(optimizer = adam, loss = 'categorical_crossentropy', metrics = ['accuracy'])"
   ]
  },
  {
   "cell_type": "code",
   "execution_count": 124,
   "id": "424cf520",
   "metadata": {},
   "outputs": [
    {
     "name": "stdout",
     "output_type": "stream",
     "text": [
      "Epoch 1/40\n",
      "165/165 [==============================] - 2s 7ms/step - loss: 1.6243 - accuracy: 0.4728 - val_loss: 1.2430 - val_accuracy: 0.8313\n",
      "Epoch 2/40\n",
      "165/165 [==============================] - 1s 6ms/step - loss: 1.1439 - accuracy: 0.6824 - val_loss: 0.6521 - val_accuracy: 0.8836\n",
      "Epoch 3/40\n",
      "165/165 [==============================] - 1s 6ms/step - loss: 0.9494 - accuracy: 0.7495 - val_loss: 0.5092 - val_accuracy: 0.8948\n",
      "Epoch 4/40\n",
      "165/165 [==============================] - 1s 6ms/step - loss: 0.8136 - accuracy: 0.7862 - val_loss: 0.4472 - val_accuracy: 0.8989\n",
      "Epoch 5/40\n",
      "165/165 [==============================] - 1s 6ms/step - loss: 0.7165 - accuracy: 0.8124 - val_loss: 0.3956 - val_accuracy: 0.9067\n",
      "Epoch 6/40\n",
      "165/165 [==============================] - 1s 6ms/step - loss: 0.6404 - accuracy: 0.8308 - val_loss: 0.3648 - val_accuracy: 0.9085\n",
      "Epoch 7/40\n",
      "165/165 [==============================] - 1s 6ms/step - loss: 0.5843 - accuracy: 0.8449 - val_loss: 0.3313 - val_accuracy: 0.9142\n",
      "Epoch 8/40\n",
      "165/165 [==============================] - 1s 6ms/step - loss: 0.5381 - accuracy: 0.8557 - val_loss: 0.3101 - val_accuracy: 0.9201\n",
      "Epoch 9/40\n",
      "165/165 [==============================] - 1s 6ms/step - loss: 0.5023 - accuracy: 0.8634 - val_loss: 0.2850 - val_accuracy: 0.9241\n",
      "Epoch 10/40\n",
      "165/165 [==============================] - 1s 6ms/step - loss: 0.4682 - accuracy: 0.8714 - val_loss: 0.2710 - val_accuracy: 0.9276\n",
      "Epoch 11/40\n",
      "165/165 [==============================] - 1s 6ms/step - loss: 0.4399 - accuracy: 0.8789 - val_loss: 0.2489 - val_accuracy: 0.9333\n",
      "Epoch 12/40\n",
      "165/165 [==============================] - 1s 6ms/step - loss: 0.4054 - accuracy: 0.8889 - val_loss: 0.2404 - val_accuracy: 0.9343\n",
      "Epoch 13/40\n",
      "165/165 [==============================] - 1s 6ms/step - loss: 0.3865 - accuracy: 0.8930 - val_loss: 0.2195 - val_accuracy: 0.9396\n",
      "Epoch 14/40\n",
      "165/165 [==============================] - 1s 6ms/step - loss: 0.3664 - accuracy: 0.8970 - val_loss: 0.2117 - val_accuracy: 0.9408\n",
      "Epoch 15/40\n",
      "165/165 [==============================] - 1s 6ms/step - loss: 0.3452 - accuracy: 0.9035 - val_loss: 0.2041 - val_accuracy: 0.9427\n",
      "Epoch 16/40\n",
      "165/165 [==============================] - 1s 6ms/step - loss: 0.3308 - accuracy: 0.9071 - val_loss: 0.1874 - val_accuracy: 0.9467\n",
      "Epoch 17/40\n",
      "165/165 [==============================] - 1s 6ms/step - loss: 0.3151 - accuracy: 0.9113 - val_loss: 0.1798 - val_accuracy: 0.9489\n",
      "Epoch 18/40\n",
      "165/165 [==============================] - 1s 6ms/step - loss: 0.3031 - accuracy: 0.9140 - val_loss: 0.1733 - val_accuracy: 0.9504\n",
      "Epoch 19/40\n",
      "165/165 [==============================] - 1s 6ms/step - loss: 0.2883 - accuracy: 0.9184 - val_loss: 0.1664 - val_accuracy: 0.9526\n",
      "Epoch 20/40\n",
      "165/165 [==============================] - 1s 6ms/step - loss: 0.2850 - accuracy: 0.9183 - val_loss: 0.1685 - val_accuracy: 0.9504\n",
      "Epoch 21/40\n",
      "165/165 [==============================] - 1s 6ms/step - loss: 0.2734 - accuracy: 0.9220 - val_loss: 0.1590 - val_accuracy: 0.9540\n",
      "Epoch 22/40\n",
      "165/165 [==============================] - 1s 6ms/step - loss: 0.2561 - accuracy: 0.9262 - val_loss: 0.1551 - val_accuracy: 0.9544\n",
      "Epoch 23/40\n",
      "165/165 [==============================] - 1s 7ms/step - loss: 0.2522 - accuracy: 0.9274 - val_loss: 0.1505 - val_accuracy: 0.9564\n",
      "Epoch 24/40\n",
      "165/165 [==============================] - 1s 8ms/step - loss: 0.2478 - accuracy: 0.9283 - val_loss: 0.1454 - val_accuracy: 0.9576\n",
      "Epoch 25/40\n",
      "165/165 [==============================] - 1s 7ms/step - loss: 0.2427 - accuracy: 0.9283 - val_loss: 0.1509 - val_accuracy: 0.9560\n",
      "Epoch 26/40\n",
      "165/165 [==============================] - 1s 6ms/step - loss: 0.2340 - accuracy: 0.9303 - val_loss: 0.1432 - val_accuracy: 0.9573\n",
      "Epoch 27/40\n",
      "165/165 [==============================] - 1s 6ms/step - loss: 0.2247 - accuracy: 0.9360 - val_loss: 0.1388 - val_accuracy: 0.9593\n",
      "Epoch 28/40\n",
      "165/165 [==============================] - 1s 6ms/step - loss: 0.2208 - accuracy: 0.9349 - val_loss: 0.1342 - val_accuracy: 0.9611\n",
      "Epoch 29/40\n",
      "165/165 [==============================] - 1s 6ms/step - loss: 0.2125 - accuracy: 0.9392 - val_loss: 0.1328 - val_accuracy: 0.9612\n",
      "Epoch 30/40\n",
      "165/165 [==============================] - 1s 6ms/step - loss: 0.2108 - accuracy: 0.9378 - val_loss: 0.1335 - val_accuracy: 0.9601\n",
      "Epoch 31/40\n",
      "165/165 [==============================] - 1s 6ms/step - loss: 0.2026 - accuracy: 0.9414 - val_loss: 0.1327 - val_accuracy: 0.9616\n",
      "Epoch 32/40\n",
      "165/165 [==============================] - 1s 6ms/step - loss: 0.2050 - accuracy: 0.9401 - val_loss: 0.1307 - val_accuracy: 0.9608\n",
      "Epoch 33/40\n",
      "165/165 [==============================] - 1s 6ms/step - loss: 0.2028 - accuracy: 0.9399 - val_loss: 0.1311 - val_accuracy: 0.9607\n",
      "Epoch 34/40\n",
      "165/165 [==============================] - 1s 6ms/step - loss: 0.1976 - accuracy: 0.9421 - val_loss: 0.1253 - val_accuracy: 0.9628\n",
      "Epoch 35/40\n",
      "165/165 [==============================] - 1s 7ms/step - loss: 0.1907 - accuracy: 0.9438 - val_loss: 0.1246 - val_accuracy: 0.9633\n",
      "Epoch 36/40\n",
      "165/165 [==============================] - 1s 6ms/step - loss: 0.1909 - accuracy: 0.9444 - val_loss: 0.1318 - val_accuracy: 0.9608\n",
      "Epoch 37/40\n",
      "165/165 [==============================] - 1s 7ms/step - loss: 0.1860 - accuracy: 0.9450 - val_loss: 0.1229 - val_accuracy: 0.9637\n",
      "Epoch 38/40\n",
      "165/165 [==============================] - 1s 7ms/step - loss: 0.1840 - accuracy: 0.9459 - val_loss: 0.1255 - val_accuracy: 0.9636\n",
      "Epoch 39/40\n",
      "165/165 [==============================] - 1s 6ms/step - loss: 0.1817 - accuracy: 0.9467 - val_loss: 0.1213 - val_accuracy: 0.9646\n",
      "Epoch 40/40\n",
      "165/165 [==============================] - 1s 6ms/step - loss: 0.1800 - accuracy: 0.9475 - val_loss: 0.1223 - val_accuracy: 0.9639\n"
     ]
    }
   ],
   "source": [
    "history = model.fit(X_train, y_train, batch_size = 256, validation_split = 0.3, epochs = 40, verbose = 1)"
   ]
  },
  {
   "cell_type": "code",
   "execution_count": 125,
   "id": "0a6cf3b0",
   "metadata": {},
   "outputs": [
    {
     "data": {
      "image/png": "[encoded data removed]",
      "text/plain": [
       "<Figure size 432x288 with 1 Axes>"
      ]
     },
     "metadata": {
      "needs_background": "light"
     },
     "output_type": "display_data"
    }
   ],
   "source": [
    "plt.plot(history.history['accuracy'])\n",
    "plt.plot(history.history['val_accuracy'])\n",
    "plt.legend(['training', 'validation'], loc = 'upper left')\n",
    "plt.show()"
   ]
  },
  {
   "cell_type": "code",
   "execution_count": 126,
   "id": "e075bbfc",
   "metadata": {},
   "outputs": [
    {
     "name": "stdout",
     "output_type": "stream",
     "text": [
      "313/313 [==============================] - 0s 1ms/step - loss: 0.1124 - accuracy: 0.9668\n",
      "Test accuracy:  0.9667999744415283\n"
     ]
    }
   ],
   "source": [
    "results = model.evaluate(X_test, y_test)\n",
    "print('Test accuracy: ', results[1])"
   ]
  },
  {
   "cell_type": "markdown",
   "id": "6b1b02f2",
   "metadata": {},
   "source": [
    "## Model 개선\n",
    "1. 가중치 초기화(Weight Initialization)\n",
    "    - defalut < LeCun < Xavier < He(he_normal)\n",
    "2. 활성함수 (Activation Function)\n",
    "    - Dense 뒤에 붙는 Activation 종류 바꾸어 보기\n",
    "    - Sigmoid < ReLU\n",
    "3. 최적화(Optimization) 기법\n",
    "    - SGD < RMSprop < Adam\n",
    "4. 배치 정규화(Batch Normalization)\n",
    "5. Dropout\n",
    "6. 모델 앙상블(Model Ensemble)"
   ]
  },
  {
   "cell_type": "code",
   "execution_count": null,
   "id": "e41afbc5",
   "metadata": {},
   "outputs": [],
   "source": []
  }
 ],
 "metadata": {
  "kernelspec": {
   "display_name": "Python 3",
   "language": "python",
   "name": "python3"
  },
  "language_info": {
   "codemirror_mode": {
    "name": "ipython",
    "version": 3
   },
   "file_extension": ".py",
   "mimetype": "text/x-python",
   "name": "python",
   "nbconvert_exporter": "python",
   "pygments_lexer": "ipython3",
   "version": "3.8.8"
  }
 },
 "nbformat": 4,
 "nbformat_minor": 5
}
