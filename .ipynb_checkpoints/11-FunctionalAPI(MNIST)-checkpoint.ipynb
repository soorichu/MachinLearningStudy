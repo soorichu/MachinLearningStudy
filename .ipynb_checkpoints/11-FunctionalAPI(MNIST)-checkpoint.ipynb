{
 "cells": [
  {
   "cell_type": "markdown",
   "id": "344a9ce5",
   "metadata": {},
   "source": [
    "# Functional API\n",
    "\n",
    "### Layer\n",
    "- Layer instance는 tensor를 argument로 받아들인다.\n",
    "- Layer instance의 output도 tensor이다.\n",
    "- Layer instance들은 input/output tensor들을 통해 연결된 object들이다.\n",
    "- Auxiliary 또는 multiple input/outputs을 access하는 것이 쉽다.\n",
    "\n",
    "### Model\n",
    "- 한 개 이상의 input tensor들과 output tensor들 사이의 function\n",
    "- model 안에는 layer instance들이 input/output tensor들을 통해 연결\n",
    "- computational graph(data flow from inputs to outputs)\n",
    "\n",
    "### Example\n",
    "- Conv2D layer with 32 filters, input tensor = x, output tensor = y\n",
    "  $$ y = Conv2D_{32}{x} $$"
   ]
  },
  {
   "cell_type": "markdown",
   "id": "87cb6874",
   "metadata": {},
   "source": [
    "## Functional API - MNIST"
   ]
  },
  {
   "cell_type": "code",
   "execution_count": 2,
   "id": "d748ce62",
   "metadata": {},
   "outputs": [],
   "source": [
    "import numpy as np\n",
    "import matplotlib.pyplot as plt\n",
    "from tensorflow.keras.layers import Dense, Dropout, Input\n",
    "from tensorflow.keras.layers import Conv2D, MaxPooling2D, Flatten\n",
    "# Sequential 대신 Model\n",
    "from tensorflow.keras.models import Model \n",
    "from tensorflow.keras.datasets import mnist\n",
    "from tensorflow.keras.utils import to_categorical"
   ]
  },
  {
   "cell_type": "code",
   "execution_count": 3,
   "id": "bb304b55",
   "metadata": {},
   "outputs": [],
   "source": [
    "(x_train, y_train), (x_test, y_test) = mnist.load_data()"
   ]
  },
  {
   "cell_type": "code",
   "execution_count": 4,
   "id": "613620e2",
   "metadata": {},
   "outputs": [],
   "source": [
    "num_labels = len(np.unique(y_train))\n",
    "# one-hot incoding\n",
    "y_train = to_categorical(y_train)\n",
    "y_test = to_categorical(y_test)"
   ]
  },
  {
   "cell_type": "code",
   "execution_count": 5,
   "id": "530141c5",
   "metadata": {},
   "outputs": [],
   "source": [
    "# reshape input images\n",
    "image_size = x_train.shape[1]\n",
    "x_train = np.reshape(x_train, [-1, image_size, image_size, 1])\n",
    "x_test = np.reshape(x_test, [-1, image_size, image_size, 1])\n",
    "x_train = x_train.astype('float32') / 255\n",
    "x_test = x_test.astype('float32') / 255"
   ]
  },
  {
   "cell_type": "code",
   "execution_count": 9,
   "id": "d024d136",
   "metadata": {},
   "outputs": [],
   "source": [
    "input_shape = (image_size, image_size, 1)\n",
    "batch_size = 128\n",
    "kernel_size = 3\n",
    "filters = 64\n",
    "dropout = 0.3"
   ]
  },
  {
   "cell_type": "code",
   "execution_count": 11,
   "id": "f92d4cdb",
   "metadata": {},
   "outputs": [],
   "source": [
    "inputs = Input(shape=input_shape)\n",
    "y = Conv2D(filters=filters, kernel_size=kernel_size, activation='relu')(inputs)\n",
    "y = MaxPooling2D()(y)\n",
    "y = Conv2D(filters=filters, kernel_size=kernel_size, activation='relu')(y)\n",
    "y = MaxPooling2D()(y)\n",
    "y = Conv2D(filters=filters, kernel_size=kernel_size, activation='relu')(y)"
   ]
  },
  {
   "cell_type": "code",
   "execution_count": 12,
   "id": "776f3f4a",
   "metadata": {},
   "outputs": [],
   "source": [
    "y = Flatten()(y)\n",
    "y = Dropout(dropout)(y)\n",
    "outputs = Dense(num_labels, activation='softmax')(y)"
   ]
  },
  {
   "cell_type": "code",
   "execution_count": 13,
   "id": "9bd57607",
   "metadata": {},
   "outputs": [
    {
     "name": "stdout",
     "output_type": "stream",
     "text": [
      "Model: \"model\"\n",
      "_________________________________________________________________\n",
      "Layer (type)                 Output Shape              Param #   \n",
      "=================================================================\n",
      "input_4 (InputLayer)         [(None, 28, 28, 1)]       0         \n",
      "_________________________________________________________________\n",
      "conv2d_1 (Conv2D)            (None, 26, 26, 64)        640       \n",
      "_________________________________________________________________\n",
      "max_pooling2d_1 (MaxPooling2 (None, 13, 13, 64)        0         \n",
      "_________________________________________________________________\n",
      "conv2d_2 (Conv2D)            (None, 11, 11, 64)        36928     \n",
      "_________________________________________________________________\n",
      "max_pooling2d_2 (MaxPooling2 (None, 5, 5, 64)          0         \n",
      "_________________________________________________________________\n",
      "conv2d_3 (Conv2D)            (None, 3, 3, 64)          36928     \n",
      "_________________________________________________________________\n",
      "flatten (Flatten)            (None, 576)               0         \n",
      "_________________________________________________________________\n",
      "dropout (Dropout)            (None, 576)               0         \n",
      "_________________________________________________________________\n",
      "dense (Dense)                (None, 10)                5770      \n",
      "=================================================================\n",
      "Total params: 80,266\n",
      "Trainable params: 80,266\n",
      "Non-trainable params: 0\n",
      "_________________________________________________________________\n"
     ]
    }
   ],
   "source": [
    "model = Model(inputs=inputs, outputs=outputs)\n",
    "model.summary()"
   ]
  },
  {
   "cell_type": "code",
   "execution_count": 14,
   "id": "af42a3d6",
   "metadata": {},
   "outputs": [],
   "source": [
    "model.compile(loss='categorical_crossentropy', optimizer='adam', metrics=['accuracy'])"
   ]
  },
  {
   "cell_type": "code",
   "execution_count": 17,
   "id": "9a5db955",
   "metadata": {},
   "outputs": [
    {
     "name": "stdout",
     "output_type": "stream",
     "text": [
      "Wall time: 0 ns\n",
      "Epoch 1/10\n",
      "469/469 [==============================] - 53s 112ms/step - loss: 0.2655 - accuracy: 0.9165 - val_loss: 0.0633 - val_accuracy: 0.9793\n",
      "Epoch 2/10\n",
      "469/469 [==============================] - 55s 118ms/step - loss: 0.0710 - accuracy: 0.9782 - val_loss: 0.0385 - val_accuracy: 0.9874\n",
      "Epoch 3/10\n",
      "469/469 [==============================] - 61s 130ms/step - loss: 0.0501 - accuracy: 0.9848 - val_loss: 0.0329 - val_accuracy: 0.9894\n",
      "Epoch 4/10\n",
      "469/469 [==============================] - 65s 138ms/step - loss: 0.0403 - accuracy: 0.9874 - val_loss: 0.0265 - val_accuracy: 0.9915\n",
      "Epoch 5/10\n",
      "469/469 [==============================] - 78s 167ms/step - loss: 0.0343 - accuracy: 0.9888 - val_loss: 0.0260 - val_accuracy: 0.9913\n",
      "Epoch 6/10\n",
      "469/469 [==============================] - 71s 152ms/step - loss: 0.0302 - accuracy: 0.9906 - val_loss: 0.0281 - val_accuracy: 0.9910\n",
      "Epoch 7/10\n",
      "469/469 [==============================] - 69s 146ms/step - loss: 0.0270 - accuracy: 0.9911 - val_loss: 0.0240 - val_accuracy: 0.9922\n",
      "Epoch 8/10\n",
      "469/469 [==============================] - 53s 113ms/step - loss: 0.0224 - accuracy: 0.9930 - val_loss: 0.0262 - val_accuracy: 0.9913\n",
      "Epoch 9/10\n",
      "469/469 [==============================] - 84s 179ms/step - loss: 0.0209 - accuracy: 0.9934 - val_loss: 0.0217 - val_accuracy: 0.9929\n",
      "Epoch 10/10\n",
      "469/469 [==============================] - 57s 121ms/step - loss: 0.0194 - accuracy: 0.9935 - val_loss: 0.0208 - val_accuracy: 0.9931\n"
     ]
    }
   ],
   "source": [
    "%time\n",
    "history = model.fit(x_train, y_train, validation_data =(x_test, y_test), epochs=10, batch_size=batch_size)"
   ]
  },
  {
   "cell_type": "code",
   "execution_count": 18,
   "id": "9c6c6387",
   "metadata": {},
   "outputs": [
    {
     "data": {
      "image/png": "[encoded data removed]",
      "text/plain": [
       "<Figure size 432x288 with 1 Axes>"
      ]
     },
     "metadata": {
      "needs_background": "light"
     },
     "output_type": "display_data"
    }
   ],
   "source": [
    "plt.plot(history.history['accuracy'])\n",
    "plt.plot(history.history['val_accuracy'])\n",
    "plt.legend(['training', 'validation'], loc = 'upper left')\n",
    "plt.show()"
   ]
  },
  {
   "cell_type": "code",
   "execution_count": 19,
   "id": "c4be794c",
   "metadata": {},
   "outputs": [
    {
     "name": "stdout",
     "output_type": "stream",
     "text": [
      "79/79 [==============================] - 2s 30ms/step - loss: 0.0208 - accuracy: 0.9931\n",
      "\n",
      "Test accuracy: 99.3%\n"
     ]
    }
   ],
   "source": [
    "score = model.evaluate(x_test, y_test, batch_size=batch_size)\n",
    "print(\"\\nTest accuracy: %.1f%%\" % (100.0 * score[1]))"
   ]
  },
  {
   "cell_type": "code",
   "execution_count": null,
   "id": "5dc4e664",
   "metadata": {},
   "outputs": [],
   "source": []
  }
 ],
 "metadata": {
  "kernelspec": {
   "display_name": "Python 3",
   "language": "python",
   "name": "python3"
  },
  "language_info": {
   "codemirror_mode": {
    "name": "ipython",
    "version": 3
   },
   "file_extension": ".py",
   "mimetype": "text/x-python",
   "name": "python",
   "nbconvert_exporter": "python",
   "pygments_lexer": "ipython3",
   "version": "3.8.8"
  }
 },
 "nbformat": 4,
 "nbformat_minor": 5
}
