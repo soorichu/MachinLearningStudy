{
 "cells": [
  {
   "cell_type": "markdown",
   "id": "95fa470c",
   "metadata": {},
   "source": [
    "## LSTM(Long Short-Term Memory)\n",
    "- RNN은 대부분 LSTM\n",
    "- long-term dependency : 좀 더 많은 이전 state들이 현재 state에 반영될 수 있게 함.\n",
    "- 사용하는 data들\n",
    "    - 현재 input\n",
    "    - 과거 output\n",
    "    - cell state : 하나의 cell에서 다른 cell로 정보를 전달\n",
    "- 3개의 gate\n",
    "    - cell 간의 정보 흐름을 control\n",
    "    - info의 유지, 변경 제어\n",
    "    - 과거와 현재 iput이 현재 cell state와 output에 얼마나 영향 미칠지 제어\n",
    "- RNN 보다 Vanishing gradient가 적어 training이 잘 됨"
   ]
  },
  {
   "cell_type": "code",
   "execution_count": 1,
   "id": "d3b531a1",
   "metadata": {},
   "outputs": [],
   "source": [
    "import numpy as np\n",
    "import matplotlib.pyplot as plt\n",
    "from sklearn.metrics import accuracy_score\n",
    "from tensorflow.keras.datasets import reuters\n",
    "from tensorflow.keras.preprocessing.sequence import pad_sequences\n",
    "from tensorflow.keras.utils import to_categorical, plot_model"
   ]
  },
  {
   "cell_type": "code",
   "execution_count": 2,
   "id": "50ba4ccb",
   "metadata": {},
   "outputs": [],
   "source": [
    "# parameters for data load\n",
    "num_words = 30000\n",
    "maxlen = 50\n",
    "test_split = 0.3"
   ]
  },
  {
   "cell_type": "code",
   "execution_count": 3,
   "id": "a1ca59d6",
   "metadata": {},
   "outputs": [
    {
     "name": "stdout",
     "output_type": "stream",
     "text": [
      "(1395,) (1395,) (599,) (599,)\n"
     ]
    },
    {
     "name": "stderr",
     "output_type": "stream",
     "text": [
      "D:\\Program Files\\anaconda3\\lib\\site-packages\\tensorflow\\python\\keras\\datasets\\reuters.py:143: VisibleDeprecationWarning: Creating an ndarray from ragged nested sequences (which is a list-or-tuple of lists-or-tuples-or ndarrays with different lengths or shapes) is deprecated. If you meant to do this, you must specify 'dtype=object' when creating the ndarray\n",
      "  x_train, y_train = np.array(xs[:idx]), np.array(labels[:idx])\n",
      "D:\\Program Files\\anaconda3\\lib\\site-packages\\tensorflow\\python\\keras\\datasets\\reuters.py:144: VisibleDeprecationWarning: Creating an ndarray from ragged nested sequences (which is a list-or-tuple of lists-or-tuples-or ndarrays with different lengths or shapes) is deprecated. If you meant to do this, you must specify 'dtype=object' when creating the ndarray\n",
      "  x_test, y_test = np.array(xs[idx:]), np.array(labels[idx:])\n"
     ]
    }
   ],
   "source": [
    "(X_train, y_train), (X_test, y_test) = reuters.load_data(num_words = num_words, maxlen = maxlen, test_split = test_split)\n",
    "print(X_train.shape, y_train.shape, X_test.shape, y_test.shape)"
   ]
  },
  {
   "cell_type": "code",
   "execution_count": 4,
   "id": "fbaa96b8",
   "metadata": {},
   "outputs": [
    {
     "name": "stdout",
     "output_type": "stream",
     "text": [
      "(1395, 49) (1395, 49)\n"
     ]
    }
   ],
   "source": [
    "# post : 50개의 단어가 되지 않은 sequence는 뒤쪽을 0으로 채움. 이걸 붙이지 않으면 앞쪽으로 0이 채워짐. \n",
    "X_train = pad_sequences(X_train, padding=\"post\")\n",
    "X_test = pad_sequences(X_train, padding=\"post\")\n",
    "print(X_train.shape, X_test.shape)"
   ]
  },
  {
   "cell_type": "code",
   "execution_count": 5,
   "id": "b83f177f",
   "metadata": {},
   "outputs": [
    {
     "name": "stdout",
     "output_type": "stream",
     "text": [
      "(1395, 49, 1) (1395, 49, 1)\n"
     ]
    }
   ],
   "source": [
    "X_train = np.array(X_train).reshape((X_train.shape[0], X_train.shape[1], 1))\n",
    "X_test = np.array(X_test).reshape((X_test.shape[0], X_test.shape[1], 1))\n",
    "print(X_train.shape, X_test.shape)"
   ]
  },
  {
   "cell_type": "code",
   "execution_count": 6,
   "id": "c214a199",
   "metadata": {},
   "outputs": [
    {
     "name": "stdout",
     "output_type": "stream",
     "text": [
      "(1994, 46)\n"
     ]
    }
   ],
   "source": [
    "y_data = np.concatenate((y_train, y_test))\n",
    "y_data = to_categorical(y_data)\n",
    "print(y_data.shape)"
   ]
  },
  {
   "cell_type": "code",
   "execution_count": 7,
   "id": "3c3bb68f",
   "metadata": {},
   "outputs": [
    {
     "name": "stdout",
     "output_type": "stream",
     "text": [
      "(1395, 46) (1395, 46)\n"
     ]
    }
   ],
   "source": [
    "y_train = y_data[:1395]\n",
    "y_test = y_data[:1395]\n",
    "print(y_train.shape, y_test.shape)"
   ]
  },
  {
   "cell_type": "code",
   "execution_count": 11,
   "id": "fa62a8a5",
   "metadata": {},
   "outputs": [],
   "source": [
    "from tensorflow.keras.models import Sequential\n",
    "from tensorflow.keras.layers import Dense, LSTM, Activation\n",
    "from tensorflow.keras import optimizers\n",
    "from tensorflow.keras.wrappers.scikit_learn import KerasClassifier"
   ]
  },
  {
   "cell_type": "code",
   "execution_count": 12,
   "id": "378e1ca4",
   "metadata": {},
   "outputs": [],
   "source": [
    "def lstm():\n",
    "    model = Sequential()\n",
    "    model.add(LSTM(50, input_shape=(49, 1), return_sequences = False))\n",
    "    model.add(Dense(46))\n",
    "    model.add(Activation('softmax'))\n",
    "    adam = optimizers.Adam(learning_rate=0.001)\n",
    "    model.compile(loss=\"categorical_crossentropy\", optimizer=adam, metrics=['accuracy'])\n",
    "    \n",
    "    return model"
   ]
  },
  {
   "cell_type": "code",
   "execution_count": 13,
   "id": "eefbb9ba",
   "metadata": {},
   "outputs": [
    {
     "name": "stdout",
     "output_type": "stream",
     "text": [
      "Model: \"sequential_1\"\n",
      "_________________________________________________________________\n",
      "Layer (type)                 Output Shape              Param #   \n",
      "=================================================================\n",
      "lstm (LSTM)                  (None, 50)                10400     \n",
      "_________________________________________________________________\n",
      "dense (Dense)                (None, 46)                2346      \n",
      "_________________________________________________________________\n",
      "activation (Activation)      (None, 46)                0         \n",
      "=================================================================\n",
      "Total params: 12,746\n",
      "Trainable params: 12,746\n",
      "Non-trainable params: 0\n",
      "_________________________________________________________________\n"
     ]
    }
   ],
   "source": [
    "model = lstm()\n",
    "model.summary()"
   ]
  },
  {
   "cell_type": "code",
   "execution_count": 14,
   "id": "65228e07",
   "metadata": {},
   "outputs": [
    {
     "name": "stdout",
     "output_type": "stream",
     "text": [
      "Epoch 1/100\n",
      "23/23 [==============================] - 4s 65ms/step - loss: 3.4300 - accuracy: 0.5538 - val_loss: 2.4568 - val_accuracy: 0.7240\n",
      "Epoch 2/100\n",
      "23/23 [==============================] - 1s 24ms/step - loss: 1.6967 - accuracy: 0.7124 - val_loss: 1.2158 - val_accuracy: 0.7240\n",
      "Epoch 3/100\n",
      "23/23 [==============================] - 1s 25ms/step - loss: 1.2176 - accuracy: 0.7124 - val_loss: 1.1040 - val_accuracy: 0.7240\n",
      "Epoch 4/100\n",
      "23/23 [==============================] - 1s 24ms/step - loss: 1.1620 - accuracy: 0.7124 - val_loss: 1.0810 - val_accuracy: 0.7240\n",
      "Epoch 5/100\n",
      "23/23 [==============================] - 1s 26ms/step - loss: 1.1420 - accuracy: 0.7124 - val_loss: 1.0689 - val_accuracy: 0.7240\n",
      "Epoch 6/100\n",
      "23/23 [==============================] - 1s 24ms/step - loss: 1.1311 - accuracy: 0.7124 - val_loss: 1.0646 - val_accuracy: 0.7240\n",
      "Epoch 7/100\n",
      "23/23 [==============================] - 1s 23ms/step - loss: 1.1211 - accuracy: 0.7124 - val_loss: 1.0561 - val_accuracy: 0.7240\n",
      "Epoch 8/100\n",
      "23/23 [==============================] - 1s 22ms/step - loss: 1.1131 - accuracy: 0.7124 - val_loss: 1.0477 - val_accuracy: 0.7240\n",
      "Epoch 9/100\n",
      "23/23 [==============================] - 1s 23ms/step - loss: 1.1017 - accuracy: 0.7124 - val_loss: 1.0641 - val_accuracy: 0.7240\n",
      "Epoch 10/100\n",
      "23/23 [==============================] - 1s 26ms/step - loss: 1.0993 - accuracy: 0.7124 - val_loss: 1.0418 - val_accuracy: 0.7240\n",
      "Epoch 11/100\n",
      "23/23 [==============================] - 1s 26ms/step - loss: 1.0882 - accuracy: 0.7124 - val_loss: 1.0404 - val_accuracy: 0.7240\n",
      "Epoch 12/100\n",
      "23/23 [==============================] - 1s 28ms/step - loss: 1.0864 - accuracy: 0.7124 - val_loss: 1.0336 - val_accuracy: 0.7240\n",
      "Epoch 13/100\n",
      "23/23 [==============================] - 1s 27ms/step - loss: 1.0771 - accuracy: 0.7124 - val_loss: 1.0272 - val_accuracy: 0.7240\n",
      "Epoch 14/100\n",
      "23/23 [==============================] - 1s 23ms/step - loss: 1.0753 - accuracy: 0.7124 - val_loss: 1.0286 - val_accuracy: 0.7240\n",
      "Epoch 15/100\n",
      "23/23 [==============================] - 1s 23ms/step - loss: 1.0681 - accuracy: 0.7124 - val_loss: 1.0243 - val_accuracy: 0.7240\n",
      "Epoch 16/100\n",
      "23/23 [==============================] - 1s 23ms/step - loss: 1.0614 - accuracy: 0.7124 - val_loss: 1.0214 - val_accuracy: 0.7240\n",
      "Epoch 17/100\n",
      "23/23 [==============================] - 1s 25ms/step - loss: 1.0666 - accuracy: 0.7124 - val_loss: 1.0105 - val_accuracy: 0.7240\n",
      "Epoch 18/100\n",
      "23/23 [==============================] - 1s 23ms/step - loss: 1.0456 - accuracy: 0.7124 - val_loss: 1.0254 - val_accuracy: 0.7563\n",
      "Epoch 19/100\n",
      "23/23 [==============================] - 1s 25ms/step - loss: 1.0389 - accuracy: 0.7258 - val_loss: 0.9804 - val_accuracy: 0.7419\n",
      "Epoch 20/100\n",
      "23/23 [==============================] - 1s 24ms/step - loss: 0.9832 - accuracy: 0.7312 - val_loss: 0.8993 - val_accuracy: 0.7742\n",
      "Epoch 21/100\n",
      "23/23 [==============================] - 1s 23ms/step - loss: 0.9367 - accuracy: 0.7625 - val_loss: 0.9420 - val_accuracy: 0.7634\n",
      "Epoch 22/100\n",
      "23/23 [==============================] - 1s 24ms/step - loss: 0.9141 - accuracy: 0.7536 - val_loss: 0.8471 - val_accuracy: 0.7814\n",
      "Epoch 23/100\n",
      "23/23 [==============================] - 1s 24ms/step - loss: 0.8961 - accuracy: 0.7652 - val_loss: 0.8406 - val_accuracy: 0.7778\n",
      "Epoch 24/100\n",
      "23/23 [==============================] - 1s 25ms/step - loss: 0.8832 - accuracy: 0.7670 - val_loss: 0.8209 - val_accuracy: 0.8136\n",
      "Epoch 25/100\n",
      "23/23 [==============================] - 1s 27ms/step - loss: 0.8518 - accuracy: 0.7876 - val_loss: 0.8098 - val_accuracy: 0.8029\n",
      "Epoch 26/100\n",
      "23/23 [==============================] - 1s 25ms/step - loss: 0.8279 - accuracy: 0.7912 - val_loss: 0.8032 - val_accuracy: 0.8100\n",
      "Epoch 27/100\n",
      "23/23 [==============================] - 1s 24ms/step - loss: 0.8545 - accuracy: 0.7787 - val_loss: 0.9539 - val_accuracy: 0.7849\n",
      "Epoch 28/100\n",
      "23/23 [==============================] - 1s 24ms/step - loss: 0.8613 - accuracy: 0.7814 - val_loss: 0.8053 - val_accuracy: 0.8136\n",
      "Epoch 29/100\n",
      "23/23 [==============================] - 1s 25ms/step - loss: 0.8299 - accuracy: 0.7885 - val_loss: 0.7844 - val_accuracy: 0.8172\n",
      "Epoch 30/100\n",
      "23/23 [==============================] - 1s 24ms/step - loss: 0.8216 - accuracy: 0.7957 - val_loss: 0.7866 - val_accuracy: 0.8244\n",
      "Epoch 31/100\n",
      "23/23 [==============================] - 1s 27ms/step - loss: 0.8120 - accuracy: 0.7903 - val_loss: 0.7772 - val_accuracy: 0.8208\n",
      "Epoch 32/100\n",
      "23/23 [==============================] - 1s 24ms/step - loss: 0.8034 - accuracy: 0.7930 - val_loss: 0.7816 - val_accuracy: 0.8244\n",
      "Epoch 33/100\n",
      "23/23 [==============================] - 1s 24ms/step - loss: 0.7926 - accuracy: 0.7957 - val_loss: 0.7752 - val_accuracy: 0.8100\n",
      "Epoch 34/100\n",
      "23/23 [==============================] - 1s 24ms/step - loss: 0.8033 - accuracy: 0.7984 - val_loss: 0.7947 - val_accuracy: 0.8208\n",
      "Epoch 35/100\n",
      "23/23 [==============================] - 1s 24ms/step - loss: 0.7904 - accuracy: 0.8002 - val_loss: 0.7895 - val_accuracy: 0.8208\n",
      "Epoch 36/100\n",
      "23/23 [==============================] - 1s 26ms/step - loss: 0.7835 - accuracy: 0.8047 - val_loss: 0.7722 - val_accuracy: 0.8244\n",
      "Epoch 37/100\n",
      "23/23 [==============================] - 1s 25ms/step - loss: 0.7834 - accuracy: 0.7993 - val_loss: 0.7644 - val_accuracy: 0.8208\n",
      "Epoch 38/100\n",
      "23/23 [==============================] - 1s 27ms/step - loss: 0.8176 - accuracy: 0.7885 - val_loss: 0.8094 - val_accuracy: 0.8136\n",
      "Epoch 39/100\n",
      "23/23 [==============================] - 1s 32ms/step - loss: 0.7915 - accuracy: 0.7939 - val_loss: 0.7671 - val_accuracy: 0.8208\n",
      "Epoch 40/100\n",
      "23/23 [==============================] - 1s 25ms/step - loss: 0.7754 - accuracy: 0.8002 - val_loss: 0.7597 - val_accuracy: 0.8100\n",
      "Epoch 41/100\n",
      "23/23 [==============================] - 1s 24ms/step - loss: 0.7721 - accuracy: 0.7993 - val_loss: 0.7688 - val_accuracy: 0.8065\n",
      "Epoch 42/100\n",
      "23/23 [==============================] - 1s 24ms/step - loss: 0.7676 - accuracy: 0.8056 - val_loss: 0.8236 - val_accuracy: 0.8136\n",
      "Epoch 43/100\n",
      "23/23 [==============================] - 1s 24ms/step - loss: 0.7930 - accuracy: 0.8020 - val_loss: 0.7970 - val_accuracy: 0.8172\n",
      "Epoch 44/100\n",
      "23/23 [==============================] - 1s 23ms/step - loss: 0.7861 - accuracy: 0.8065 - val_loss: 0.7655 - val_accuracy: 0.8244\n",
      "Epoch 45/100\n",
      "23/23 [==============================] - 1s 24ms/step - loss: 0.7591 - accuracy: 0.8127 - val_loss: 0.7603 - val_accuracy: 0.8315\n",
      "Epoch 46/100\n",
      "23/23 [==============================] - 1s 23ms/step - loss: 0.7562 - accuracy: 0.8118 - val_loss: 0.7749 - val_accuracy: 0.8280\n",
      "Epoch 47/100\n",
      "23/23 [==============================] - 1s 26ms/step - loss: 0.8101 - accuracy: 0.7921 - val_loss: 0.7894 - val_accuracy: 0.8208\n",
      "Epoch 48/100\n",
      "23/23 [==============================] - 1s 26ms/step - loss: 0.7701 - accuracy: 0.7984 - val_loss: 0.7696 - val_accuracy: 0.8280\n",
      "Epoch 49/100\n",
      "23/23 [==============================] - 1s 28ms/step - loss: 0.7508 - accuracy: 0.8109 - val_loss: 0.7598 - val_accuracy: 0.8315\n",
      "Epoch 50/100\n",
      "23/23 [==============================] - 1s 28ms/step - loss: 0.7409 - accuracy: 0.8145 - val_loss: 0.7571 - val_accuracy: 0.8315\n",
      "Epoch 51/100\n",
      "23/23 [==============================] - 1s 26ms/step - loss: 0.7381 - accuracy: 0.8118 - val_loss: 0.7705 - val_accuracy: 0.8244\n",
      "Epoch 52/100\n",
      "23/23 [==============================] - 1s 25ms/step - loss: 0.7363 - accuracy: 0.8163 - val_loss: 0.7565 - val_accuracy: 0.8315\n",
      "Epoch 53/100\n",
      "23/23 [==============================] - 1s 26ms/step - loss: 0.7392 - accuracy: 0.8217 - val_loss: 0.7557 - val_accuracy: 0.8315\n",
      "Epoch 54/100\n",
      "23/23 [==============================] - 1s 25ms/step - loss: 0.7410 - accuracy: 0.8091 - val_loss: 0.7570 - val_accuracy: 0.8315\n",
      "Epoch 55/100\n",
      "23/23 [==============================] - 1s 27ms/step - loss: 0.7284 - accuracy: 0.8217 - val_loss: 0.7562 - val_accuracy: 0.8351\n",
      "Epoch 56/100\n",
      "23/23 [==============================] - 1s 26ms/step - loss: 0.7207 - accuracy: 0.8226 - val_loss: 0.7475 - val_accuracy: 0.8315\n",
      "Epoch 57/100\n",
      "23/23 [==============================] - 1s 24ms/step - loss: 0.7100 - accuracy: 0.8226 - val_loss: 0.7402 - val_accuracy: 0.8387\n",
      "Epoch 58/100\n"
     ]
    },
    {
     "name": "stdout",
     "output_type": "stream",
     "text": [
      "23/23 [==============================] - 1s 24ms/step - loss: 0.7035 - accuracy: 0.8217 - val_loss: 0.7491 - val_accuracy: 0.8387\n",
      "Epoch 59/100\n",
      "23/23 [==============================] - 1s 24ms/step - loss: 0.7138 - accuracy: 0.8217 - val_loss: 0.7331 - val_accuracy: 0.8315\n",
      "Epoch 60/100\n",
      "23/23 [==============================] - 1s 23ms/step - loss: 0.7060 - accuracy: 0.8217 - val_loss: 0.7209 - val_accuracy: 0.8351\n",
      "Epoch 61/100\n",
      "23/23 [==============================] - 1s 23ms/step - loss: 0.7221 - accuracy: 0.8208 - val_loss: 0.7472 - val_accuracy: 0.8244\n",
      "Epoch 62/100\n",
      "23/23 [==============================] - 1s 24ms/step - loss: 0.7222 - accuracy: 0.8217 - val_loss: 0.7483 - val_accuracy: 0.8280\n",
      "Epoch 63/100\n",
      "23/23 [==============================] - 1s 23ms/step - loss: 0.7064 - accuracy: 0.8262 - val_loss: 0.7339 - val_accuracy: 0.8351\n",
      "Epoch 64/100\n",
      "23/23 [==============================] - 1s 24ms/step - loss: 0.6997 - accuracy: 0.8271 - val_loss: 0.7538 - val_accuracy: 0.8315\n",
      "Epoch 65/100\n",
      "23/23 [==============================] - 1s 24ms/step - loss: 0.6907 - accuracy: 0.8262 - val_loss: 0.7381 - val_accuracy: 0.8315\n",
      "Epoch 66/100\n",
      "23/23 [==============================] - 1s 25ms/step - loss: 0.6983 - accuracy: 0.8262 - val_loss: 0.7686 - val_accuracy: 0.8315\n",
      "Epoch 67/100\n",
      "23/23 [==============================] - 1s 23ms/step - loss: 0.7212 - accuracy: 0.8118 - val_loss: 0.7134 - val_accuracy: 0.8423\n",
      "Epoch 68/100\n",
      "23/23 [==============================] - 1s 26ms/step - loss: 0.6853 - accuracy: 0.8253 - val_loss: 0.7131 - val_accuracy: 0.8423\n",
      "Epoch 69/100\n",
      "23/23 [==============================] - 1s 27ms/step - loss: 0.6884 - accuracy: 0.8315 - val_loss: 0.7135 - val_accuracy: 0.8351\n",
      "Epoch 70/100\n",
      "23/23 [==============================] - 1s 24ms/step - loss: 0.6698 - accuracy: 0.8289 - val_loss: 0.7007 - val_accuracy: 0.8459\n",
      "Epoch 71/100\n",
      "23/23 [==============================] - 1s 24ms/step - loss: 0.6674 - accuracy: 0.8315 - val_loss: 0.7117 - val_accuracy: 0.8423\n",
      "Epoch 72/100\n",
      "23/23 [==============================] - 1s 23ms/step - loss: 0.6539 - accuracy: 0.8333 - val_loss: 0.7066 - val_accuracy: 0.8387\n",
      "Epoch 73/100\n",
      "23/23 [==============================] - 1s 25ms/step - loss: 0.6696 - accuracy: 0.8324 - val_loss: 0.7245 - val_accuracy: 0.8351\n",
      "Epoch 74/100\n",
      "23/23 [==============================] - 1s 24ms/step - loss: 0.6716 - accuracy: 0.8289 - val_loss: 0.6894 - val_accuracy: 0.8423\n",
      "Epoch 75/100\n",
      "23/23 [==============================] - 1s 24ms/step - loss: 0.6650 - accuracy: 0.8333 - val_loss: 0.7109 - val_accuracy: 0.8351\n",
      "Epoch 76/100\n",
      "23/23 [==============================] - 1s 24ms/step - loss: 0.6816 - accuracy: 0.8226 - val_loss: 0.7598 - val_accuracy: 0.8315\n",
      "Epoch 77/100\n",
      "23/23 [==============================] - 1s 24ms/step - loss: 0.6830 - accuracy: 0.8262 - val_loss: 0.6946 - val_accuracy: 0.8280\n",
      "Epoch 78/100\n",
      "23/23 [==============================] - 1s 24ms/step - loss: 0.6450 - accuracy: 0.8333 - val_loss: 0.7049 - val_accuracy: 0.8315\n",
      "Epoch 79/100\n",
      "23/23 [==============================] - 1s 23ms/step - loss: 0.6407 - accuracy: 0.8387 - val_loss: 0.7155 - val_accuracy: 0.8351\n",
      "Epoch 80/100\n",
      "23/23 [==============================] - 1s 24ms/step - loss: 0.6546 - accuracy: 0.8306 - val_loss: 0.7159 - val_accuracy: 0.8423\n",
      "Epoch 81/100\n",
      "23/23 [==============================] - 1s 24ms/step - loss: 0.6468 - accuracy: 0.8315 - val_loss: 0.7269 - val_accuracy: 0.8315\n",
      "Epoch 82/100\n",
      "23/23 [==============================] - 1s 24ms/step - loss: 0.6788 - accuracy: 0.8253 - val_loss: 0.6924 - val_accuracy: 0.8495\n",
      "Epoch 83/100\n",
      "23/23 [==============================] - 1s 24ms/step - loss: 0.6307 - accuracy: 0.8414 - val_loss: 0.7012 - val_accuracy: 0.8530\n",
      "Epoch 84/100\n",
      "23/23 [==============================] - 1s 24ms/step - loss: 0.6344 - accuracy: 0.8369 - val_loss: 0.6627 - val_accuracy: 0.8459\n",
      "Epoch 85/100\n",
      "23/23 [==============================] - 1s 23ms/step - loss: 0.6429 - accuracy: 0.8360 - val_loss: 0.6624 - val_accuracy: 0.8566\n",
      "Epoch 86/100\n",
      "23/23 [==============================] - 1s 25ms/step - loss: 0.6241 - accuracy: 0.8477 - val_loss: 0.6670 - val_accuracy: 0.8602\n",
      "Epoch 87/100\n",
      "23/23 [==============================] - 1s 25ms/step - loss: 0.5978 - accuracy: 0.8557 - val_loss: 0.6456 - val_accuracy: 0.8530\n",
      "Epoch 88/100\n",
      "23/23 [==============================] - 1s 24ms/step - loss: 0.6435 - accuracy: 0.8378 - val_loss: 0.6911 - val_accuracy: 0.8638\n",
      "Epoch 89/100\n",
      "23/23 [==============================] - 1s 24ms/step - loss: 0.6185 - accuracy: 0.8423 - val_loss: 0.6917 - val_accuracy: 0.8459\n",
      "Epoch 90/100\n",
      "23/23 [==============================] - 1s 23ms/step - loss: 0.6333 - accuracy: 0.8441 - val_loss: 0.7417 - val_accuracy: 0.8351\n",
      "Epoch 91/100\n",
      "23/23 [==============================] - 1s 24ms/step - loss: 0.6518 - accuracy: 0.8360 - val_loss: 0.6574 - val_accuracy: 0.8495\n",
      "Epoch 92/100\n",
      "23/23 [==============================] - 1s 24ms/step - loss: 0.5778 - accuracy: 0.8602 - val_loss: 0.6461 - val_accuracy: 0.8602\n",
      "Epoch 93/100\n",
      "23/23 [==============================] - 1s 26ms/step - loss: 0.5887 - accuracy: 0.8530 - val_loss: 0.7003 - val_accuracy: 0.8387\n",
      "Epoch 94/100\n",
      "23/23 [==============================] - 1s 27ms/step - loss: 0.6073 - accuracy: 0.8459 - val_loss: 0.6277 - val_accuracy: 0.8746\n",
      "Epoch 95/100\n",
      "23/23 [==============================] - 1s 24ms/step - loss: 0.5818 - accuracy: 0.8566 - val_loss: 0.6440 - val_accuracy: 0.8530\n",
      "Epoch 96/100\n",
      "23/23 [==============================] - 1s 24ms/step - loss: 0.5748 - accuracy: 0.8548 - val_loss: 0.6448 - val_accuracy: 0.8674\n",
      "Epoch 97/100\n",
      "23/23 [==============================] - 1s 23ms/step - loss: 0.5634 - accuracy: 0.8611 - val_loss: 0.6236 - val_accuracy: 0.8746\n",
      "Epoch 98/100\n",
      "23/23 [==============================] - 1s 25ms/step - loss: 0.5393 - accuracy: 0.8674 - val_loss: 0.6283 - val_accuracy: 0.8746\n",
      "Epoch 99/100\n",
      "23/23 [==============================] - 1s 23ms/step - loss: 0.5489 - accuracy: 0.8629 - val_loss: 0.6229 - val_accuracy: 0.8710\n",
      "Epoch 100/100\n",
      "23/23 [==============================] - 1s 26ms/step - loss: 0.5630 - accuracy: 0.8620 - val_loss: 0.6441 - val_accuracy: 0.8602\n",
      "Wall time: 1min 1s\n"
     ]
    }
   ],
   "source": [
    "%%time\n",
    "history = model.fit(X_train, y_train, batch_size=50, epochs=100, validation_split=0.2, verbose=1)"
   ]
  },
  {
   "cell_type": "code",
   "execution_count": 15,
   "id": "6e025e5d",
   "metadata": {},
   "outputs": [
    {
     "data": {
      "image/png": "[encoded data removed]",
      "text/plain": [
       "<Figure size 432x288 with 1 Axes>"
      ]
     },
     "metadata": {
      "needs_background": "light"
     },
     "output_type": "display_data"
    }
   ],
   "source": [
    "plt.plot(history.history['accuracy'])\n",
    "plt.plot(history.history['val_accuracy'])\n",
    "plt.legend(['training', 'validation'], loc = 'upper left')\n",
    "plt.show()"
   ]
  },
  {
   "cell_type": "code",
   "execution_count": 16,
   "id": "ebc1b1ea",
   "metadata": {},
   "outputs": [
    {
     "name": "stdout",
     "output_type": "stream",
     "text": [
      "44/44 [==============================] - 0s 9ms/step - loss: 0.5684 - accuracy: 0.8631\n",
      "Test accuracy:  0.8630824089050293\n"
     ]
    }
   ],
   "source": [
    "results = model.evaluate(X_test, y_test)\n",
    "print('Test accuracy: ', results[1])"
   ]
  },
  {
   "cell_type": "markdown",
   "id": "334ef9ad",
   "metadata": {},
   "source": [
    "## Bidirectional RNN \n",
    "- 양방향 RNN(순방향, 역방향 순서 고려)"
   ]
  },
  {
   "cell_type": "code",
   "execution_count": 17,
   "id": "15acb349",
   "metadata": {},
   "outputs": [],
   "source": [
    "from tensorflow.keras.layers import Bidirectional"
   ]
  },
  {
   "cell_type": "code",
   "execution_count": 20,
   "id": "0e6441d6",
   "metadata": {},
   "outputs": [],
   "source": [
    "def bidirectional_lstm():\n",
    "    model = Sequential()\n",
    "    model.add(Bidirectional(LSTM(20, return_sequences = False), input_shape=(49, 1)))\n",
    "    model.add(Dense(46))\n",
    "    model.add(Activation('softmax'))\n",
    "    adam = optimizers.Adam(learning_rate=0.001)\n",
    "    model.compile(loss=\"categorical_crossentropy\", optimizer=adam, metrics=['accuracy'])\n",
    "    \n",
    "    return model"
   ]
  },
  {
   "cell_type": "code",
   "execution_count": 21,
   "id": "151ebed8",
   "metadata": {},
   "outputs": [
    {
     "name": "stdout",
     "output_type": "stream",
     "text": [
      "Model: \"sequential_3\"\n",
      "_________________________________________________________________\n",
      "Layer (type)                 Output Shape              Param #   \n",
      "=================================================================\n",
      "bidirectional_1 (Bidirection (None, 40)                3520      \n",
      "_________________________________________________________________\n",
      "dense_2 (Dense)              (None, 46)                1886      \n",
      "_________________________________________________________________\n",
      "activation_2 (Activation)    (None, 46)                0         \n",
      "=================================================================\n",
      "Total params: 5,406\n",
      "Trainable params: 5,406\n",
      "Non-trainable params: 0\n",
      "_________________________________________________________________\n"
     ]
    }
   ],
   "source": [
    "model = bidirectional_lstm()\n",
    "model.summary()"
   ]
  },
  {
   "cell_type": "code",
   "execution_count": 22,
   "id": "8865a8d4",
   "metadata": {},
   "outputs": [
    {
     "name": "stdout",
     "output_type": "stream",
     "text": [
      "Wall time: 0 ns\n",
      "Epoch 1/100\n",
      "23/23 [==============================] - 5s 55ms/step - loss: 3.6956 - accuracy: 0.0493 - val_loss: 3.2487 - val_accuracy: 0.4839\n",
      "Epoch 2/100\n",
      "23/23 [==============================] - 0s 18ms/step - loss: 2.6919 - accuracy: 0.7016 - val_loss: 2.0234 - val_accuracy: 0.7240\n",
      "Epoch 3/100\n",
      "23/23 [==============================] - 0s 20ms/step - loss: 1.6772 - accuracy: 0.7124 - val_loss: 1.2978 - val_accuracy: 0.7240\n",
      "Epoch 4/100\n",
      "23/23 [==============================] - 1s 22ms/step - loss: 1.2517 - accuracy: 0.7124 - val_loss: 1.1175 - val_accuracy: 0.7240\n",
      "Epoch 5/100\n",
      "23/23 [==============================] - 0s 19ms/step - loss: 1.1638 - accuracy: 0.7124 - val_loss: 1.0665 - val_accuracy: 0.7240\n",
      "Epoch 6/100\n",
      "23/23 [==============================] - 0s 19ms/step - loss: 1.1227 - accuracy: 0.7124 - val_loss: 1.0369 - val_accuracy: 0.7240\n",
      "Epoch 7/100\n",
      "23/23 [==============================] - 1s 23ms/step - loss: 1.0830 - accuracy: 0.7124 - val_loss: 0.9922 - val_accuracy: 0.7240\n",
      "Epoch 8/100\n",
      "23/23 [==============================] - 1s 29ms/step - loss: 1.0332 - accuracy: 0.7142 - val_loss: 0.9439 - val_accuracy: 0.7240\n",
      "Epoch 9/100\n",
      "23/23 [==============================] - 1s 26ms/step - loss: 0.9804 - accuracy: 0.7222 - val_loss: 0.8873 - val_accuracy: 0.7348\n",
      "Epoch 10/100\n",
      "23/23 [==============================] - 1s 28ms/step - loss: 0.9258 - accuracy: 0.7769 - val_loss: 0.8402 - val_accuracy: 0.8244\n",
      "Epoch 11/100\n",
      "23/23 [==============================] - 1s 24ms/step - loss: 0.9090 - accuracy: 0.7939 - val_loss: 0.8318 - val_accuracy: 0.8244\n",
      "Epoch 12/100\n",
      "23/23 [==============================] - 1s 28ms/step - loss: 0.8738 - accuracy: 0.8029 - val_loss: 0.7869 - val_accuracy: 0.8315\n",
      "Epoch 13/100\n",
      "23/23 [==============================] - 1s 27ms/step - loss: 0.8472 - accuracy: 0.8029 - val_loss: 0.7687 - val_accuracy: 0.8315\n",
      "Epoch 14/100\n",
      "23/23 [==============================] - 1s 22ms/step - loss: 0.8191 - accuracy: 0.8073 - val_loss: 0.7592 - val_accuracy: 0.8172\n",
      "Epoch 15/100\n",
      "23/23 [==============================] - 0s 22ms/step - loss: 0.8028 - accuracy: 0.8100 - val_loss: 0.7557 - val_accuracy: 0.8351\n",
      "Epoch 16/100\n",
      "23/23 [==============================] - 0s 20ms/step - loss: 0.8230 - accuracy: 0.8073 - val_loss: 0.7495 - val_accuracy: 0.8280\n",
      "Epoch 17/100\n",
      "23/23 [==============================] - 0s 21ms/step - loss: 0.7962 - accuracy: 0.8127 - val_loss: 0.7378 - val_accuracy: 0.8423\n",
      "Epoch 18/100\n",
      "23/23 [==============================] - 0s 21ms/step - loss: 0.7807 - accuracy: 0.8190 - val_loss: 0.7174 - val_accuracy: 0.8387\n",
      "Epoch 19/100\n",
      "23/23 [==============================] - 1s 22ms/step - loss: 0.7737 - accuracy: 0.8262 - val_loss: 0.7272 - val_accuracy: 0.8530\n",
      "Epoch 20/100\n",
      "23/23 [==============================] - 0s 20ms/step - loss: 0.7850 - accuracy: 0.8163 - val_loss: 0.7077 - val_accuracy: 0.8459\n",
      "Epoch 21/100\n",
      "23/23 [==============================] - 0s 21ms/step - loss: 0.7732 - accuracy: 0.8217 - val_loss: 0.7173 - val_accuracy: 0.8351\n",
      "Epoch 22/100\n",
      "23/23 [==============================] - 0s 20ms/step - loss: 0.7584 - accuracy: 0.8262 - val_loss: 0.7037 - val_accuracy: 0.8387\n",
      "Epoch 23/100\n",
      "23/23 [==============================] - 1s 22ms/step - loss: 0.7487 - accuracy: 0.8289 - val_loss: 0.6874 - val_accuracy: 0.8459\n",
      "Epoch 24/100\n",
      "23/23 [==============================] - 0s 21ms/step - loss: 0.7489 - accuracy: 0.8244 - val_loss: 0.6892 - val_accuracy: 0.8459\n",
      "Epoch 25/100\n",
      "23/23 [==============================] - 0s 21ms/step - loss: 0.7389 - accuracy: 0.8289 - val_loss: 0.6864 - val_accuracy: 0.8495\n",
      "Epoch 26/100\n",
      "23/23 [==============================] - 0s 22ms/step - loss: 0.7391 - accuracy: 0.8280 - val_loss: 0.6792 - val_accuracy: 0.8638\n",
      "Epoch 27/100\n",
      "23/23 [==============================] - 1s 23ms/step - loss: 0.7354 - accuracy: 0.8271 - val_loss: 0.6766 - val_accuracy: 0.8638\n",
      "Epoch 28/100\n",
      "23/23 [==============================] - 1s 28ms/step - loss: 0.7324 - accuracy: 0.8315 - val_loss: 0.6779 - val_accuracy: 0.8566\n",
      "Epoch 29/100\n",
      "23/23 [==============================] - 1s 28ms/step - loss: 0.7309 - accuracy: 0.8333 - val_loss: 0.6641 - val_accuracy: 0.8746\n",
      "Epoch 30/100\n",
      "23/23 [==============================] - 1s 23ms/step - loss: 0.7239 - accuracy: 0.8351 - val_loss: 0.6690 - val_accuracy: 0.8602\n",
      "Epoch 31/100\n",
      "23/23 [==============================] - ETA: 0s - loss: 0.7205 - accuracy: 0.83 - 1s 24ms/step - loss: 0.7216 - accuracy: 0.8342 - val_loss: 0.6682 - val_accuracy: 0.8566\n",
      "Epoch 32/100\n",
      "23/23 [==============================] - 1s 23ms/step - loss: 0.7211 - accuracy: 0.8351 - val_loss: 0.6585 - val_accuracy: 0.8746\n",
      "Epoch 33/100\n",
      "23/23 [==============================] - 1s 26ms/step - loss: 0.7159 - accuracy: 0.8342 - val_loss: 0.6707 - val_accuracy: 0.8674\n",
      "Epoch 34/100\n",
      "23/23 [==============================] - 1s 26ms/step - loss: 0.7221 - accuracy: 0.8306 - val_loss: 0.6710 - val_accuracy: 0.8746\n",
      "Epoch 35/100\n",
      "23/23 [==============================] - 1s 28ms/step - loss: 0.7206 - accuracy: 0.8297 - val_loss: 0.6590 - val_accuracy: 0.8602\n",
      "Epoch 36/100\n",
      "23/23 [==============================] - 1s 26ms/step - loss: 0.7084 - accuracy: 0.8342 - val_loss: 0.6514 - val_accuracy: 0.8674\n",
      "Epoch 37/100\n",
      "23/23 [==============================] - 1s 26ms/step - loss: 0.7057 - accuracy: 0.8333 - val_loss: 0.6599 - val_accuracy: 0.8602\n",
      "Epoch 38/100\n",
      "23/23 [==============================] - 1s 26ms/step - loss: 0.7049 - accuracy: 0.8378 - val_loss: 0.6545 - val_accuracy: 0.8746\n",
      "Epoch 39/100\n",
      "23/23 [==============================] - 1s 27ms/step - loss: 0.7037 - accuracy: 0.8351 - val_loss: 0.6667 - val_accuracy: 0.8602\n",
      "Epoch 40/100\n",
      "23/23 [==============================] - 1s 25ms/step - loss: 0.7021 - accuracy: 0.8342 - val_loss: 0.6547 - val_accuracy: 0.8746\n",
      "Epoch 41/100\n",
      "23/23 [==============================] - 1s 33ms/step - loss: 0.6966 - accuracy: 0.8360 - val_loss: 0.6552 - val_accuracy: 0.8674\n",
      "Epoch 42/100\n",
      "23/23 [==============================] - 1s 23ms/step - loss: 0.6971 - accuracy: 0.8297 - val_loss: 0.6413 - val_accuracy: 0.8674\n",
      "Epoch 43/100\n",
      "23/23 [==============================] - 1s 22ms/step - loss: 0.6897 - accuracy: 0.8369 - val_loss: 0.6441 - val_accuracy: 0.8674\n",
      "Epoch 44/100\n",
      "23/23 [==============================] - 1s 25ms/step - loss: 0.6908 - accuracy: 0.8387 - val_loss: 0.6449 - val_accuracy: 0.8710\n",
      "Epoch 45/100\n",
      "23/23 [==============================] - 1s 24ms/step - loss: 0.6890 - accuracy: 0.8351 - val_loss: 0.6414 - val_accuracy: 0.8746\n",
      "Epoch 46/100\n",
      "23/23 [==============================] - 1s 23ms/step - loss: 0.6879 - accuracy: 0.8405 - val_loss: 0.6431 - val_accuracy: 0.8710\n",
      "Epoch 47/100\n",
      "23/23 [==============================] - 1s 23ms/step - loss: 0.7007 - accuracy: 0.8315 - val_loss: 0.6761 - val_accuracy: 0.8530\n",
      "Epoch 48/100\n",
      "23/23 [==============================] - 1s 23ms/step - loss: 0.6899 - accuracy: 0.8396 - val_loss: 0.6569 - val_accuracy: 0.8566\n",
      "Epoch 49/100\n",
      "23/23 [==============================] - 1s 25ms/step - loss: 0.6808 - accuracy: 0.8351 - val_loss: 0.6379 - val_accuracy: 0.8674\n",
      "Epoch 50/100\n",
      "23/23 [==============================] - 1s 29ms/step - loss: 0.6735 - accuracy: 0.8378 - val_loss: 0.6856 - val_accuracy: 0.8495\n",
      "Epoch 51/100\n",
      "23/23 [==============================] - 1s 25ms/step - loss: 0.6914 - accuracy: 0.8324 - val_loss: 0.6449 - val_accuracy: 0.8710\n",
      "Epoch 52/100\n",
      "23/23 [==============================] - 1s 23ms/step - loss: 0.6753 - accuracy: 0.8351 - val_loss: 0.6639 - val_accuracy: 0.8530\n",
      "Epoch 53/100\n",
      "23/23 [==============================] - 1s 23ms/step - loss: 0.6744 - accuracy: 0.8378 - val_loss: 0.6351 - val_accuracy: 0.8781\n",
      "Epoch 54/100\n",
      "23/23 [==============================] - 1s 23ms/step - loss: 0.6773 - accuracy: 0.8405 - val_loss: 0.6359 - val_accuracy: 0.8781\n",
      "Epoch 55/100\n",
      "23/23 [==============================] - 1s 24ms/step - loss: 0.6704 - accuracy: 0.8423 - val_loss: 0.6404 - val_accuracy: 0.8710\n",
      "Epoch 56/100\n",
      "23/23 [==============================] - 1s 23ms/step - loss: 0.6642 - accuracy: 0.8405 - val_loss: 0.6460 - val_accuracy: 0.8746\n",
      "Epoch 57/100\n",
      "23/23 [==============================] - 1s 23ms/step - loss: 0.6627 - accuracy: 0.8387 - val_loss: 0.6397 - val_accuracy: 0.8710\n"
     ]
    },
    {
     "name": "stdout",
     "output_type": "stream",
     "text": [
      "Epoch 58/100\n",
      "23/23 [==============================] - 0s 22ms/step - loss: 0.6640 - accuracy: 0.8369 - val_loss: 0.6312 - val_accuracy: 0.8781\n",
      "Epoch 59/100\n",
      "23/23 [==============================] - 1s 24ms/step - loss: 0.6716 - accuracy: 0.8387 - val_loss: 0.6319 - val_accuracy: 0.8710\n",
      "Epoch 60/100\n",
      "23/23 [==============================] - 0s 21ms/step - loss: 0.6640 - accuracy: 0.8387 - val_loss: 0.6344 - val_accuracy: 0.8710\n",
      "Epoch 61/100\n",
      "23/23 [==============================] - 1s 23ms/step - loss: 0.6600 - accuracy: 0.8396 - val_loss: 0.6394 - val_accuracy: 0.8710\n",
      "Epoch 62/100\n",
      "23/23 [==============================] - 1s 22ms/step - loss: 0.6716 - accuracy: 0.8405 - val_loss: 0.6753 - val_accuracy: 0.8530\n",
      "Epoch 63/100\n",
      "23/23 [==============================] - 1s 24ms/step - loss: 0.6579 - accuracy: 0.8387 - val_loss: 0.6290 - val_accuracy: 0.8746\n",
      "Epoch 64/100\n",
      "23/23 [==============================] - 1s 23ms/step - loss: 0.6565 - accuracy: 0.8432 - val_loss: 0.6375 - val_accuracy: 0.8710\n",
      "Epoch 65/100\n",
      "23/23 [==============================] - 1s 23ms/step - loss: 0.6667 - accuracy: 0.8360 - val_loss: 0.6491 - val_accuracy: 0.8638\n",
      "Epoch 66/100\n",
      "23/23 [==============================] - 1s 25ms/step - loss: 0.6550 - accuracy: 0.8387 - val_loss: 0.6764 - val_accuracy: 0.8530\n",
      "Epoch 67/100\n",
      "23/23 [==============================] - 1s 23ms/step - loss: 0.6502 - accuracy: 0.8459 - val_loss: 0.6472 - val_accuracy: 0.8674\n",
      "Epoch 68/100\n",
      "23/23 [==============================] - 1s 25ms/step - loss: 0.6404 - accuracy: 0.8459 - val_loss: 0.6275 - val_accuracy: 0.8746\n",
      "Epoch 69/100\n",
      "23/23 [==============================] - 1s 26ms/step - loss: 0.6387 - accuracy: 0.8468 - val_loss: 0.6508 - val_accuracy: 0.8602\n",
      "Epoch 70/100\n",
      "23/23 [==============================] - 1s 25ms/step - loss: 0.6391 - accuracy: 0.8468 - val_loss: 0.6280 - val_accuracy: 0.8710\n",
      "Epoch 71/100\n",
      "23/23 [==============================] - 1s 24ms/step - loss: 0.6473 - accuracy: 0.8432 - val_loss: 0.6815 - val_accuracy: 0.8530\n",
      "Epoch 72/100\n",
      "23/23 [==============================] - 1s 24ms/step - loss: 0.6377 - accuracy: 0.8405 - val_loss: 0.6281 - val_accuracy: 0.8710\n",
      "Epoch 73/100\n",
      "23/23 [==============================] - 1s 25ms/step - loss: 0.6373 - accuracy: 0.8450 - val_loss: 0.6280 - val_accuracy: 0.8710\n",
      "Epoch 74/100\n",
      "23/23 [==============================] - 1s 22ms/step - loss: 0.6412 - accuracy: 0.8387 - val_loss: 0.6540 - val_accuracy: 0.8602\n",
      "Epoch 75/100\n",
      "23/23 [==============================] - 1s 26ms/step - loss: 0.6321 - accuracy: 0.8450 - val_loss: 0.6234 - val_accuracy: 0.8746\n",
      "Epoch 76/100\n",
      "23/23 [==============================] - 1s 24ms/step - loss: 0.6211 - accuracy: 0.8495 - val_loss: 0.6543 - val_accuracy: 0.8638\n",
      "Epoch 77/100\n",
      "23/23 [==============================] - 1s 25ms/step - loss: 0.6264 - accuracy: 0.8441 - val_loss: 0.6192 - val_accuracy: 0.8746\n",
      "Epoch 78/100\n",
      "23/23 [==============================] - 1s 24ms/step - loss: 0.6240 - accuracy: 0.8495 - val_loss: 0.6279 - val_accuracy: 0.8746\n",
      "Epoch 79/100\n",
      "23/23 [==============================] - 1s 25ms/step - loss: 0.6173 - accuracy: 0.8477 - val_loss: 0.6255 - val_accuracy: 0.8746\n",
      "Epoch 80/100\n",
      "23/23 [==============================] - 1s 26ms/step - loss: 0.6381 - accuracy: 0.8423 - val_loss: 0.6130 - val_accuracy: 0.8710\n",
      "Epoch 81/100\n",
      "23/23 [==============================] - 1s 24ms/step - loss: 0.6323 - accuracy: 0.8378 - val_loss: 0.6547 - val_accuracy: 0.8638\n",
      "Epoch 82/100\n",
      "23/23 [==============================] - 1s 25ms/step - loss: 0.6208 - accuracy: 0.8477 - val_loss: 0.6283 - val_accuracy: 0.8638\n",
      "Epoch 83/100\n",
      "23/23 [==============================] - 1s 24ms/step - loss: 0.6153 - accuracy: 0.8530 - val_loss: 0.6612 - val_accuracy: 0.8638\n",
      "Epoch 84/100\n",
      "23/23 [==============================] - 1s 25ms/step - loss: 0.6216 - accuracy: 0.8432 - val_loss: 0.6255 - val_accuracy: 0.8746\n",
      "Epoch 85/100\n",
      "23/23 [==============================] - 1s 23ms/step - loss: 0.6100 - accuracy: 0.8504 - val_loss: 0.6199 - val_accuracy: 0.8710\n",
      "Epoch 86/100\n",
      "23/23 [==============================] - 1s 26ms/step - loss: 0.6118 - accuracy: 0.8504 - val_loss: 0.6228 - val_accuracy: 0.8710\n",
      "Epoch 87/100\n",
      "23/23 [==============================] - 1s 25ms/step - loss: 0.6116 - accuracy: 0.8504 - val_loss: 0.6121 - val_accuracy: 0.8746\n",
      "Epoch 88/100\n",
      "23/23 [==============================] - 1s 24ms/step - loss: 0.6001 - accuracy: 0.8522 - val_loss: 0.6207 - val_accuracy: 0.8746\n",
      "Epoch 89/100\n",
      "23/23 [==============================] - 1s 24ms/step - loss: 0.6077 - accuracy: 0.8486 - val_loss: 0.6691 - val_accuracy: 0.8566\n",
      "Epoch 90/100\n",
      "23/23 [==============================] - 1s 26ms/step - loss: 0.6101 - accuracy: 0.8459 - val_loss: 0.6205 - val_accuracy: 0.8746\n",
      "Epoch 91/100\n",
      "23/23 [==============================] - 1s 27ms/step - loss: 0.6003 - accuracy: 0.8477 - val_loss: 0.6007 - val_accuracy: 0.8781\n",
      "Epoch 92/100\n",
      "23/23 [==============================] - 1s 24ms/step - loss: 0.5992 - accuracy: 0.8513 - val_loss: 0.6129 - val_accuracy: 0.8746\n",
      "Epoch 93/100\n",
      "23/23 [==============================] - 1s 24ms/step - loss: 0.5949 - accuracy: 0.8513 - val_loss: 0.6163 - val_accuracy: 0.8674\n",
      "Epoch 94/100\n",
      "23/23 [==============================] - 1s 24ms/step - loss: 0.5902 - accuracy: 0.8513 - val_loss: 0.6164 - val_accuracy: 0.8746\n",
      "Epoch 95/100\n",
      "23/23 [==============================] - 1s 26ms/step - loss: 0.5930 - accuracy: 0.8486 - val_loss: 0.6109 - val_accuracy: 0.8746\n",
      "Epoch 96/100\n",
      "23/23 [==============================] - 1s 27ms/step - loss: 0.6060 - accuracy: 0.8432 - val_loss: 0.6339 - val_accuracy: 0.8638\n",
      "Epoch 97/100\n",
      "23/23 [==============================] - 1s 32ms/step - loss: 0.5839 - accuracy: 0.8557 - val_loss: 0.6111 - val_accuracy: 0.8710\n",
      "Epoch 98/100\n",
      "23/23 [==============================] - 1s 30ms/step - loss: 0.5782 - accuracy: 0.8557 - val_loss: 0.6074 - val_accuracy: 0.8746\n",
      "Epoch 99/100\n",
      "23/23 [==============================] - 1s 28ms/step - loss: 0.5786 - accuracy: 0.8539 - val_loss: 0.6336 - val_accuracy: 0.8674\n",
      "Epoch 100/100\n",
      "23/23 [==============================] - 1s 26ms/step - loss: 0.5994 - accuracy: 0.8450 - val_loss: 0.6741 - val_accuracy: 0.8459\n"
     ]
    }
   ],
   "source": [
    "%time\n",
    "history = model.fit(X_train, y_train, batch_size = 50, epochs = 100, validation_split = 0.2, verbose = 1)"
   ]
  },
  {
   "cell_type": "code",
   "execution_count": 23,
   "id": "3a646172",
   "metadata": {},
   "outputs": [
    {
     "data": {
      "image/png": "[encoded data removed]",
      "text/plain": [
       "<Figure size 432x288 with 1 Axes>"
      ]
     },
     "metadata": {
      "needs_background": "light"
     },
     "output_type": "display_data"
    }
   ],
   "source": [
    "plt.plot(history.history['accuracy'])\n",
    "plt.plot(history.history['val_accuracy'])\n",
    "plt.legend(['training', 'validation'], loc = 'upper left')\n",
    "plt.show()"
   ]
  },
  {
   "cell_type": "code",
   "execution_count": 24,
   "id": "57575e67",
   "metadata": {},
   "outputs": [
    {
     "name": "stdout",
     "output_type": "stream",
     "text": [
      "44/44 [==============================] - 0s 5ms/step - loss: 0.6182 - accuracy: 0.8430\n",
      "Test accuracy:  0.8430107235908508\n"
     ]
    }
   ],
   "source": [
    "results = model.evaluate(X_test, y_test)\n",
    "print('Test accuracy: ', results[1])"
   ]
  },
  {
   "cell_type": "code",
   "execution_count": null,
   "id": "cf3d9db6",
   "metadata": {},
   "outputs": [],
   "source": []
  }
 ],
 "metadata": {
  "kernelspec": {
   "display_name": "Python 3",
   "language": "python",
   "name": "python3"
  },
  "language_info": {
   "codemirror_mode": {
    "name": "ipython",
    "version": 3
   },
   "file_extension": ".py",
   "mimetype": "text/x-python",
   "name": "python",
   "nbconvert_exporter": "python",
   "pygments_lexer": "ipython3",
   "version": "3.8.8"
  }
 },
 "nbformat": 4,
 "nbformat_minor": 5
}
