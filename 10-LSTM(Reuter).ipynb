{
 "cells": [
  {
   "cell_type": "markdown",
   "id": "95fa470c",
   "metadata": {},
   "source": [
    "## LSTM(Long Short-Term Memory)\n",
    "- long-term dependency : 좀 더 많은 이전 state들이 현재 state에 반영될 수 있게 함.\n",
    "- 사용하는 data들\n",
    "    - 현재 input\n",
    "    - 과거 output\n",
    "    \n"
   ]
  },
  {
   "cell_type": "code",
   "execution_count": null,
   "id": "d3b531a1",
   "metadata": {},
   "outputs": [],
   "source": []
  }
 ],
 "metadata": {
  "kernelspec": {
   "display_name": "Python 3",
   "language": "python",
   "name": "python3"
  },
  "language_info": {
   "codemirror_mode": {
    "name": "ipython",
    "version": 3
   },
   "file_extension": ".py",
   "mimetype": "text/x-python",
   "name": "python",
   "nbconvert_exporter": "python",
   "pygments_lexer": "ipython3",
   "version": "3.8.8"
  }
 },
 "nbformat": 4,
 "nbformat_minor": 5
}
