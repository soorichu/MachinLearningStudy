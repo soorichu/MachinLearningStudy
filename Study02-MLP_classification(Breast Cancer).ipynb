{
 "cells": [
  {
   "cell_type": "markdown",
   "id": "049d0d66",
   "metadata": {},
   "source": [
    "# MLP Classification\n",
    "\n",
    "### 1. Activation function\n",
    "- sigmoid\n",
    "  $$ f(x) = \\frac{1}{1+e^{-x}} $$\n",
    "- softmax \n",
    "  - 각 벡터의 요소 $ s_i $를 (0, 1) 범위 안에 있도록 해줌.\n",
    "  - 모든 합이 1\n",
    "  $$ s_i = f( {e_i} ) = \\frac{e^i}{\\sum_{j=0}^{C}{e^j}} $$\n",
    "  \n",
    "### 2. Cross-Entropy Loss (loss function)\n",
    "- Binary classification 문제\n",
    "  - 마지막 output에 따라 주어진 input feature X가 A, B 중 어떤 클래스인지 판정하는 문제\n",
    "  - 고양이=0, 개=1. sigmoid activation 사용\n",
    "  - Cross Entropy\n",
    "  $$ CE = - \\sum_{i=0}^{C} {{t_i}{log({s_i})}}  $$\n",
    "  - Binary Classification에서 C=1\n",
    "      - $ CE = -t_0 log({s_0}) - t_1 log({s_1}) $\n",
    "      - EX1) 고양이 사진을 주었는데 $s_0 = 0.2$가 나온 경우\n",
    "          - $[t_0 , t_1 ] = [0, 1] 이므로 t_0 = 0 $\n",
    "          - $ CE = -[0 \\times log(0.2)] - [1 \\times log(0.8)] = 0.223 $\n",
    "          - 즉 CE loss = 0.223이므로 0에 가깝다. model을 잘 판단한 경우\n",
    "      - EX2) 고양이 사진을 주었는데 $s_0 = 0.7$가 나온 경우\n",
    "          - $[t_0 , t_1 ] = [0, 1] 이므로 t_0 = 0 $\n",
    "          - $ CE = -[0 \\times log(0.7)] - [1 \\times log(0.3)] = 1.203 $\n",
    "          - 즉 CE loss = 1.203이므로 1에 가깝다. model을 잘 판정하지 못한 경우\n",
    "      - EX3) 개 사진을 주었는데 $s_0 = 0.9$가 나온 경우\n",
    "          - $[t_0 , t_1 ] = [0, 1] 이므로 t_0 = 1 $\n",
    "          - $ CE = -[0 \\times log(0.9)] - [1 \\times log(0.1)] = 0.105 $\n",
    "          - 즉 CE loss가 0에 가깝다. model을 잘 판정한 경우\n",
    "- 따라서 CE loss function으로 learning을 하는 경우 model은 ground truth의 classification을 따라 제대로 classify 하려는 방향으로 parameter들을 optimize하게 됨.\n",
    "- Softmax Activation 뒤에는 Cross-Entropy Loss를 붙임. -> 3개 이상의 Classification에서 많이 사용"
   ]
  },
  {
   "cell_type": "markdown",
   "id": "d429d332",
   "metadata": {},
   "source": [
    "## Breast Cancer Dataset\n",
    "- 569개의 data instance\n",
    "- y Class: 양성 357(not cancer), 악성 212(cancer)\n",
    "- X 30개의 feature"
   ]
  },
  {
   "cell_type": "code",
   "execution_count": 26,
   "id": "94430a56",
   "metadata": {},
   "outputs": [],
   "source": [
    "import numpy as np\n",
    "from tensorflow.keras.models import Sequential\n",
    "from tensorflow.keras.layers import Activation, Dense, Dropout\n",
    "from tensorflow.keras import optimizers\n",
    "from sklearn.datasets import load_breast_cancer\n",
    "from sklearn.model_selection import train_test_split"
   ]
  },
  {
   "cell_type": "code",
   "execution_count": 2,
   "id": "375e381a",
   "metadata": {},
   "outputs": [],
   "source": [
    "whole_data = load_breast_cancer()"
   ]
  },
  {
   "cell_type": "code",
   "execution_count": 3,
   "id": "00061616",
   "metadata": {},
   "outputs": [],
   "source": [
    "X_data = whole_data.data\n",
    "y_data = whole_data.target"
   ]
  },
  {
   "cell_type": "code",
   "execution_count": 6,
   "id": "cd03a645",
   "metadata": {},
   "outputs": [
    {
     "name": "stdout",
     "output_type": "stream",
     "text": [
      "(398, 30) (398,) (171, 30) (171,)\n"
     ]
    }
   ],
   "source": [
    "X_train, X_test, y_train, y_test = train_test_split(X_data, y_data, test_size=0.3, random_state=7)\n",
    "\n",
    "print(X_train.shape, y_train.shape, X_test.shape, y_test.shape)"
   ]
  },
  {
   "cell_type": "code",
   "execution_count": 63,
   "id": "922be0e8",
   "metadata": {},
   "outputs": [],
   "source": [
    "model = Sequential()"
   ]
  },
  {
   "cell_type": "code",
   "execution_count": 64,
   "id": "ee0bd0bc",
   "metadata": {},
   "outputs": [
    {
     "name": "stdout",
     "output_type": "stream",
     "text": [
      "Model: \"sequential_4\"\n",
      "_________________________________________________________________\n",
      "Layer (type)                 Output Shape              Param #   \n",
      "=================================================================\n",
      "dense_25 (Dense)             (None, 10)                310       \n",
      "_________________________________________________________________\n",
      "dropout_9 (Dropout)          (None, 10)                0         \n",
      "_________________________________________________________________\n",
      "dense_26 (Dense)             (None, 10)                110       \n",
      "_________________________________________________________________\n",
      "dropout_10 (Dropout)         (None, 10)                0         \n",
      "_________________________________________________________________\n",
      "dense_27 (Dense)             (None, 10)                110       \n",
      "_________________________________________________________________\n",
      "dropout_11 (Dropout)         (None, 10)                0         \n",
      "_________________________________________________________________\n",
      "dense_28 (Dense)             (None, 1)                 11        \n",
      "=================================================================\n",
      "Total params: 541\n",
      "Trainable params: 541\n",
      "Non-trainable params: 0\n",
      "_________________________________________________________________\n"
     ]
    }
   ],
   "source": [
    "model.add(Dense(10, input_shape=(X_train.shape[1],), activation='sigmoid'))\n",
    "model.add(Dropout(0.3))\n",
    "model.add(Dense(10, activation='sigmoid'))\n",
    "model.add(Dropout(0.3))\n",
    "model.add(Dense(10, activation='sigmoid'))\n",
    "model.add(Dropout(0.3))\n",
    "model.add(Dense(1, activation='sigmoid'))\n",
    "model.summary()"
   ]
  },
  {
   "cell_type": "code",
   "execution_count": 65,
   "id": "be190809",
   "metadata": {},
   "outputs": [],
   "source": [
    "adam = optimizers.Adam(lr = 0.01)"
   ]
  },
  {
   "cell_type": "code",
   "execution_count": 66,
   "id": "3fc3434e",
   "metadata": {},
   "outputs": [],
   "source": [
    "model.compile(optimizer=adam, loss='binary_crossentropy', metrics=['accuracy'])"
   ]
  },
  {
   "cell_type": "code",
   "execution_count": 71,
   "id": "c6103687",
   "metadata": {},
   "outputs": [
    {
     "name": "stdout",
     "output_type": "stream",
     "text": [
      "Epoch 1/100\n",
      "7/7 [==============================] - 0s 9ms/step - loss: 0.6768 - accuracy: 0.5912 - val_loss: 0.6495 - val_accuracy: 0.6625\n",
      "Epoch 2/100\n",
      "7/7 [==============================] - 0s 5ms/step - loss: 0.6762 - accuracy: 0.5912 - val_loss: 0.6501 - val_accuracy: 0.6625\n",
      "Epoch 3/100\n",
      "7/7 [==============================] - 0s 5ms/step - loss: 0.6772 - accuracy: 0.5912 - val_loss: 0.6506 - val_accuracy: 0.6625\n",
      "Epoch 4/100\n",
      "7/7 [==============================] - 0s 5ms/step - loss: 0.6765 - accuracy: 0.5912 - val_loss: 0.6493 - val_accuracy: 0.6625\n",
      "Epoch 5/100\n",
      "7/7 [==============================] - 0s 5ms/step - loss: 0.6773 - accuracy: 0.5912 - val_loss: 0.6502 - val_accuracy: 0.6625\n",
      "Epoch 6/100\n",
      "7/7 [==============================] - 0s 5ms/step - loss: 0.6760 - accuracy: 0.5912 - val_loss: 0.6504 - val_accuracy: 0.6625\n",
      "Epoch 7/100\n",
      "7/7 [==============================] - 0s 5ms/step - loss: 0.6762 - accuracy: 0.5912 - val_loss: 0.6498 - val_accuracy: 0.6625\n",
      "Epoch 8/100\n",
      "7/7 [==============================] - 0s 5ms/step - loss: 0.6775 - accuracy: 0.5912 - val_loss: 0.6497 - val_accuracy: 0.6625\n",
      "Epoch 9/100\n",
      "7/7 [==============================] - 0s 5ms/step - loss: 0.6775 - accuracy: 0.5912 - val_loss: 0.6504 - val_accuracy: 0.6625\n",
      "Epoch 10/100\n",
      "7/7 [==============================] - 0s 5ms/step - loss: 0.6760 - accuracy: 0.5912 - val_loss: 0.6494 - val_accuracy: 0.6625\n",
      "Epoch 11/100\n",
      "7/7 [==============================] - 0s 5ms/step - loss: 0.6764 - accuracy: 0.5912 - val_loss: 0.6500 - val_accuracy: 0.6625\n",
      "Epoch 12/100\n",
      "7/7 [==============================] - 0s 5ms/step - loss: 0.6763 - accuracy: 0.5912 - val_loss: 0.6505 - val_accuracy: 0.6625\n",
      "Epoch 13/100\n",
      "7/7 [==============================] - 0s 5ms/step - loss: 0.6773 - accuracy: 0.5912 - val_loss: 0.6511 - val_accuracy: 0.6625\n",
      "Epoch 14/100\n",
      "7/7 [==============================] - 0s 5ms/step - loss: 0.6771 - accuracy: 0.5912 - val_loss: 0.6526 - val_accuracy: 0.6625\n",
      "Epoch 15/100\n",
      "7/7 [==============================] - 0s 5ms/step - loss: 0.6763 - accuracy: 0.5912 - val_loss: 0.6536 - val_accuracy: 0.6625\n",
      "Epoch 16/100\n",
      "7/7 [==============================] - 0s 5ms/step - loss: 0.6768 - accuracy: 0.5912 - val_loss: 0.6526 - val_accuracy: 0.6625\n",
      "Epoch 17/100\n",
      "7/7 [==============================] - 0s 5ms/step - loss: 0.6764 - accuracy: 0.5912 - val_loss: 0.6532 - val_accuracy: 0.6625\n",
      "Epoch 18/100\n",
      "7/7 [==============================] - 0s 5ms/step - loss: 0.6765 - accuracy: 0.5912 - val_loss: 0.6523 - val_accuracy: 0.6625\n",
      "Epoch 19/100\n",
      "7/7 [==============================] - 0s 5ms/step - loss: 0.6766 - accuracy: 0.5912 - val_loss: 0.6524 - val_accuracy: 0.6625\n",
      "Epoch 20/100\n",
      "7/7 [==============================] - 0s 5ms/step - loss: 0.6769 - accuracy: 0.5912 - val_loss: 0.6515 - val_accuracy: 0.6625\n",
      "Epoch 21/100\n",
      "7/7 [==============================] - 0s 5ms/step - loss: 0.6770 - accuracy: 0.5912 - val_loss: 0.6509 - val_accuracy: 0.6625\n",
      "Epoch 22/100\n",
      "7/7 [==============================] - 0s 5ms/step - loss: 0.6767 - accuracy: 0.5912 - val_loss: 0.6511 - val_accuracy: 0.6625\n",
      "Epoch 23/100\n",
      "7/7 [==============================] - 0s 5ms/step - loss: 0.6760 - accuracy: 0.5912 - val_loss: 0.6505 - val_accuracy: 0.6625\n",
      "Epoch 24/100\n",
      "7/7 [==============================] - 0s 5ms/step - loss: 0.6761 - accuracy: 0.5912 - val_loss: 0.6503 - val_accuracy: 0.6625\n",
      "Epoch 25/100\n",
      "7/7 [==============================] - 0s 6ms/step - loss: 0.6773 - accuracy: 0.5912 - val_loss: 0.6497 - val_accuracy: 0.6625\n",
      "Epoch 26/100\n",
      "7/7 [==============================] - 0s 5ms/step - loss: 0.6766 - accuracy: 0.5912 - val_loss: 0.6498 - val_accuracy: 0.6625\n",
      "Epoch 27/100\n",
      "7/7 [==============================] - 0s 5ms/step - loss: 0.6761 - accuracy: 0.5912 - val_loss: 0.6499 - val_accuracy: 0.6625\n",
      "Epoch 28/100\n",
      "7/7 [==============================] - 0s 6ms/step - loss: 0.6760 - accuracy: 0.5912 - val_loss: 0.6499 - val_accuracy: 0.6625\n",
      "Epoch 29/100\n",
      "7/7 [==============================] - 0s 7ms/step - loss: 0.6768 - accuracy: 0.5912 - val_loss: 0.6498 - val_accuracy: 0.6625\n",
      "Epoch 30/100\n",
      "7/7 [==============================] - 0s 7ms/step - loss: 0.6763 - accuracy: 0.5912 - val_loss: 0.6494 - val_accuracy: 0.6625\n",
      "Epoch 31/100\n",
      "7/7 [==============================] - 0s 8ms/step - loss: 0.6775 - accuracy: 0.5912 - val_loss: 0.6497 - val_accuracy: 0.6625\n",
      "Epoch 32/100\n",
      "7/7 [==============================] - 0s 5ms/step - loss: 0.6762 - accuracy: 0.5912 - val_loss: 0.6506 - val_accuracy: 0.6625\n",
      "Epoch 33/100\n",
      "7/7 [==============================] - 0s 5ms/step - loss: 0.6766 - accuracy: 0.5912 - val_loss: 0.6509 - val_accuracy: 0.6625\n",
      "Epoch 34/100\n",
      "7/7 [==============================] - 0s 5ms/step - loss: 0.6768 - accuracy: 0.5912 - val_loss: 0.6498 - val_accuracy: 0.6625\n",
      "Epoch 35/100\n",
      "7/7 [==============================] - 0s 5ms/step - loss: 0.6763 - accuracy: 0.5912 - val_loss: 0.6502 - val_accuracy: 0.6625\n",
      "Epoch 36/100\n",
      "7/7 [==============================] - 0s 8ms/step - loss: 0.6765 - accuracy: 0.5912 - val_loss: 0.6506 - val_accuracy: 0.6625\n",
      "Epoch 37/100\n",
      "7/7 [==============================] - 0s 5ms/step - loss: 0.6767 - accuracy: 0.5912 - val_loss: 0.6494 - val_accuracy: 0.6625\n",
      "Epoch 38/100\n",
      "7/7 [==============================] - 0s 5ms/step - loss: 0.6771 - accuracy: 0.5912 - val_loss: 0.6495 - val_accuracy: 0.6625\n",
      "Epoch 39/100\n",
      "7/7 [==============================] - 0s 4ms/step - loss: 0.6765 - accuracy: 0.5912 - val_loss: 0.6502 - val_accuracy: 0.6625\n",
      "Epoch 40/100\n",
      "7/7 [==============================] - 0s 5ms/step - loss: 0.6767 - accuracy: 0.5912 - val_loss: 0.6510 - val_accuracy: 0.6625\n",
      "Epoch 41/100\n",
      "7/7 [==============================] - 0s 5ms/step - loss: 0.6767 - accuracy: 0.5912 - val_loss: 0.6512 - val_accuracy: 0.6625\n",
      "Epoch 42/100\n",
      "7/7 [==============================] - 0s 5ms/step - loss: 0.6765 - accuracy: 0.5912 - val_loss: 0.6503 - val_accuracy: 0.6625\n",
      "Epoch 43/100\n",
      "7/7 [==============================] - 0s 5ms/step - loss: 0.6776 - accuracy: 0.5912 - val_loss: 0.6498 - val_accuracy: 0.6625\n",
      "Epoch 44/100\n",
      "7/7 [==============================] - 0s 5ms/step - loss: 0.6772 - accuracy: 0.5912 - val_loss: 0.6483 - val_accuracy: 0.6625\n",
      "Epoch 45/100\n",
      "7/7 [==============================] - 0s 5ms/step - loss: 0.6772 - accuracy: 0.5912 - val_loss: 0.6481 - val_accuracy: 0.6625\n",
      "Epoch 46/100\n",
      "7/7 [==============================] - 0s 4ms/step - loss: 0.6763 - accuracy: 0.5912 - val_loss: 0.6480 - val_accuracy: 0.6625\n",
      "Epoch 47/100\n",
      "7/7 [==============================] - 0s 5ms/step - loss: 0.6770 - accuracy: 0.5912 - val_loss: 0.6478 - val_accuracy: 0.6625\n",
      "Epoch 48/100\n",
      "7/7 [==============================] - 0s 5ms/step - loss: 0.6765 - accuracy: 0.5912 - val_loss: 0.6483 - val_accuracy: 0.6625\n",
      "Epoch 49/100\n",
      "7/7 [==============================] - 0s 5ms/step - loss: 0.6766 - accuracy: 0.5912 - val_loss: 0.6485 - val_accuracy: 0.6625\n",
      "Epoch 50/100\n",
      "7/7 [==============================] - 0s 5ms/step - loss: 0.6768 - accuracy: 0.5912 - val_loss: 0.6491 - val_accuracy: 0.6625\n",
      "Epoch 51/100\n",
      "7/7 [==============================] - 0s 5ms/step - loss: 0.6768 - accuracy: 0.5912 - val_loss: 0.6497 - val_accuracy: 0.6625\n",
      "Epoch 52/100\n",
      "7/7 [==============================] - 0s 4ms/step - loss: 0.6767 - accuracy: 0.5912 - val_loss: 0.6509 - val_accuracy: 0.6625\n",
      "Epoch 53/100\n",
      "7/7 [==============================] - 0s 4ms/step - loss: 0.6764 - accuracy: 0.5912 - val_loss: 0.6518 - val_accuracy: 0.6625\n",
      "Epoch 54/100\n",
      "7/7 [==============================] - 0s 4ms/step - loss: 0.6765 - accuracy: 0.5912 - val_loss: 0.6501 - val_accuracy: 0.6625\n",
      "Epoch 55/100\n",
      "7/7 [==============================] - 0s 5ms/step - loss: 0.6764 - accuracy: 0.5912 - val_loss: 0.6506 - val_accuracy: 0.6625\n",
      "Epoch 56/100\n",
      "7/7 [==============================] - 0s 5ms/step - loss: 0.6763 - accuracy: 0.5912 - val_loss: 0.6511 - val_accuracy: 0.6625\n",
      "Epoch 57/100\n",
      "7/7 [==============================] - 0s 5ms/step - loss: 0.6772 - accuracy: 0.5912 - val_loss: 0.6507 - val_accuracy: 0.6625\n",
      "Epoch 58/100\n",
      "7/7 [==============================] - 0s 4ms/step - loss: 0.6765 - accuracy: 0.5912 - val_loss: 0.6506 - val_accuracy: 0.6625\n",
      "Epoch 59/100\n",
      "7/7 [==============================] - 0s 4ms/step - loss: 0.6761 - accuracy: 0.5912 - val_loss: 0.6516 - val_accuracy: 0.6625\n",
      "Epoch 60/100\n",
      "7/7 [==============================] - 0s 5ms/step - loss: 0.6762 - accuracy: 0.5912 - val_loss: 0.6520 - val_accuracy: 0.6625\n",
      "Epoch 61/100\n",
      "7/7 [==============================] - 0s 5ms/step - loss: 0.6762 - accuracy: 0.5912 - val_loss: 0.6530 - val_accuracy: 0.6625\n",
      "Epoch 62/100\n",
      "7/7 [==============================] - 0s 5ms/step - loss: 0.6765 - accuracy: 0.5912 - val_loss: 0.6539 - val_accuracy: 0.6625\n",
      "Epoch 63/100\n",
      "7/7 [==============================] - 0s 5ms/step - loss: 0.6782 - accuracy: 0.5912 - val_loss: 0.6547 - val_accuracy: 0.6625\n",
      "Epoch 64/100\n",
      "7/7 [==============================] - 0s 5ms/step - loss: 0.6771 - accuracy: 0.5912 - val_loss: 0.6534 - val_accuracy: 0.6625\n",
      "Epoch 65/100\n",
      "7/7 [==============================] - 0s 5ms/step - loss: 0.6765 - accuracy: 0.5912 - val_loss: 0.6520 - val_accuracy: 0.6625\n",
      "Epoch 66/100\n",
      "7/7 [==============================] - 0s 5ms/step - loss: 0.6767 - accuracy: 0.5912 - val_loss: 0.6500 - val_accuracy: 0.6625\n",
      "Epoch 67/100\n",
      "7/7 [==============================] - 0s 5ms/step - loss: 0.6770 - accuracy: 0.5912 - val_loss: 0.6491 - val_accuracy: 0.6625\n",
      "Epoch 68/100\n",
      "7/7 [==============================] - 0s 5ms/step - loss: 0.6769 - accuracy: 0.5912 - val_loss: 0.6485 - val_accuracy: 0.6625\n",
      "Epoch 69/100\n",
      "7/7 [==============================] - 0s 5ms/step - loss: 0.6764 - accuracy: 0.5912 - val_loss: 0.6489 - val_accuracy: 0.6625\n",
      "Epoch 70/100\n",
      "7/7 [==============================] - 0s 4ms/step - loss: 0.6766 - accuracy: 0.5912 - val_loss: 0.6482 - val_accuracy: 0.6625\n",
      "Epoch 71/100\n",
      "7/7 [==============================] - 0s 5ms/step - loss: 0.6768 - accuracy: 0.5912 - val_loss: 0.6482 - val_accuracy: 0.6625\n",
      "Epoch 72/100\n",
      "7/7 [==============================] - 0s 4ms/step - loss: 0.6768 - accuracy: 0.5912 - val_loss: 0.6482 - val_accuracy: 0.6625\n",
      "Epoch 73/100\n",
      "7/7 [==============================] - 0s 7ms/step - loss: 0.6764 - accuracy: 0.5912 - val_loss: 0.6489 - val_accuracy: 0.6625\n",
      "Epoch 74/100\n",
      "7/7 [==============================] - 0s 5ms/step - loss: 0.6769 - accuracy: 0.5912 - val_loss: 0.6499 - val_accuracy: 0.6625\n",
      "Epoch 75/100\n",
      "7/7 [==============================] - 0s 5ms/step - loss: 0.6764 - accuracy: 0.5912 - val_loss: 0.6501 - val_accuracy: 0.6625\n",
      "Epoch 76/100\n",
      "7/7 [==============================] - 0s 5ms/step - loss: 0.6765 - accuracy: 0.5912 - val_loss: 0.6503 - val_accuracy: 0.6625\n",
      "Epoch 77/100\n",
      "7/7 [==============================] - 0s 5ms/step - loss: 0.6756 - accuracy: 0.5912 - val_loss: 0.6502 - val_accuracy: 0.6625\n",
      "Epoch 78/100\n",
      "7/7 [==============================] - 0s 4ms/step - loss: 0.6771 - accuracy: 0.5912 - val_loss: 0.6492 - val_accuracy: 0.6625\n",
      "Epoch 79/100\n",
      "7/7 [==============================] - 0s 5ms/step - loss: 0.6774 - accuracy: 0.5912 - val_loss: 0.6509 - val_accuracy: 0.6625\n",
      "Epoch 80/100\n",
      "7/7 [==============================] - 0s 4ms/step - loss: 0.6768 - accuracy: 0.5912 - val_loss: 0.6510 - val_accuracy: 0.6625\n",
      "Epoch 81/100\n",
      "7/7 [==============================] - 0s 4ms/step - loss: 0.6770 - accuracy: 0.5912 - val_loss: 0.6517 - val_accuracy: 0.6625\n",
      "Epoch 82/100\n",
      "7/7 [==============================] - 0s 4ms/step - loss: 0.6769 - accuracy: 0.5912 - val_loss: 0.6512 - val_accuracy: 0.6625\n",
      "Epoch 83/100\n",
      "7/7 [==============================] - 0s 5ms/step - loss: 0.6766 - accuracy: 0.5912 - val_loss: 0.6510 - val_accuracy: 0.6625\n",
      "Epoch 84/100\n",
      "7/7 [==============================] - 0s 5ms/step - loss: 0.6767 - accuracy: 0.5912 - val_loss: 0.6506 - val_accuracy: 0.6625\n",
      "Epoch 85/100\n",
      "7/7 [==============================] - 0s 5ms/step - loss: 0.6764 - accuracy: 0.5912 - val_loss: 0.6514 - val_accuracy: 0.6625\n",
      "Epoch 86/100\n",
      "7/7 [==============================] - 0s 5ms/step - loss: 0.6767 - accuracy: 0.5912 - val_loss: 0.6521 - val_accuracy: 0.6625\n",
      "Epoch 87/100\n",
      "7/7 [==============================] - 0s 5ms/step - loss: 0.6764 - accuracy: 0.5912 - val_loss: 0.6526 - val_accuracy: 0.6625\n",
      "Epoch 88/100\n",
      "7/7 [==============================] - 0s 5ms/step - loss: 0.6770 - accuracy: 0.5912 - val_loss: 0.6516 - val_accuracy: 0.6625\n",
      "Epoch 89/100\n",
      "7/7 [==============================] - 0s 4ms/step - loss: 0.6766 - accuracy: 0.5912 - val_loss: 0.6524 - val_accuracy: 0.6625\n",
      "Epoch 90/100\n",
      "7/7 [==============================] - 0s 5ms/step - loss: 0.6768 - accuracy: 0.5912 - val_loss: 0.6518 - val_accuracy: 0.6625\n",
      "Epoch 91/100\n",
      "7/7 [==============================] - 0s 5ms/step - loss: 0.6773 - accuracy: 0.5912 - val_loss: 0.6515 - val_accuracy: 0.6625\n",
      "Epoch 92/100\n",
      "7/7 [==============================] - 0s 5ms/step - loss: 0.6768 - accuracy: 0.5912 - val_loss: 0.6518 - val_accuracy: 0.6625\n",
      "Epoch 93/100\n",
      "7/7 [==============================] - 0s 5ms/step - loss: 0.6766 - accuracy: 0.5912 - val_loss: 0.6513 - val_accuracy: 0.6625\n",
      "Epoch 94/100\n",
      "7/7 [==============================] - 0s 4ms/step - loss: 0.6763 - accuracy: 0.5912 - val_loss: 0.6503 - val_accuracy: 0.6625\n",
      "Epoch 95/100\n",
      "7/7 [==============================] - 0s 5ms/step - loss: 0.6766 - accuracy: 0.5912 - val_loss: 0.6499 - val_accuracy: 0.6625\n",
      "Epoch 96/100\n",
      "7/7 [==============================] - 0s 6ms/step - loss: 0.6763 - accuracy: 0.5912 - val_loss: 0.6502 - val_accuracy: 0.6625\n",
      "Epoch 97/100\n",
      "7/7 [==============================] - 0s 4ms/step - loss: 0.6758 - accuracy: 0.5912 - val_loss: 0.6494 - val_accuracy: 0.6625\n",
      "Epoch 98/100\n",
      "7/7 [==============================] - 0s 5ms/step - loss: 0.6763 - accuracy: 0.5912 - val_loss: 0.6492 - val_accuracy: 0.6625\n",
      "Epoch 99/100\n",
      "7/7 [==============================] - 0s 5ms/step - loss: 0.6775 - accuracy: 0.5912 - val_loss: 0.6487 - val_accuracy: 0.6625\n",
      "Epoch 100/100\n",
      "7/7 [==============================] - 0s 5ms/step - loss: 0.6765 - accuracy: 0.5912 - val_loss: 0.6484 - val_accuracy: 0.6625\n"
     ]
    }
   ],
   "source": [
    "history = model.fit(X_train, y_train, batch_size = 50, epochs = 100, validation_split = 0.2, verbose = 1)"
   ]
  },
  {
   "cell_type": "code",
   "execution_count": 72,
   "id": "21aa6672",
   "metadata": {},
   "outputs": [],
   "source": [
    "import matplotlib.pyplot as plt"
   ]
  },
  {
   "cell_type": "code",
   "execution_count": 73,
   "id": "d0ec745e",
   "metadata": {},
   "outputs": [
    {
     "data": {
      "image/png": "[encoded data removed]",
      "text/plain": [
       "<Figure size 432x288 with 1 Axes>"
      ]
     },
     "metadata": {
      "needs_background": "light"
     },
     "output_type": "display_data"
    }
   ],
   "source": [
    "plt.plot(history.history['loss'])\n",
    "plt.plot(history.history['accuracy'])\n",
    "plt.title('Model accuracy')\n",
    "plt.ylabel('Accuracy / Loss')\n",
    "plt.xlabel('Epoch')\n",
    "plt.legend(['Loss', 'Test Accuracy'], loc='upper right')\n",
    "plt.show()"
   ]
  },
  {
   "cell_type": "code",
   "execution_count": 74,
   "id": "a010597d",
   "metadata": {},
   "outputs": [
    {
     "name": "stdout",
     "output_type": "stream",
     "text": [
      "6/6 [==============================] - 0s 2ms/step - loss: 0.6421 - accuracy: 0.6784\n",
      "loss: 0.6421257257461548\n",
      "accuracy: 0.6783625483512878\n"
     ]
    }
   ],
   "source": [
    "results = model.evaluate(X_test, y_test)\n",
    "print('loss:', results[0])\n",
    "print('accuracy:', results[1])"
   ]
  },
  {
   "cell_type": "code",
   "execution_count": null,
   "id": "4e816b45",
   "metadata": {},
   "outputs": [],
   "source": []
  }
 ],
 "metadata": {
  "kernelspec": {
   "display_name": "Python 3",
   "language": "python",
   "name": "python3"
  },
  "language_info": {
   "codemirror_mode": {
    "name": "ipython",
    "version": 3
   },
   "file_extension": ".py",
   "mimetype": "text/x-python",
   "name": "python",
   "nbconvert_exporter": "python",
   "pygments_lexer": "ipython3",
   "version": "3.8.8"
  }
 },
 "nbformat": 4,
 "nbformat_minor": 5
}
