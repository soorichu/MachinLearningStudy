{
 "cells": [
  {
   "cell_type": "markdown",
   "id": "3a99cfdf",
   "metadata": {},
   "source": [
    "# Y-Network\n",
    "\n",
    "- 2 inputs + 1 output\n",
    "- Double filters\n",
    "    - 양쪽 branch의 Conv2D 때 filter의 수를 32->64->128로 doubling\n",
    "    - MaxPooling 때 앞의 두 axis 방향의 크기가 반으로 줄어드는 것을 보완\n",
    "    - (28, 28, 32) -> Conv2D.MaxPooling -> (14, 14, 64) -> Conv2D.MaxPooling -> (7, 7, 128)\n",
    "- Concatenate layer(merge option)\n",
    "    - 두 branch 결과를 마지막 axis 방향으로 stacking\n",
    "    - 두 개의 tensor of shape (7, 7 128)을 concatenating하면 결과는 (7, 7, 256)\n",
    "- Dilation rate = 2\n",
    "    - 오른쪽 branch에만 dilation rate = 2를 이용\n",
    "    - kernel 값들을 한 pixel 씩 띄우고, 중간의 filter 값은 0으로 함. "
   ]
  },
  {
   "cell_type": "code",
   "execution_count": 1,
   "id": "090d6172",
   "metadata": {},
   "outputs": [],
   "source": [
    "import numpy as np\n",
    "import matplotlib.pyplot as plt\n",
    "from tensorflow.keras.layers import Dense, Dropout, Input\n",
    "from tensorflow.keras.layers import Conv2D, MaxPooling2D, Flatten\n",
    "from tensorflow.keras.layers import concatenate\n",
    "from tensorflow.keras.models import Model\n",
    "from tensorflow.keras.datasets import mnist\n",
    "from tensorflow.keras.utils import to_categorical\n",
    "from tensorflow.keras.utils import plot_model"
   ]
  },
  {
   "cell_type": "code",
   "execution_count": 2,
   "id": "55975126",
   "metadata": {},
   "outputs": [],
   "source": [
    "(x_train, y_train), (x_test, y_test) = mnist.load_data()"
   ]
  },
  {
   "cell_type": "code",
   "execution_count": 3,
   "id": "ecc33fd2",
   "metadata": {},
   "outputs": [],
   "source": [
    "num_labels = len(np.unique(y_train))\n",
    "y_train = to_categorical(y_train)\n",
    "y_test = to_categorical(y_test)"
   ]
  },
  {
   "cell_type": "code",
   "execution_count": 4,
   "id": "cc09bcc2",
   "metadata": {},
   "outputs": [],
   "source": [
    "image_size = x_train.shape[1]\n",
    "x_train = np.reshape(x_train, [-1, image_size, image_size, 1])\n",
    "x_test = np.reshape(x_test, [-1, image_size, image_size, 1])\n",
    "x_train = x_train.astype('float32') / 255\n",
    "x_test = x_test.astype('float32') / 255"
   ]
  },
  {
   "cell_type": "code",
   "execution_count": 7,
   "id": "882a27ef",
   "metadata": {},
   "outputs": [],
   "source": [
    "input_shape = (image_size, image_size, 1)\n",
    "batch_size = 32\n",
    "kernel_size = 3\n",
    "dropout = 0.4\n",
    "n_filters = 32"
   ]
  },
  {
   "cell_type": "code",
   "execution_count": 8,
   "id": "fbc4c7bf",
   "metadata": {},
   "outputs": [],
   "source": [
    "left_inputs = Input(shape=input_shape)\n",
    "x = left_inputs\n",
    "filters = n_filters\n",
    "for i in range(3):\n",
    "    x = Conv2D(filters=filters,\n",
    "               kernel_size=kernel_size,\n",
    "               padding='same',\n",
    "               activation='relu')(x)\n",
    "    x = Dropout(dropout)(x)\n",
    "    x = MaxPooling2D()(x)\n",
    "    filters *= 2  # 32 -> 64 -> 128"
   ]
  },
  {
   "cell_type": "code",
   "execution_count": 9,
   "id": "7a2b25d8",
   "metadata": {},
   "outputs": [],
   "source": [
    "right_inputs = Input(shape=input_shape)\n",
    "y = right_inputs\n",
    "filters = n_filters\n",
    "for i in range(3):\n",
    "    y = Conv2D(filters=filters,\n",
    "               kernel_size=kernel_size,\n",
    "               padding='same',\n",
    "               activation='relu')(y)\n",
    "    y = Dropout(dropout)(y)\n",
    "    y = MaxPooling2D()(y)\n",
    "    filters *= 2  # 32 -> 64 -> 128"
   ]
  },
  {
   "cell_type": "code",
   "execution_count": 11,
   "id": "4ef973ba",
   "metadata": {},
   "outputs": [],
   "source": [
    "y = concatenate([x, y])\n",
    "# merge : Multiply, Average, Maximum, Minimum, Concatenate, Dot\n",
    "y = Flatten()(y)\n",
    "y = Dropout(dropout)(y)\n",
    "outputs = Dense(num_labels, activation='softmax')(y)"
   ]
  },
  {
   "cell_type": "code",
   "execution_count": 13,
   "id": "1f3a192c",
   "metadata": {},
   "outputs": [
    {
     "name": "stdout",
     "output_type": "stream",
     "text": [
      "Model: \"model_1\"\n",
      "__________________________________________________________________________________________________\n",
      "Layer (type)                    Output Shape         Param #     Connected to                     \n",
      "==================================================================================================\n",
      "input_1 (InputLayer)            [(None, 28, 28, 1)]  0                                            \n",
      "__________________________________________________________________________________________________\n",
      "input_2 (InputLayer)            [(None, 28, 28, 1)]  0                                            \n",
      "__________________________________________________________________________________________________\n",
      "conv2d (Conv2D)                 (None, 28, 28, 32)   320         input_1[0][0]                    \n",
      "__________________________________________________________________________________________________\n",
      "conv2d_3 (Conv2D)               (None, 28, 28, 32)   320         input_2[0][0]                    \n",
      "__________________________________________________________________________________________________\n",
      "dropout (Dropout)               (None, 28, 28, 32)   0           conv2d[0][0]                     \n",
      "__________________________________________________________________________________________________\n",
      "dropout_3 (Dropout)             (None, 28, 28, 32)   0           conv2d_3[0][0]                   \n",
      "__________________________________________________________________________________________________\n",
      "max_pooling2d (MaxPooling2D)    (None, 14, 14, 32)   0           dropout[0][0]                    \n",
      "__________________________________________________________________________________________________\n",
      "max_pooling2d_3 (MaxPooling2D)  (None, 14, 14, 32)   0           dropout_3[0][0]                  \n",
      "__________________________________________________________________________________________________\n",
      "conv2d_1 (Conv2D)               (None, 14, 14, 64)   18496       max_pooling2d[0][0]              \n",
      "__________________________________________________________________________________________________\n",
      "conv2d_4 (Conv2D)               (None, 14, 14, 64)   18496       max_pooling2d_3[0][0]            \n",
      "__________________________________________________________________________________________________\n",
      "dropout_1 (Dropout)             (None, 14, 14, 64)   0           conv2d_1[0][0]                   \n",
      "__________________________________________________________________________________________________\n",
      "dropout_4 (Dropout)             (None, 14, 14, 64)   0           conv2d_4[0][0]                   \n",
      "__________________________________________________________________________________________________\n",
      "max_pooling2d_1 (MaxPooling2D)  (None, 7, 7, 64)     0           dropout_1[0][0]                  \n",
      "__________________________________________________________________________________________________\n",
      "max_pooling2d_4 (MaxPooling2D)  (None, 7, 7, 64)     0           dropout_4[0][0]                  \n",
      "__________________________________________________________________________________________________\n",
      "conv2d_2 (Conv2D)               (None, 7, 7, 128)    73856       max_pooling2d_1[0][0]            \n",
      "__________________________________________________________________________________________________\n",
      "conv2d_5 (Conv2D)               (None, 7, 7, 128)    73856       max_pooling2d_4[0][0]            \n",
      "__________________________________________________________________________________________________\n",
      "dropout_2 (Dropout)             (None, 7, 7, 128)    0           conv2d_2[0][0]                   \n",
      "__________________________________________________________________________________________________\n",
      "dropout_5 (Dropout)             (None, 7, 7, 128)    0           conv2d_5[0][0]                   \n",
      "__________________________________________________________________________________________________\n",
      "max_pooling2d_2 (MaxPooling2D)  (None, 3, 3, 128)    0           dropout_2[0][0]                  \n",
      "__________________________________________________________________________________________________\n",
      "max_pooling2d_5 (MaxPooling2D)  (None, 3, 3, 128)    0           dropout_5[0][0]                  \n",
      "__________________________________________________________________________________________________\n",
      "concatenate (Concatenate)       (None, 3, 3, 256)    0           max_pooling2d_2[0][0]            \n",
      "                                                                 max_pooling2d_5[0][0]            \n",
      "__________________________________________________________________________________________________\n",
      "concatenate_1 (Concatenate)     (None, 3, 3, 384)    0           max_pooling2d_2[0][0]            \n",
      "                                                                 concatenate[0][0]                \n",
      "__________________________________________________________________________________________________\n",
      "flatten_1 (Flatten)             (None, 3456)         0           concatenate_1[0][0]              \n",
      "__________________________________________________________________________________________________\n",
      "dropout_6 (Dropout)             (None, 3456)         0           flatten_1[0][0]                  \n",
      "__________________________________________________________________________________________________\n",
      "dense (Dense)                   (None, 10)           34570       dropout_6[0][0]                  \n",
      "==================================================================================================\n",
      "Total params: 219,914\n",
      "Trainable params: 219,914\n",
      "Non-trainable params: 0\n",
      "__________________________________________________________________________________________________\n"
     ]
    }
   ],
   "source": [
    "model = Model([left_inputs, right_inputs], outputs)\n",
    "model.summary()"
   ]
  },
  {
   "cell_type": "code",
   "execution_count": 14,
   "id": "bfe595cd",
   "metadata": {},
   "outputs": [],
   "source": [
    "model.compile(loss='categorical_crossentropy', optimizer = 'adam', metrics=['accuracy'])"
   ]
  },
  {
   "cell_type": "code",
   "execution_count": 16,
   "id": "0bdc33a1",
   "metadata": {},
   "outputs": [
    {
     "name": "stdout",
     "output_type": "stream",
     "text": [
      "Epoch 1/10\n",
      "1875/1875 [==============================] - 251s 134ms/step - loss: 0.1629 - accuracy: 0.9487 - val_loss: 0.1157 - val_accuracy: 0.9876\n",
      "Epoch 2/10\n",
      "1875/1875 [==============================] - 265s 141ms/step - loss: 0.0649 - accuracy: 0.9798 - val_loss: 0.0624 - val_accuracy: 0.9901\n",
      "Epoch 3/10\n",
      "1875/1875 [==============================] - 262s 140ms/step - loss: 0.0542 - accuracy: 0.9829 - val_loss: 0.0755 - val_accuracy: 0.9907\n",
      "Epoch 4/10\n",
      "1875/1875 [==============================] - 245s 131ms/step - loss: 0.0474 - accuracy: 0.9853 - val_loss: 0.0530 - val_accuracy: 0.9919\n",
      "Epoch 5/10\n",
      "1875/1875 [==============================] - 234s 125ms/step - loss: 0.0440 - accuracy: 0.9862 - val_loss: 0.0527 - val_accuracy: 0.9920\n",
      "Epoch 6/10\n",
      "1875/1875 [==============================] - 228s 122ms/step - loss: 0.0410 - accuracy: 0.9874 - val_loss: 0.0533 - val_accuracy: 0.9901\n",
      "Epoch 7/10\n",
      "1875/1875 [==============================] - 220s 117ms/step - loss: 0.0405 - accuracy: 0.9878 - val_loss: 0.0506 - val_accuracy: 0.9926\n",
      "Epoch 8/10\n",
      "1875/1875 [==============================] - 209s 112ms/step - loss: 0.0377 - accuracy: 0.9882 - val_loss: 0.0349 - val_accuracy: 0.9929\n",
      "Epoch 9/10\n",
      "1875/1875 [==============================] - 205s 109ms/step - loss: 0.0358 - accuracy: 0.9894 - val_loss: 0.0391 - val_accuracy: 0.9935\n",
      "Epoch 10/10\n",
      "1875/1875 [==============================] - 195s 104ms/step - loss: 0.0377 - accuracy: 0.9883 - val_loss: 0.0336 - val_accuracy: 0.9928\n"
     ]
    }
   ],
   "source": [
    "history = model.fit([x_train, x_train], y_train, validation_data=([x_test, x_test], y_test), \n",
    "                   epochs=10, batch_size = batch_size)"
   ]
  },
  {
   "cell_type": "code",
   "execution_count": 18,
   "id": "38555b9d",
   "metadata": {},
   "outputs": [
    {
     "data": {
      "image/png": "[encoded data removed]",
      "text/plain": [
       "<Figure size 432x288 with 1 Axes>"
      ]
     },
     "metadata": {
      "needs_background": "light"
     },
     "output_type": "display_data"
    }
   ],
   "source": [
    "plt.plot(history.history['accuracy'])\n",
    "plt.plot(history.history['val_accuracy'])\n",
    "plt.legend(['training', 'validation'], loc = 'upper left')\n",
    "plt.show()"
   ]
  },
  {
   "cell_type": "code",
   "execution_count": 19,
   "id": "74149ce5",
   "metadata": {},
   "outputs": [
    {
     "name": "stdout",
     "output_type": "stream",
     "text": [
      "313/313 [==============================] - 5s 16ms/step - loss: 0.0336 - accuracy: 0.9928\n",
      "\n",
      "Test accuracy: 99.3%\n"
     ]
    }
   ],
   "source": [
    "score = model.evaluate([x_test, x_test], y_test, batch_size=batch_size)\n",
    "print(\"\\nTest accuracy: %.1f%%\" % (100.0 * score[1]))"
   ]
  },
  {
   "cell_type": "code",
   "execution_count": null,
   "id": "25c17146",
   "metadata": {},
   "outputs": [],
   "source": []
  }
 ],
 "metadata": {
  "kernelspec": {
   "display_name": "Python 3",
   "language": "python",
   "name": "python3"
  },
  "language_info": {
   "codemirror_mode": {
    "name": "ipython",
    "version": 3
   },
   "file_extension": ".py",
   "mimetype": "text/x-python",
   "name": "python",
   "nbconvert_exporter": "python",
   "pygments_lexer": "ipython3",
   "version": "3.8.8"
  }
 },
 "nbformat": 4,
 "nbformat_minor": 5
}
