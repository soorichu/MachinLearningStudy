{
 "cells": [
  {
   "cell_type": "code",
   "execution_count": 1,
   "id": "cb0d56db",
   "metadata": {},
   "outputs": [],
   "source": [
    "import numpy as np\n",
    "import matplotlib.pyplot as plt\n",
    "from sklearn.metrics import accuracy_score\n",
    "from tensorflow.keras.datasets import reuters\n",
    "from tensorflow.keras.preprocessing.sequence import pad_sequences\n",
    "from tensorflow.keras.utils import to_categorical, plot_model"
   ]
  },
  {
   "cell_type": "code",
   "execution_count": 2,
   "id": "135cda24",
   "metadata": {},
   "outputs": [],
   "source": [
    "# parameters for data load\n",
    "num_words = 30000\n",
    "maxlen = 50\n",
    "test_split = 0.3"
   ]
  },
  {
   "cell_type": "code",
   "execution_count": 3,
   "id": "fc3ac5f3",
   "metadata": {},
   "outputs": [
    {
     "name": "stdout",
     "output_type": "stream",
     "text": [
      "Downloading data from https://storage.googleapis.com/tensorflow/tf-keras-datasets/reuters.npz\n",
      "2113536/2110848 [==============================] - 0s 0us/step\n",
      "(1395,) (1395,) (599,) (599,)\n"
     ]
    },
    {
     "name": "stderr",
     "output_type": "stream",
     "text": [
      "D:\\Program Files\\anaconda3\\lib\\site-packages\\tensorflow\\python\\keras\\datasets\\reuters.py:143: VisibleDeprecationWarning: Creating an ndarray from ragged nested sequences (which is a list-or-tuple of lists-or-tuples-or ndarrays with different lengths or shapes) is deprecated. If you meant to do this, you must specify 'dtype=object' when creating the ndarray\n",
      "  x_train, y_train = np.array(xs[:idx]), np.array(labels[:idx])\n",
      "D:\\Program Files\\anaconda3\\lib\\site-packages\\tensorflow\\python\\keras\\datasets\\reuters.py:144: VisibleDeprecationWarning: Creating an ndarray from ragged nested sequences (which is a list-or-tuple of lists-or-tuples-or ndarrays with different lengths or shapes) is deprecated. If you meant to do this, you must specify 'dtype=object' when creating the ndarray\n",
      "  x_test, y_test = np.array(xs[idx:]), np.array(labels[idx:])\n"
     ]
    }
   ],
   "source": [
    "(X_train, y_train), (X_test, y_test) = reuters.load_data(num_words = num_words, maxlen = maxlen, test_split = test_split)\n",
    "print(X_train.shape, y_train.shape, X_test.shape, y_test.shape)"
   ]
  },
  {
   "cell_type": "code",
   "execution_count": 5,
   "id": "92bb1b22",
   "metadata": {},
   "outputs": [
    {
     "name": "stdout",
     "output_type": "stream",
     "text": [
      "(1395, 49) (1395, 49)\n"
     ]
    }
   ],
   "source": [
    "# post : 50개의 단어가 되지 않은 sequence는 뒤쪽을 0으로 채움. 이걸 붙이지 않으면 앞쪽으로 0이 채워짐. \n",
    "X_train = pad_sequences(X_train, padding=\"post\")\n",
    "X_test = pad_sequences(X_train, padding=\"post\")\n",
    "print(X_train.shape, X_test.shape)"
   ]
  },
  {
   "cell_type": "code",
   "execution_count": 7,
   "id": "ed71226e",
   "metadata": {},
   "outputs": [
    {
     "name": "stdout",
     "output_type": "stream",
     "text": [
      "(1395, 49, 1) (1395, 49, 1)\n"
     ]
    }
   ],
   "source": [
    "X_train = np.array(X_train).reshape((X_train.shape[0], X_train.shape[1], 1))\n",
    "X_test = np.array(X_test).reshape((X_test.shape[0], X_test.shape[1], 1))\n",
    "print(X_train.shape, X_test.shape)"
   ]
  },
  {
   "cell_type": "code",
   "execution_count": 9,
   "id": "e27fd664",
   "metadata": {},
   "outputs": [
    {
     "name": "stdout",
     "output_type": "stream",
     "text": [
      "(1994, 46)\n"
     ]
    }
   ],
   "source": [
    "y_data = np.concatenate((y_train, y_test))\n",
    "y_data = to_categorical(y_data)\n",
    "print(y_data.shape)"
   ]
  },
  {
   "cell_type": "code",
   "execution_count": 23,
   "id": "ef2fed32",
   "metadata": {},
   "outputs": [
    {
     "name": "stdout",
     "output_type": "stream",
     "text": [
      "(1395, 46) (1395, 46)\n"
     ]
    }
   ],
   "source": [
    "y_train = y_data[:1395]\n",
    "y_test = y_data[:1395]\n",
    "print(y_train.shape, y_test.shape)"
   ]
  },
  {
   "cell_type": "code",
   "execution_count": 11,
   "id": "6045c901",
   "metadata": {},
   "outputs": [],
   "source": [
    "from tensorflow.keras.models import Sequential\n",
    "from tensorflow.keras.layers import Dense, SimpleRNN, Activation\n",
    "from tensorflow.keras import optimizers\n",
    "from tensorflow.keras.wrappers.scikit_learn import KerasClassifier"
   ]
  },
  {
   "cell_type": "code",
   "execution_count": 14,
   "id": "7008e057",
   "metadata": {},
   "outputs": [],
   "source": [
    "def vanilla_rnn():\n",
    "    model = Sequential()\n",
    "    model.add(SimpleRNN(50, input_shape=(49, 1), return_sequences = False))\n",
    "    model.add(Dense(46))\n",
    "    model.add(Activation('softmax'))\n",
    "    adam = optimizers.Adam(learning_rate=0.001)\n",
    "    model.compile(loss=\"categorical_crossentropy\", optimizer=adam, metrics=['accuracy'])\n",
    "    \n",
    "    return model"
   ]
  },
  {
   "cell_type": "code",
   "execution_count": 15,
   "id": "e9c5dd8c",
   "metadata": {},
   "outputs": [
    {
     "name": "stdout",
     "output_type": "stream",
     "text": [
      "Model: \"sequential_1\"\n",
      "_________________________________________________________________\n",
      "Layer (type)                 Output Shape              Param #   \n",
      "=================================================================\n",
      "simple_rnn_1 (SimpleRNN)     (None, 50)                2600      \n",
      "_________________________________________________________________\n",
      "dense_1 (Dense)              (None, 46)                2346      \n",
      "_________________________________________________________________\n",
      "activation (Activation)      (None, 46)                0         \n",
      "=================================================================\n",
      "Total params: 4,946\n",
      "Trainable params: 4,946\n",
      "Non-trainable params: 0\n",
      "_________________________________________________________________\n"
     ]
    }
   ],
   "source": [
    "model = vanilla_rnn()\n",
    "model.summary()"
   ]
  },
  {
   "cell_type": "code",
   "execution_count": 16,
   "id": "b3ab35c1",
   "metadata": {},
   "outputs": [
    {
     "name": "stdout",
     "output_type": "stream",
     "text": [
      "Epoch 1/100\n",
      "23/23 [==============================] - 2s 28ms/step - loss: 2.8168 - accuracy: 0.5565 - val_loss: 1.7312 - val_accuracy: 0.7240\n",
      "Epoch 2/100\n",
      "23/23 [==============================] - 0s 12ms/step - loss: 1.4800 - accuracy: 0.7124 - val_loss: 1.2272 - val_accuracy: 0.7240\n",
      "Epoch 3/100\n",
      "23/23 [==============================] - 0s 13ms/step - loss: 1.2457 - accuracy: 0.7124 - val_loss: 1.1409 - val_accuracy: 0.7240\n",
      "Epoch 4/100\n",
      "23/23 [==============================] - 0s 13ms/step - loss: 1.1987 - accuracy: 0.7124 - val_loss: 1.1199 - val_accuracy: 0.7240\n",
      "Epoch 5/100\n",
      "23/23 [==============================] - 0s 11ms/step - loss: 1.1863 - accuracy: 0.7124 - val_loss: 1.1138 - val_accuracy: 0.7240\n",
      "Epoch 6/100\n",
      "23/23 [==============================] - 0s 13ms/step - loss: 1.1785 - accuracy: 0.7124 - val_loss: 1.1080 - val_accuracy: 0.7240\n",
      "Epoch 7/100\n",
      "23/23 [==============================] - 0s 13ms/step - loss: 1.1744 - accuracy: 0.7124 - val_loss: 1.1057 - val_accuracy: 0.7240\n",
      "Epoch 8/100\n",
      "23/23 [==============================] - 0s 18ms/step - loss: 1.1718 - accuracy: 0.7124 - val_loss: 1.1055 - val_accuracy: 0.7240\n",
      "Epoch 9/100\n",
      "23/23 [==============================] - 0s 14ms/step - loss: 1.1711 - accuracy: 0.7124 - val_loss: 1.1045 - val_accuracy: 0.7240\n",
      "Epoch 10/100\n",
      "23/23 [==============================] - 0s 14ms/step - loss: 1.1658 - accuracy: 0.7124 - val_loss: 1.1029 - val_accuracy: 0.7240\n",
      "Epoch 11/100\n",
      "23/23 [==============================] - 0s 12ms/step - loss: 1.1657 - accuracy: 0.7124 - val_loss: 1.1031 - val_accuracy: 0.7240\n",
      "Epoch 12/100\n",
      "23/23 [==============================] - 0s 12ms/step - loss: 1.1638 - accuracy: 0.7124 - val_loss: 1.1014 - val_accuracy: 0.7240\n",
      "Epoch 13/100\n",
      "23/23 [==============================] - 0s 15ms/step - loss: 1.1632 - accuracy: 0.7124 - val_loss: 1.1007 - val_accuracy: 0.7240\n",
      "Epoch 14/100\n",
      "23/23 [==============================] - 0s 13ms/step - loss: 1.1597 - accuracy: 0.7133 - val_loss: 1.1015 - val_accuracy: 0.7276\n",
      "Epoch 15/100\n",
      "23/23 [==============================] - 0s 13ms/step - loss: 1.1617 - accuracy: 0.7124 - val_loss: 1.1014 - val_accuracy: 0.7276\n",
      "Epoch 16/100\n",
      "23/23 [==============================] - 0s 11ms/step - loss: 1.1590 - accuracy: 0.7133 - val_loss: 1.1020 - val_accuracy: 0.7240\n",
      "Epoch 17/100\n",
      "23/23 [==============================] - 0s 12ms/step - loss: 1.1556 - accuracy: 0.7151 - val_loss: 1.0993 - val_accuracy: 0.7240\n",
      "Epoch 18/100\n",
      "23/23 [==============================] - 0s 16ms/step - loss: 1.1555 - accuracy: 0.7124 - val_loss: 1.0997 - val_accuracy: 0.7312\n",
      "Epoch 19/100\n",
      "23/23 [==============================] - 0s 13ms/step - loss: 1.1536 - accuracy: 0.7142 - val_loss: 1.0976 - val_accuracy: 0.7276\n",
      "Epoch 20/100\n",
      "23/23 [==============================] - 0s 12ms/step - loss: 1.1522 - accuracy: 0.7151 - val_loss: 1.1012 - val_accuracy: 0.7204\n",
      "Epoch 21/100\n",
      "23/23 [==============================] - 0s 11ms/step - loss: 1.1504 - accuracy: 0.7151 - val_loss: 1.0979 - val_accuracy: 0.7276\n",
      "Epoch 22/100\n",
      "23/23 [==============================] - 0s 12ms/step - loss: 1.1511 - accuracy: 0.7151 - val_loss: 1.0972 - val_accuracy: 0.7240\n",
      "Epoch 23/100\n",
      "23/23 [==============================] - 0s 10ms/step - loss: 1.1506 - accuracy: 0.7142 - val_loss: 1.1004 - val_accuracy: 0.7276\n",
      "Epoch 24/100\n",
      "23/23 [==============================] - 0s 9ms/step - loss: 1.1512 - accuracy: 0.7151 - val_loss: 1.0984 - val_accuracy: 0.7204\n",
      "Epoch 25/100\n",
      "23/23 [==============================] - 0s 9ms/step - loss: 1.1479 - accuracy: 0.7142 - val_loss: 1.0960 - val_accuracy: 0.7276\n",
      "Epoch 26/100\n",
      "23/23 [==============================] - 0s 10ms/step - loss: 1.1451 - accuracy: 0.7151 - val_loss: 1.1026 - val_accuracy: 0.7240\n",
      "Epoch 27/100\n",
      "23/23 [==============================] - 0s 9ms/step - loss: 1.1489 - accuracy: 0.7151 - val_loss: 1.0999 - val_accuracy: 0.7204\n",
      "Epoch 28/100\n",
      "23/23 [==============================] - 0s 10ms/step - loss: 1.1441 - accuracy: 0.7151 - val_loss: 1.0977 - val_accuracy: 0.7240\n",
      "Epoch 29/100\n",
      "23/23 [==============================] - 0s 10ms/step - loss: 1.1428 - accuracy: 0.7151 - val_loss: 1.0977 - val_accuracy: 0.7276\n",
      "Epoch 30/100\n",
      "23/23 [==============================] - 0s 9ms/step - loss: 1.1433 - accuracy: 0.7151 - val_loss: 1.0987 - val_accuracy: 0.7240\n",
      "Epoch 31/100\n",
      "23/23 [==============================] - 0s 11ms/step - loss: 1.1425 - accuracy: 0.7151 - val_loss: 1.0986 - val_accuracy: 0.7276\n",
      "Epoch 32/100\n",
      "23/23 [==============================] - 0s 11ms/step - loss: 1.1405 - accuracy: 0.7151 - val_loss: 1.1009 - val_accuracy: 0.7204\n",
      "Epoch 33/100\n",
      "23/23 [==============================] - 0s 13ms/step - loss: 1.1398 - accuracy: 0.7151 - val_loss: 1.0990 - val_accuracy: 0.7240\n",
      "Epoch 34/100\n",
      "23/23 [==============================] - 0s 14ms/step - loss: 1.1380 - accuracy: 0.7142 - val_loss: 1.0993 - val_accuracy: 0.7276\n",
      "Epoch 35/100\n",
      "23/23 [==============================] - 0s 10ms/step - loss: 1.1390 - accuracy: 0.7142 - val_loss: 1.0981 - val_accuracy: 0.7276\n",
      "Epoch 36/100\n",
      "23/23 [==============================] - 0s 11ms/step - loss: 1.1322 - accuracy: 0.7142 - val_loss: 1.0976 - val_accuracy: 0.7312\n",
      "Epoch 37/100\n",
      "23/23 [==============================] - 0s 9ms/step - loss: 1.1277 - accuracy: 0.7151 - val_loss: 1.0917 - val_accuracy: 0.7276\n",
      "Epoch 38/100\n",
      "23/23 [==============================] - 0s 9ms/step - loss: 1.1335 - accuracy: 0.7168 - val_loss: 1.1033 - val_accuracy: 0.7240\n",
      "Epoch 39/100\n",
      "23/23 [==============================] - 0s 8ms/step - loss: 1.1373 - accuracy: 0.7142 - val_loss: 1.0966 - val_accuracy: 0.7240\n",
      "Epoch 40/100\n",
      "23/23 [==============================] - 0s 8ms/step - loss: 1.1327 - accuracy: 0.7159 - val_loss: 1.1056 - val_accuracy: 0.7276\n",
      "Epoch 41/100\n",
      "23/23 [==============================] - 0s 9ms/step - loss: 1.1320 - accuracy: 0.7168 - val_loss: 1.1035 - val_accuracy: 0.7240\n",
      "Epoch 42/100\n",
      "23/23 [==============================] - 0s 9ms/step - loss: 1.1291 - accuracy: 0.7151 - val_loss: 1.0976 - val_accuracy: 0.7240\n",
      "Epoch 43/100\n",
      "23/23 [==============================] - 0s 12ms/step - loss: 1.1243 - accuracy: 0.7133 - val_loss: 1.0949 - val_accuracy: 0.7240\n",
      "Epoch 44/100\n",
      "23/23 [==============================] - 0s 11ms/step - loss: 1.1231 - accuracy: 0.7151 - val_loss: 1.0936 - val_accuracy: 0.7276\n",
      "Epoch 45/100\n",
      "23/23 [==============================] - 0s 10ms/step - loss: 1.1107 - accuracy: 0.7151 - val_loss: 1.0958 - val_accuracy: 0.7276\n",
      "Epoch 46/100\n",
      "23/23 [==============================] - 0s 9ms/step - loss: 1.1192 - accuracy: 0.7151 - val_loss: 1.0874 - val_accuracy: 0.7276\n",
      "Epoch 47/100\n",
      "23/23 [==============================] - 0s 11ms/step - loss: 1.0967 - accuracy: 0.7159 - val_loss: 1.0847 - val_accuracy: 0.7276\n",
      "Epoch 48/100\n",
      "23/23 [==============================] - 0s 11ms/step - loss: 1.0935 - accuracy: 0.7168 - val_loss: 1.0573 - val_accuracy: 0.7276\n",
      "Epoch 49/100\n",
      "23/23 [==============================] - 0s 11ms/step - loss: 1.0728 - accuracy: 0.7142 - val_loss: 1.0565 - val_accuracy: 0.7276\n",
      "Epoch 50/100\n",
      "23/23 [==============================] - 0s 12ms/step - loss: 1.0637 - accuracy: 0.7204 - val_loss: 1.0333 - val_accuracy: 0.7384\n",
      "Epoch 51/100\n",
      "23/23 [==============================] - 0s 9ms/step - loss: 1.0285 - accuracy: 0.7159 - val_loss: 1.0509 - val_accuracy: 0.7240\n",
      "Epoch 52/100\n",
      "23/23 [==============================] - 0s 10ms/step - loss: 1.0277 - accuracy: 0.7231 - val_loss: 1.0163 - val_accuracy: 0.7419\n",
      "Epoch 53/100\n",
      "23/23 [==============================] - 0s 9ms/step - loss: 1.0271 - accuracy: 0.7159 - val_loss: 1.2116 - val_accuracy: 0.6738\n",
      "Epoch 54/100\n",
      "23/23 [==============================] - 0s 10ms/step - loss: 1.1344 - accuracy: 0.7025 - val_loss: 1.0817 - val_accuracy: 0.7276\n",
      "Epoch 55/100\n",
      "23/23 [==============================] - 0s 11ms/step - loss: 1.0654 - accuracy: 0.7151 - val_loss: 1.0304 - val_accuracy: 0.7276\n",
      "Epoch 56/100\n",
      "23/23 [==============================] - 0s 10ms/step - loss: 1.0195 - accuracy: 0.7168 - val_loss: 1.0379 - val_accuracy: 0.7348\n",
      "Epoch 57/100\n",
      "23/23 [==============================] - 0s 8ms/step - loss: 1.0144 - accuracy: 0.7088 - val_loss: 1.0306 - val_accuracy: 0.7384\n",
      "Epoch 58/100\n"
     ]
    },
    {
     "name": "stdout",
     "output_type": "stream",
     "text": [
      "23/23 [==============================] - 0s 8ms/step - loss: 1.0301 - accuracy: 0.7124 - val_loss: 1.0212 - val_accuracy: 0.7276\n",
      "Epoch 59/100\n",
      "23/23 [==============================] - 0s 10ms/step - loss: 0.9970 - accuracy: 0.7249 - val_loss: 1.0257 - val_accuracy: 0.7348\n",
      "Epoch 60/100\n",
      "23/23 [==============================] - 0s 9ms/step - loss: 0.9899 - accuracy: 0.7222 - val_loss: 1.0464 - val_accuracy: 0.6953\n",
      "Epoch 61/100\n",
      "23/23 [==============================] - 0s 9ms/step - loss: 0.9889 - accuracy: 0.7142 - val_loss: 1.0319 - val_accuracy: 0.7204\n",
      "Epoch 62/100\n",
      "23/23 [==============================] - 0s 10ms/step - loss: 0.9855 - accuracy: 0.7258 - val_loss: 1.0477 - val_accuracy: 0.7168\n",
      "Epoch 63/100\n",
      "23/23 [==============================] - 0s 9ms/step - loss: 1.0269 - accuracy: 0.7052 - val_loss: 1.0612 - val_accuracy: 0.7419\n",
      "Epoch 64/100\n",
      "23/23 [==============================] - 0s 9ms/step - loss: 1.0250 - accuracy: 0.7213 - val_loss: 1.0220 - val_accuracy: 0.7276\n",
      "Epoch 65/100\n",
      "23/23 [==============================] - 0s 11ms/step - loss: 0.9891 - accuracy: 0.7231 - val_loss: 1.0062 - val_accuracy: 0.7276\n",
      "Epoch 66/100\n",
      "23/23 [==============================] - 0s 10ms/step - loss: 0.9730 - accuracy: 0.7267 - val_loss: 1.0269 - val_accuracy: 0.7312\n",
      "Epoch 67/100\n",
      "23/23 [==============================] - 0s 11ms/step - loss: 0.9759 - accuracy: 0.7267 - val_loss: 1.0742 - val_accuracy: 0.7240\n",
      "Epoch 68/100\n",
      "23/23 [==============================] - 0s 11ms/step - loss: 1.0252 - accuracy: 0.7106 - val_loss: 1.0315 - val_accuracy: 0.7168\n",
      "Epoch 69/100\n",
      "23/23 [==============================] - 0s 13ms/step - loss: 0.9763 - accuracy: 0.7258 - val_loss: 1.0120 - val_accuracy: 0.7312\n",
      "Epoch 70/100\n",
      "23/23 [==============================] - 0s 10ms/step - loss: 0.9623 - accuracy: 0.7267 - val_loss: 1.0299 - val_accuracy: 0.7204\n",
      "Epoch 71/100\n",
      "23/23 [==============================] - 0s 12ms/step - loss: 0.9603 - accuracy: 0.7303 - val_loss: 1.0411 - val_accuracy: 0.7276\n",
      "Epoch 72/100\n",
      "23/23 [==============================] - 0s 11ms/step - loss: 0.9580 - accuracy: 0.7231 - val_loss: 1.0004 - val_accuracy: 0.7312\n",
      "Epoch 73/100\n",
      "23/23 [==============================] - 0s 11ms/step - loss: 0.9644 - accuracy: 0.7312 - val_loss: 1.0495 - val_accuracy: 0.7168\n",
      "Epoch 74/100\n",
      "23/23 [==============================] - 0s 10ms/step - loss: 0.9690 - accuracy: 0.7240 - val_loss: 1.0233 - val_accuracy: 0.7348\n",
      "Epoch 75/100\n",
      "23/23 [==============================] - 0s 9ms/step - loss: 0.9546 - accuracy: 0.7303 - val_loss: 1.0296 - val_accuracy: 0.7312\n",
      "Epoch 76/100\n",
      "23/23 [==============================] - 0s 9ms/step - loss: 0.9562 - accuracy: 0.7312 - val_loss: 1.0362 - val_accuracy: 0.7204\n",
      "Epoch 77/100\n",
      "23/23 [==============================] - 0s 9ms/step - loss: 0.9616 - accuracy: 0.7348 - val_loss: 1.0085 - val_accuracy: 0.7276\n",
      "Epoch 78/100\n",
      "23/23 [==============================] - 0s 9ms/step - loss: 0.9752 - accuracy: 0.7213 - val_loss: 1.0006 - val_accuracy: 0.7419\n",
      "Epoch 79/100\n",
      "23/23 [==============================] - 0s 9ms/step - loss: 0.9649 - accuracy: 0.7339 - val_loss: 1.0037 - val_accuracy: 0.7276\n",
      "Epoch 80/100\n",
      "23/23 [==============================] - 0s 8ms/step - loss: 0.9415 - accuracy: 0.7384 - val_loss: 0.9907 - val_accuracy: 0.7276\n",
      "Epoch 81/100\n",
      "23/23 [==============================] - 0s 8ms/step - loss: 0.9450 - accuracy: 0.7294 - val_loss: 1.0034 - val_accuracy: 0.7312\n",
      "Epoch 82/100\n",
      "23/23 [==============================] - 0s 9ms/step - loss: 0.9285 - accuracy: 0.7357 - val_loss: 1.0021 - val_accuracy: 0.7312\n",
      "Epoch 83/100\n",
      "23/23 [==============================] - 0s 9ms/step - loss: 0.9318 - accuracy: 0.7321 - val_loss: 1.0089 - val_accuracy: 0.7276\n",
      "Epoch 84/100\n",
      "23/23 [==============================] - 0s 9ms/step - loss: 0.9355 - accuracy: 0.7294 - val_loss: 0.9956 - val_accuracy: 0.7312\n",
      "Epoch 85/100\n",
      "23/23 [==============================] - 0s 9ms/step - loss: 0.9200 - accuracy: 0.7410 - val_loss: 1.0192 - val_accuracy: 0.7276\n",
      "Epoch 86/100\n",
      "23/23 [==============================] - 0s 9ms/step - loss: 0.9385 - accuracy: 0.7240 - val_loss: 1.0163 - val_accuracy: 0.7133\n",
      "Epoch 87/100\n",
      "23/23 [==============================] - 0s 10ms/step - loss: 0.9288 - accuracy: 0.7294 - val_loss: 1.0159 - val_accuracy: 0.7276\n",
      "Epoch 88/100\n",
      "23/23 [==============================] - 0s 9ms/step - loss: 0.9149 - accuracy: 0.7276 - val_loss: 1.0023 - val_accuracy: 0.7491\n",
      "Epoch 89/100\n",
      "23/23 [==============================] - 0s 12ms/step - loss: 0.9191 - accuracy: 0.7357 - val_loss: 1.0156 - val_accuracy: 0.7276\n",
      "Epoch 90/100\n",
      "23/23 [==============================] - 0s 10ms/step - loss: 0.9224 - accuracy: 0.7366 - val_loss: 1.0247 - val_accuracy: 0.7276\n",
      "Epoch 91/100\n",
      "23/23 [==============================] - 0s 10ms/step - loss: 0.9311 - accuracy: 0.7276 - val_loss: 1.0044 - val_accuracy: 0.7312\n",
      "Epoch 92/100\n",
      "23/23 [==============================] - 0s 10ms/step - loss: 0.9185 - accuracy: 0.7366 - val_loss: 1.0018 - val_accuracy: 0.7312\n",
      "Epoch 93/100\n",
      "23/23 [==============================] - 0s 11ms/step - loss: 0.9237 - accuracy: 0.7339 - val_loss: 0.9905 - val_accuracy: 0.7312\n",
      "Epoch 94/100\n",
      "23/23 [==============================] - 0s 10ms/step - loss: 0.9154 - accuracy: 0.7330 - val_loss: 1.0111 - val_accuracy: 0.7348\n",
      "Epoch 95/100\n",
      "23/23 [==============================] - 0s 9ms/step - loss: 0.9367 - accuracy: 0.7330 - val_loss: 1.0250 - val_accuracy: 0.7312\n",
      "Epoch 96/100\n",
      "23/23 [==============================] - 0s 12ms/step - loss: 0.9177 - accuracy: 0.7312 - val_loss: 1.0110 - val_accuracy: 0.7240\n",
      "Epoch 97/100\n",
      "23/23 [==============================] - 0s 10ms/step - loss: 0.9019 - accuracy: 0.7366 - val_loss: 0.9956 - val_accuracy: 0.7312\n",
      "Epoch 98/100\n",
      "23/23 [==============================] - 0s 11ms/step - loss: 0.8856 - accuracy: 0.7375 - val_loss: 1.0044 - val_accuracy: 0.7384\n",
      "Epoch 99/100\n",
      "23/23 [==============================] - 0s 10ms/step - loss: 0.8921 - accuracy: 0.7366 - val_loss: 0.9818 - val_accuracy: 0.7312\n",
      "Epoch 100/100\n",
      "23/23 [==============================] - 0s 10ms/step - loss: 0.9011 - accuracy: 0.7357 - val_loss: 1.0129 - val_accuracy: 0.7312\n",
      "Wall time: 27.3 s\n"
     ]
    }
   ],
   "source": [
    "%%time\n",
    "history = model.fit(X_train, y_train, batch_size=50, epochs=100, validation_split=0.2, verbose=1)"
   ]
  },
  {
   "cell_type": "code",
   "execution_count": 17,
   "id": "d21f31f7",
   "metadata": {},
   "outputs": [
    {
     "data": {
      "image/png": "[encoded data removed]",
      "text/plain": [
       "<Figure size 432x288 with 1 Axes>"
      ]
     },
     "metadata": {
      "needs_background": "light"
     },
     "output_type": "display_data"
    }
   ],
   "source": [
    "plt.plot(history.history['accuracy'])\n",
    "plt.plot(history.history['val_accuracy'])\n",
    "plt.legend(['training', 'validation'], loc = 'upper left')\n",
    "plt.show()"
   ]
  },
  {
   "cell_type": "code",
   "execution_count": 24,
   "id": "fa4c587a",
   "metadata": {},
   "outputs": [
    {
     "name": "stdout",
     "output_type": "stream",
     "text": [
      "44/44 [==============================] - 0s 3ms/step - loss: 0.9355 - accuracy: 0.7283\n",
      "Test accuracy:  0.7283154129981995\n"
     ]
    }
   ],
   "source": [
    "results = model.evaluate(X_test, y_test)\n",
    "print('Test accuracy: ', results[1])"
   ]
  },
  {
   "cell_type": "code",
   "execution_count": null,
   "id": "65d3ee2a",
   "metadata": {},
   "outputs": [],
   "source": []
  }
 ],
 "metadata": {
  "kernelspec": {
   "display_name": "Python 3",
   "language": "python",
   "name": "python3"
  },
  "language_info": {
   "codemirror_mode": {
    "name": "ipython",
    "version": 3
   },
   "file_extension": ".py",
   "mimetype": "text/x-python",
   "name": "python",
   "nbconvert_exporter": "python",
   "pygments_lexer": "ipython3",
   "version": "3.8.8"
  }
 },
 "nbformat": 4,
 "nbformat_minor": 5
}
